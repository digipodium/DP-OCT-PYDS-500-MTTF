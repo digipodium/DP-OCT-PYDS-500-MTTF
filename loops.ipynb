{
 "cells": [
  {
   "cell_type": "code",
   "execution_count": null,
   "metadata": {},
   "outputs": [],
   "source": [
    "print(1)\n",
    "print(2)\n",
    "print(3)\n",
    "print(4)"
   ]
  },
  {
   "cell_type": "code",
   "execution_count": 5,
   "metadata": {},
   "outputs": [
    {
     "name": "stdout",
     "output_type": "stream",
     "text": [
      "1👑2👑3👑4👑5👑6👑7👑8👑9👑10👑11👑12👑13👑14👑15👑16👑17👑18👑19👑20👑21👑22👑23👑24👑25👑26👑27👑28👑29👑30👑"
     ]
    }
   ],
   "source": [
    "for i in range(1, 31):\n",
    "    print(i, end='👑')"
   ]
  },
  {
   "cell_type": "markdown",
   "metadata": {},
   "source": [
    "#### displaying a table of 2"
   ]
  },
  {
   "cell_type": "code",
   "execution_count": 6,
   "metadata": {},
   "outputs": [
    {
     "name": "stdout",
     "output_type": "stream",
     "text": [
      "2 x 1 = 2\n",
      "2 x 2 = 4\n",
      "2 x 3 = 6\n",
      "2 x 4 = 8\n",
      "2 x 5 = 10\n",
      "2 x 6 = 12\n",
      "2 x 7 = 14\n",
      "2 x 8 = 16\n",
      "2 x 9 = 18\n",
      "2 x 10 = 20\n"
     ]
    }
   ],
   "source": [
    "for i in range(1, 11):\n",
    "    print(f'2 x {i} = {2 * i}')"
   ]
  },
  {
   "cell_type": "markdown",
   "metadata": {},
   "source": [
    "```\n",
    "range(10)           | 0 - 9\n",
    "range(5, 10)        | 5 - 9\n",
    "range(1, 10, 2)     | 1, 3, 5, 7, 9\n",
    "range(10, 0, -1)    | 10, 9, 8, 7, 6, 5, 4, 3, 2, 1\n",
    "```"
   ]
  },
  {
   "cell_type": "code",
   "execution_count": 1,
   "metadata": {},
   "outputs": [
    {
     "name": "stdout",
     "output_type": "stream",
     "text": [
      "1 6 11 16 21 26 31 36 41 46 51 56 61 66 71 76 81 86 91 96 "
     ]
    }
   ],
   "source": [
    "for i in range(1, 100, 5):\n",
    "    print(i, end=' ')"
   ]
  },
  {
   "cell_type": "code",
   "execution_count": 2,
   "metadata": {},
   "outputs": [
    {
     "name": "stdout",
     "output_type": "stream",
     "text": [
      "10 9 8 7 6 5 4 3 2 1 "
     ]
    }
   ],
   "source": [
    "# reverse loop\n",
    "for i in range(10, 0, -1):\n",
    "    print(i, end=' ')"
   ]
  },
  {
   "cell_type": "code",
   "execution_count": 4,
   "metadata": {},
   "outputs": [
    {
     "name": "stdout",
     "output_type": "stream",
     "text": [
      "potato🥔\n",
      "tomato🍅\n",
      "onion🧅\n",
      "cabbage🥬\n",
      "carrot🥕\n"
     ]
    }
   ],
   "source": [
    "veg = ['potato🥔', 'tomato🍅', 'onion🧅', 'cabbage🥬', 'carrot🥕']\n",
    "for item in veg:\n",
    "    print(item)"
   ]
  },
  {
   "cell_type": "markdown",
   "metadata": {},
   "source": [
    "enumerate()"
   ]
  },
  {
   "cell_type": "code",
   "execution_count": 5,
   "metadata": {},
   "outputs": [
    {
     "name": "stdout",
     "output_type": "stream",
     "text": [
      "(0, 'potato🥔')\n",
      "(1, 'tomato🍅')\n",
      "(2, 'onion🧅')\n",
      "(3, 'cabbage🥬')\n",
      "(4, 'carrot🥕')\n"
     ]
    }
   ],
   "source": [
    "for item in enumerate(veg):\n",
    "    print(item)"
   ]
  },
  {
   "cell_type": "markdown",
   "metadata": {},
   "source": [
    "correct version of enumerate"
   ]
  },
  {
   "cell_type": "code",
   "execution_count": 8,
   "metadata": {},
   "outputs": [
    {
     "name": "stdout",
     "output_type": "stream",
     "text": [
      "0 potato🥔\n",
      "1 tomato🍅\n",
      "2 onion🧅\n",
      "3 cabbage🥬\n",
      "4 carrot🥕\n"
     ]
    }
   ],
   "source": [
    "for index, value in enumerate(veg):\n",
    "    print(index, value)"
   ]
  },
  {
   "cell_type": "markdown",
   "metadata": {},
   "source": [
    "zip"
   ]
  },
  {
   "cell_type": "code",
   "execution_count": 10,
   "metadata": {},
   "outputs": [],
   "source": [
    "veg = ['potato🥔', 'tomato🍅', 'onion🧅', 'cabbage🥬', 'carrot🥕']\n",
    "prices = [35, 80, 30, 15, 30]"
   ]
  },
  {
   "cell_type": "code",
   "execution_count": 15,
   "metadata": {},
   "outputs": [
    {
     "name": "stdout",
     "output_type": "stream",
     "text": [
      "potato🥔 --------- 💵35\n",
      "tomato🍅 --------- 💵80\n",
      "onion🧅 --------- 💵30\n",
      "cabbage🥬 --------- 💵15\n",
      "carrot🥕 --------- 💵30\n"
     ]
    }
   ],
   "source": [
    "# non-pythonic way\n",
    "for i in range(len(veg)):\n",
    "    print(f'{veg[i]} --------- 💵{prices[i]}')"
   ]
  },
  {
   "cell_type": "code",
   "execution_count": 16,
   "metadata": {},
   "outputs": [
    {
     "name": "stdout",
     "output_type": "stream",
     "text": [
      "potato🥔 --------- 💵35\n",
      "tomato🍅 --------- 💵80\n",
      "onion🧅 --------- 💵30\n",
      "cabbage🥬 --------- 💵15\n",
      "carrot🥕 --------- 💵30\n"
     ]
    }
   ],
   "source": [
    "# pythonic \n",
    "for v,p in zip(veg, prices):\n",
    "    print(f'{v} --------- 💵{p}')"
   ]
  },
  {
   "cell_type": "markdown",
   "metadata": {},
   "source": [
    "#### wap to print the following lists using zip\n",
    "- list1 contains movie title\n",
    "- list2 contains movie rating\n",
    "- list3 contains movie year\n",
    "- list4 contains movie director\n"
   ]
  },
  {
   "cell_type": "markdown",
   "metadata": {},
   "source": [
    "### nested loop"
   ]
  },
  {
   "cell_type": "code",
   "execution_count": 17,
   "metadata": {},
   "outputs": [
    {
     "name": "stdout",
     "output_type": "stream",
     "text": [
      "0 1 2 3 4 5 6 7 8 9 \n",
      "0 1 2 3 4 5 6 7 8 9 \n",
      "0 1 2 3 4 5 6 7 8 9 \n",
      "0 1 2 3 4 5 6 7 8 9 \n",
      "0 1 2 3 4 5 6 7 8 9 \n",
      "0 1 2 3 4 5 6 7 8 9 \n",
      "0 1 2 3 4 5 6 7 8 9 \n",
      "0 1 2 3 4 5 6 7 8 9 \n",
      "0 1 2 3 4 5 6 7 8 9 \n",
      "0 1 2 3 4 5 6 7 8 9 \n"
     ]
    }
   ],
   "source": [
    "for i in range(10):\n",
    "    for i in range(10):\n",
    "        print(i, end=' ')\n",
    "    print()"
   ]
  },
  {
   "cell_type": "markdown",
   "metadata": {},
   "source": [
    "### break and continue"
   ]
  },
  {
   "cell_type": "code",
   "execution_count": 23,
   "metadata": {},
   "outputs": [
    {
     "name": "stdout",
     "output_type": "stream",
     "text": [
      "1\n",
      "2\n",
      "3\n",
      "4\n"
     ]
    }
   ],
   "source": [
    "x = [1, 2, 3, 4, 0, 0, 5]\n",
    "for i in x:\n",
    "    if i == 0:\n",
    "        break\n",
    "    print(i)"
   ]
  },
  {
   "cell_type": "markdown",
   "metadata": {},
   "source": [
    "### for-else"
   ]
  },
  {
   "cell_type": "code",
   "execution_count": 24,
   "metadata": {},
   "outputs": [
    {
     "name": "stdout",
     "output_type": "stream",
     "text": [
      "1\n",
      "2\n",
      "3\n",
      "4\n",
      "5\n"
     ]
    }
   ],
   "source": [
    "x = [1, 2, 0, 3, 4, 0, 0, 5]\n",
    "for i in x:\n",
    "    if i == 0:\n",
    "        continue\n",
    "    print(i)"
   ]
  },
  {
   "cell_type": "code",
   "execution_count": 25,
   "metadata": {},
   "outputs": [
    {
     "name": "stdout",
     "output_type": "stream",
     "text": [
      "1\n",
      "2\n",
      "3\n",
      "4\n",
      "5\n"
     ]
    }
   ],
   "source": [
    "for i in x:\n",
    "    if i != 0:\n",
    "        print(i)"
   ]
  },
  {
   "cell_type": "code",
   "execution_count": 30,
   "metadata": {},
   "outputs": [
    {
     "name": "stdout",
     "output_type": "stream",
     "text": [
      "prime\n"
     ]
    }
   ],
   "source": [
    "num = 1231\n",
    "for i in range(2, num):\n",
    "    if num % i == 0:\n",
    "        print('not prime')\n",
    "        break\n",
    "else: # else block will execute only if the for loop is not broken\n",
    "    print('prime')"
   ]
  },
  {
   "cell_type": "code",
   "execution_count": 31,
   "metadata": {},
   "outputs": [
    {
     "name": "stdout",
     "output_type": "stream",
     "text": [
      "2 3 5 7 11 13 17 19 23 29 31 37 41 43 47 53 59 61 67 71 73 79 83 89 97 "
     ]
    }
   ],
   "source": [
    "for num in range(1, 100):\n",
    "    if num == 1:\n",
    "        continue\n",
    "    for i in range(2, num):\n",
    "        if num % i == 0:\n",
    "            break\n",
    "    else:\n",
    "        print(num, end=' ')"
   ]
  },
  {
   "cell_type": "code",
   "execution_count": 42,
   "metadata": {},
   "outputs": [
    {
     "name": "stdout",
     "output_type": "stream",
     "text": [
      "0\n",
      "1\n",
      "2\n"
     ]
    }
   ],
   "source": [
    "for i in range(5):\n",
    "    if i == 3:\n",
    "        break\n",
    "    print(i)\n",
    "else:\n",
    "    print('done')"
   ]
  },
  {
   "cell_type": "markdown",
   "metadata": {},
   "source": [
    "# while loop"
   ]
  },
  {
   "cell_type": "code",
   "execution_count": 41,
   "metadata": {},
   "outputs": [
    {
     "name": "stdout",
     "output_type": "stream",
     "text": [
      "8\n",
      "6\n",
      "4\n",
      "2\n",
      "0\n"
     ]
    }
   ],
   "source": [
    "x = 10\n",
    "while x > 0:\n",
    "    x -= 2\n",
    "    print(x)"
   ]
  },
  {
   "cell_type": "code",
   "execution_count": 45,
   "metadata": {},
   "outputs": [
    {
     "name": "stdout",
     "output_type": "stream",
     "text": [
      "Total is 46\n"
     ]
    }
   ],
   "source": [
    "total = 0\n",
    "while True:\n",
    "    num = int(input('enter a number: '))\n",
    "    if num == 0:\n",
    "        break\n",
    "    total += num\n",
    "print(f'Total is {total}')"
   ]
  },
  {
   "cell_type": "code",
   "execution_count": 1,
   "metadata": {},
   "outputs": [
    {
     "name": "stdout",
     "output_type": "stream",
     "text": [
      "These are your books\n",
      "['the hero of ages', 'the final empire', 'the well of ascension', 'the way of kings', 'words of radiance']\n"
     ]
    }
   ],
   "source": [
    "books = [] # empty list\n",
    "while True:\n",
    "    name = input('Enter book name: ')\n",
    "    if name:\n",
    "        books.append(name) # add item to list\n",
    "    else:\n",
    "        break\n",
    "print(\"These are your books\")\n",
    "print(books)"
   ]
  },
  {
   "cell_type": "code",
   "execution_count": null,
   "metadata": {},
   "outputs": [],
   "source": [
    "# fibonacci series"
   ]
  }
 ],
 "metadata": {
  "kernelspec": {
   "display_name": "Python 3.9.13 ('base')",
   "language": "python",
   "name": "python3"
  },
  "language_info": {
   "codemirror_mode": {
    "name": "ipython",
    "version": 3
   },
   "file_extension": ".py",
   "mimetype": "text/x-python",
   "name": "python",
   "nbconvert_exporter": "python",
   "pygments_lexer": "ipython3",
   "version": "3.9.13"
  },
  "orig_nbformat": 4,
  "vscode": {
   "interpreter": {
    "hash": "203ec5af3e26acf3e3c83a4183d4b4efe59642f60e2721ccf6236536a59ece46"
   }
  }
 },
 "nbformat": 4,
 "nbformat_minor": 2
}
