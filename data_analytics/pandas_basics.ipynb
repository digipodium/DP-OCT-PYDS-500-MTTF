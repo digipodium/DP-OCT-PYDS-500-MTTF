{
 "cells": [
  {
   "cell_type": "code",
   "execution_count": 8,
   "metadata": {},
   "outputs": [],
   "source": [
    "import pandas as pd\n",
    "import numpy as np\n",
    "import matplotlib.pyplot as plt\n",
    "import plotly.express as px"
   ]
  },
  {
   "cell_type": "code",
   "execution_count": 9,
   "metadata": {},
   "outputs": [
    {
     "name": "stderr",
     "output_type": "stream",
     "text": [
      "C:\\Users\\ZAID\\AppData\\Local\\Temp\\ipykernel_15304\\3464779290.py:1: DtypeWarning: Columns (1,2,3,5,6,7,8,11) have mixed types. Specify dtype option on import or set low_memory=False.\n",
      "  df = pd.read_csv('incidents_small.csv', parse_dates=['Date'])\n"
     ]
    },
    {
     "data": {
      "text/html": [
       "<div>\n",
       "<style scoped>\n",
       "    .dataframe tbody tr th:only-of-type {\n",
       "        vertical-align: middle;\n",
       "    }\n",
       "\n",
       "    .dataframe tbody tr th {\n",
       "        vertical-align: top;\n",
       "    }\n",
       "\n",
       "    .dataframe thead th {\n",
       "        text-align: right;\n",
       "    }\n",
       "</style>\n",
       "<table border=\"1\" class=\"dataframe\">\n",
       "  <thead>\n",
       "    <tr style=\"text-align: right;\">\n",
       "      <th></th>\n",
       "      <th>IncidntNum</th>\n",
       "      <th>Category</th>\n",
       "      <th>Descript</th>\n",
       "      <th>DayOfWeek</th>\n",
       "      <th>Date</th>\n",
       "      <th>Time</th>\n",
       "      <th>PdDistrict</th>\n",
       "      <th>Resolution</th>\n",
       "      <th>Address</th>\n",
       "      <th>X</th>\n",
       "      <th>Y</th>\n",
       "      <th>Location</th>\n",
       "      <th>PdId</th>\n",
       "    </tr>\n",
       "  </thead>\n",
       "  <tbody>\n",
       "    <tr>\n",
       "      <th>0</th>\n",
       "      <td>120058272.0</td>\n",
       "      <td>WEAPON LAWS</td>\n",
       "      <td>POSS OF PROHIBITED WEAPON</td>\n",
       "      <td>Friday</td>\n",
       "      <td>2016-01-29</td>\n",
       "      <td>11:00</td>\n",
       "      <td>SOUTHERN</td>\n",
       "      <td>ARREST, BOOKED</td>\n",
       "      <td>800 Block of BRYANT ST</td>\n",
       "      <td>-122.403405</td>\n",
       "      <td>37.775421</td>\n",
       "      <td>(37.775420706711, -122.403404791479)</td>\n",
       "      <td>1.200580e+13</td>\n",
       "    </tr>\n",
       "    <tr>\n",
       "      <th>1</th>\n",
       "      <td>120058272.0</td>\n",
       "      <td>WEAPON LAWS</td>\n",
       "      <td>FIREARM, LOADED, IN VEHICLE, POSSESSION OR USE</td>\n",
       "      <td>Friday</td>\n",
       "      <td>2016-01-29</td>\n",
       "      <td>11:00</td>\n",
       "      <td>SOUTHERN</td>\n",
       "      <td>ARREST, BOOKED</td>\n",
       "      <td>800 Block of BRYANT ST</td>\n",
       "      <td>-122.403405</td>\n",
       "      <td>37.775421</td>\n",
       "      <td>(37.775420706711, -122.403404791479)</td>\n",
       "      <td>1.200580e+13</td>\n",
       "    </tr>\n",
       "    <tr>\n",
       "      <th>2</th>\n",
       "      <td>141059263.0</td>\n",
       "      <td>WARRANTS</td>\n",
       "      <td>WARRANT ARREST</td>\n",
       "      <td>Monday</td>\n",
       "      <td>2016-04-25</td>\n",
       "      <td>14:59</td>\n",
       "      <td>BAYVIEW</td>\n",
       "      <td>ARREST, BOOKED</td>\n",
       "      <td>KEITH ST / SHAFTER AV</td>\n",
       "      <td>-122.388856</td>\n",
       "      <td>37.729981</td>\n",
       "      <td>(37.7299809672996, -122.388856204292)</td>\n",
       "      <td>1.410590e+13</td>\n",
       "    </tr>\n",
       "    <tr>\n",
       "      <th>3</th>\n",
       "      <td>160013662.0</td>\n",
       "      <td>NON-CRIMINAL</td>\n",
       "      <td>LOST PROPERTY</td>\n",
       "      <td>Tuesday</td>\n",
       "      <td>2016-01-05</td>\n",
       "      <td>23:50</td>\n",
       "      <td>TENDERLOIN</td>\n",
       "      <td>NONE</td>\n",
       "      <td>JONES ST / OFARRELL ST</td>\n",
       "      <td>-122.412971</td>\n",
       "      <td>37.785788</td>\n",
       "      <td>(37.7857883766888, -122.412970537591)</td>\n",
       "      <td>1.600140e+13</td>\n",
       "    </tr>\n",
       "    <tr>\n",
       "      <th>4</th>\n",
       "      <td>160002740.0</td>\n",
       "      <td>NON-CRIMINAL</td>\n",
       "      <td>LOST PROPERTY</td>\n",
       "      <td>Friday</td>\n",
       "      <td>2016-01-01</td>\n",
       "      <td>00:30</td>\n",
       "      <td>MISSION</td>\n",
       "      <td>NONE</td>\n",
       "      <td>16TH ST / MISSION ST</td>\n",
       "      <td>-122.419672</td>\n",
       "      <td>37.765050</td>\n",
       "      <td>(37.7650501214668, -122.419671780296)</td>\n",
       "      <td>1.600030e+13</td>\n",
       "    </tr>\n",
       "    <tr>\n",
       "      <th>...</th>\n",
       "      <td>...</td>\n",
       "      <td>...</td>\n",
       "      <td>...</td>\n",
       "      <td>...</td>\n",
       "      <td>...</td>\n",
       "      <td>...</td>\n",
       "      <td>...</td>\n",
       "      <td>...</td>\n",
       "      <td>...</td>\n",
       "      <td>...</td>\n",
       "      <td>...</td>\n",
       "      <td>...</td>\n",
       "      <td>...</td>\n",
       "    </tr>\n",
       "    <tr>\n",
       "      <th>150495</th>\n",
       "      <td>NaN</td>\n",
       "      <td>NaN</td>\n",
       "      <td>NaN</td>\n",
       "      <td>NaN</td>\n",
       "      <td>NaT</td>\n",
       "      <td>NaN</td>\n",
       "      <td>NaN</td>\n",
       "      <td>NaN</td>\n",
       "      <td>NaN</td>\n",
       "      <td>NaN</td>\n",
       "      <td>NaN</td>\n",
       "      <td>NaN</td>\n",
       "      <td>NaN</td>\n",
       "    </tr>\n",
       "    <tr>\n",
       "      <th>150496</th>\n",
       "      <td>NaN</td>\n",
       "      <td>NaN</td>\n",
       "      <td>NaN</td>\n",
       "      <td>NaN</td>\n",
       "      <td>NaT</td>\n",
       "      <td>NaN</td>\n",
       "      <td>NaN</td>\n",
       "      <td>NaN</td>\n",
       "      <td>NaN</td>\n",
       "      <td>NaN</td>\n",
       "      <td>NaN</td>\n",
       "      <td>NaN</td>\n",
       "      <td>NaN</td>\n",
       "    </tr>\n",
       "    <tr>\n",
       "      <th>150497</th>\n",
       "      <td>NaN</td>\n",
       "      <td>NaN</td>\n",
       "      <td>NaN</td>\n",
       "      <td>NaN</td>\n",
       "      <td>NaT</td>\n",
       "      <td>NaN</td>\n",
       "      <td>NaN</td>\n",
       "      <td>NaN</td>\n",
       "      <td>NaN</td>\n",
       "      <td>NaN</td>\n",
       "      <td>NaN</td>\n",
       "      <td>NaN</td>\n",
       "      <td>NaN</td>\n",
       "    </tr>\n",
       "    <tr>\n",
       "      <th>150498</th>\n",
       "      <td>NaN</td>\n",
       "      <td>NaN</td>\n",
       "      <td>NaN</td>\n",
       "      <td>NaN</td>\n",
       "      <td>NaT</td>\n",
       "      <td>NaN</td>\n",
       "      <td>NaN</td>\n",
       "      <td>NaN</td>\n",
       "      <td>NaN</td>\n",
       "      <td>NaN</td>\n",
       "      <td>NaN</td>\n",
       "      <td>NaN</td>\n",
       "      <td>NaN</td>\n",
       "    </tr>\n",
       "    <tr>\n",
       "      <th>150499</th>\n",
       "      <td>NaN</td>\n",
       "      <td>NaN</td>\n",
       "      <td>NaN</td>\n",
       "      <td>NaN</td>\n",
       "      <td>NaT</td>\n",
       "      <td>NaN</td>\n",
       "      <td>NaN</td>\n",
       "      <td>NaN</td>\n",
       "      <td>NaN</td>\n",
       "      <td>NaN</td>\n",
       "      <td>NaN</td>\n",
       "      <td>NaN</td>\n",
       "      <td>NaN</td>\n",
       "    </tr>\n",
       "  </tbody>\n",
       "</table>\n",
       "<p>150500 rows × 13 columns</p>\n",
       "</div>"
      ],
      "text/plain": [
       "         IncidntNum      Category  \\\n",
       "0       120058272.0   WEAPON LAWS   \n",
       "1       120058272.0   WEAPON LAWS   \n",
       "2       141059263.0      WARRANTS   \n",
       "3       160013662.0  NON-CRIMINAL   \n",
       "4       160002740.0  NON-CRIMINAL   \n",
       "...             ...           ...   \n",
       "150495          NaN           NaN   \n",
       "150496          NaN           NaN   \n",
       "150497          NaN           NaN   \n",
       "150498          NaN           NaN   \n",
       "150499          NaN           NaN   \n",
       "\n",
       "                                              Descript DayOfWeek       Date  \\\n",
       "0                            POSS OF PROHIBITED WEAPON    Friday 2016-01-29   \n",
       "1       FIREARM, LOADED, IN VEHICLE, POSSESSION OR USE    Friday 2016-01-29   \n",
       "2                                       WARRANT ARREST    Monday 2016-04-25   \n",
       "3                                        LOST PROPERTY   Tuesday 2016-01-05   \n",
       "4                                        LOST PROPERTY    Friday 2016-01-01   \n",
       "...                                                ...       ...        ...   \n",
       "150495                                             NaN       NaN        NaT   \n",
       "150496                                             NaN       NaN        NaT   \n",
       "150497                                             NaN       NaN        NaT   \n",
       "150498                                             NaN       NaN        NaT   \n",
       "150499                                             NaN       NaN        NaT   \n",
       "\n",
       "         Time  PdDistrict      Resolution                 Address           X  \\\n",
       "0       11:00    SOUTHERN  ARREST, BOOKED  800 Block of BRYANT ST -122.403405   \n",
       "1       11:00    SOUTHERN  ARREST, BOOKED  800 Block of BRYANT ST -122.403405   \n",
       "2       14:59     BAYVIEW  ARREST, BOOKED   KEITH ST / SHAFTER AV -122.388856   \n",
       "3       23:50  TENDERLOIN            NONE  JONES ST / OFARRELL ST -122.412971   \n",
       "4       00:30     MISSION            NONE    16TH ST / MISSION ST -122.419672   \n",
       "...       ...         ...             ...                     ...         ...   \n",
       "150495    NaN         NaN             NaN                     NaN         NaN   \n",
       "150496    NaN         NaN             NaN                     NaN         NaN   \n",
       "150497    NaN         NaN             NaN                     NaN         NaN   \n",
       "150498    NaN         NaN             NaN                     NaN         NaN   \n",
       "150499    NaN         NaN             NaN                     NaN         NaN   \n",
       "\n",
       "                Y                               Location          PdId  \n",
       "0       37.775421   (37.775420706711, -122.403404791479)  1.200580e+13  \n",
       "1       37.775421   (37.775420706711, -122.403404791479)  1.200580e+13  \n",
       "2       37.729981  (37.7299809672996, -122.388856204292)  1.410590e+13  \n",
       "3       37.785788  (37.7857883766888, -122.412970537591)  1.600140e+13  \n",
       "4       37.765050  (37.7650501214668, -122.419671780296)  1.600030e+13  \n",
       "...           ...                                    ...           ...  \n",
       "150495        NaN                                    NaN           NaN  \n",
       "150496        NaN                                    NaN           NaN  \n",
       "150497        NaN                                    NaN           NaN  \n",
       "150498        NaN                                    NaN           NaN  \n",
       "150499        NaN                                    NaN           NaN  \n",
       "\n",
       "[150500 rows x 13 columns]"
      ]
     },
     "execution_count": 9,
     "metadata": {},
     "output_type": "execute_result"
    }
   ],
   "source": [
    "df = pd.read_csv('incidents_small.csv', parse_dates=['Date'])\n",
    "df"
   ]
  },
  {
   "cell_type": "code",
   "execution_count": 10,
   "metadata": {},
   "outputs": [
    {
     "name": "stdout",
     "output_type": "stream",
     "text": [
      "<class 'pandas.core.frame.DataFrame'>\n",
      "RangeIndex: 150500 entries, 0 to 150499\n",
      "Data columns (total 13 columns):\n",
      " #   Column      Non-Null Count  Dtype         \n",
      "---  ------      --------------  -----         \n",
      " 0   IncidntNum  10019 non-null  float64       \n",
      " 1   Category    10019 non-null  object        \n",
      " 2   Descript    10019 non-null  object        \n",
      " 3   DayOfWeek   10019 non-null  object        \n",
      " 4   Date        10019 non-null  datetime64[ns]\n",
      " 5   Time        10019 non-null  object        \n",
      " 6   PdDistrict  10019 non-null  object        \n",
      " 7   Resolution  10019 non-null  object        \n",
      " 8   Address     10019 non-null  object        \n",
      " 9   X           10019 non-null  float64       \n",
      " 10  Y           10019 non-null  float64       \n",
      " 11  Location    10019 non-null  object        \n",
      " 12  PdId        10019 non-null  float64       \n",
      "dtypes: datetime64[ns](1), float64(4), object(8)\n",
      "memory usage: 14.9+ MB\n"
     ]
    }
   ],
   "source": [
    "df.info()"
   ]
  },
  {
   "cell_type": "code",
   "execution_count": 11,
   "metadata": {},
   "outputs": [
    {
     "data": {
      "text/plain": [
       "(10019, 13)"
      ]
     },
     "execution_count": 11,
     "metadata": {},
     "output_type": "execute_result"
    }
   ],
   "source": [
    "df.dropna(inplace=True) # eliminate rows with missing values\n",
    "df.shape"
   ]
  },
  {
   "cell_type": "code",
   "execution_count": 14,
   "metadata": {},
   "outputs": [
    {
     "data": {
      "text/html": [
       "<div>\n",
       "<style scoped>\n",
       "    .dataframe tbody tr th:only-of-type {\n",
       "        vertical-align: middle;\n",
       "    }\n",
       "\n",
       "    .dataframe tbody tr th {\n",
       "        vertical-align: top;\n",
       "    }\n",
       "\n",
       "    .dataframe thead th {\n",
       "        text-align: right;\n",
       "    }\n",
       "</style>\n",
       "<table border=\"1\" class=\"dataframe\">\n",
       "  <thead>\n",
       "    <tr style=\"text-align: right;\">\n",
       "      <th></th>\n",
       "      <th>IncidntNum</th>\n",
       "      <th>Category</th>\n",
       "      <th>Descript</th>\n",
       "      <th>DayOfWeek</th>\n",
       "      <th>Date</th>\n",
       "      <th>Time</th>\n",
       "      <th>PdDistrict</th>\n",
       "      <th>Resolution</th>\n",
       "      <th>Address</th>\n",
       "      <th>X</th>\n",
       "      <th>Y</th>\n",
       "      <th>Location</th>\n",
       "      <th>PdId</th>\n",
       "    </tr>\n",
       "  </thead>\n",
       "  <tbody>\n",
       "    <tr>\n",
       "      <th>419</th>\n",
       "      <td>16003604.0</td>\n",
       "      <td>LARCENY/THEFT</td>\n",
       "      <td>GRAND THEFT FROM A BUILDING</td>\n",
       "      <td>Thursday</td>\n",
       "      <td>2016-01-14</td>\n",
       "      <td>15:55</td>\n",
       "      <td>RICHMOND</td>\n",
       "      <td>NONE</td>\n",
       "      <td>400 Block of 9TH AV</td>\n",
       "      <td>-122.467489</td>\n",
       "      <td>37.779891</td>\n",
       "      <td>(37.7798911973996, -122.467488647124)</td>\n",
       "      <td>1.600360e+12</td>\n",
       "    </tr>\n",
       "    <tr>\n",
       "      <th>1</th>\n",
       "      <td>120058272.0</td>\n",
       "      <td>WEAPON LAWS</td>\n",
       "      <td>FIREARM, LOADED, IN VEHICLE, POSSESSION OR USE</td>\n",
       "      <td>Friday</td>\n",
       "      <td>2016-01-29</td>\n",
       "      <td>11:00</td>\n",
       "      <td>SOUTHERN</td>\n",
       "      <td>ARREST, BOOKED</td>\n",
       "      <td>800 Block of BRYANT ST</td>\n",
       "      <td>-122.403405</td>\n",
       "      <td>37.775421</td>\n",
       "      <td>(37.775420706711, -122.403404791479)</td>\n",
       "      <td>1.200580e+13</td>\n",
       "    </tr>\n",
       "    <tr>\n",
       "      <th>0</th>\n",
       "      <td>120058272.0</td>\n",
       "      <td>WEAPON LAWS</td>\n",
       "      <td>POSS OF PROHIBITED WEAPON</td>\n",
       "      <td>Friday</td>\n",
       "      <td>2016-01-29</td>\n",
       "      <td>11:00</td>\n",
       "      <td>SOUTHERN</td>\n",
       "      <td>ARREST, BOOKED</td>\n",
       "      <td>800 Block of BRYANT ST</td>\n",
       "      <td>-122.403405</td>\n",
       "      <td>37.775421</td>\n",
       "      <td>(37.775420706711, -122.403404791479)</td>\n",
       "      <td>1.200580e+13</td>\n",
       "    </tr>\n",
       "    <tr>\n",
       "      <th>178</th>\n",
       "      <td>120725318.0</td>\n",
       "      <td>BURGLARY</td>\n",
       "      <td>BURGLARY OF RESIDENCE, FORCIBLE ENTRY</td>\n",
       "      <td>Saturday</td>\n",
       "      <td>2016-08-27</td>\n",
       "      <td>17:30</td>\n",
       "      <td>RICHMOND</td>\n",
       "      <td>UNFOUNDED</td>\n",
       "      <td>100 Block of 16TH AV</td>\n",
       "      <td>-122.475505</td>\n",
       "      <td>37.785229</td>\n",
       "      <td>(37.7852294851953, -122.475505142311)</td>\n",
       "      <td>1.207250e+13</td>\n",
       "    </tr>\n",
       "    <tr>\n",
       "      <th>179</th>\n",
       "      <td>120725318.0</td>\n",
       "      <td>NON-CRIMINAL</td>\n",
       "      <td>FOUND PROPERTY</td>\n",
       "      <td>Saturday</td>\n",
       "      <td>2016-08-27</td>\n",
       "      <td>17:30</td>\n",
       "      <td>RICHMOND</td>\n",
       "      <td>UNFOUNDED</td>\n",
       "      <td>100 Block of 16TH AV</td>\n",
       "      <td>-122.475505</td>\n",
       "      <td>37.785229</td>\n",
       "      <td>(37.7852294851953, -122.475505142311)</td>\n",
       "      <td>1.207250e+13</td>\n",
       "    </tr>\n",
       "    <tr>\n",
       "      <th>181</th>\n",
       "      <td>120789988.0</td>\n",
       "      <td>MISSING PERSON</td>\n",
       "      <td>MISSING JUVENILE</td>\n",
       "      <td>Monday</td>\n",
       "      <td>2016-05-16</td>\n",
       "      <td>00:41</td>\n",
       "      <td>INGLESIDE</td>\n",
       "      <td>NONE</td>\n",
       "      <td>WOOLSEY ST / UNIVERSITY ST</td>\n",
       "      <td>-122.412470</td>\n",
       "      <td>37.722659</td>\n",
       "      <td>(37.7226585129212, -122.412469643631)</td>\n",
       "      <td>1.207900e+13</td>\n",
       "    </tr>\n",
       "    <tr>\n",
       "      <th>896</th>\n",
       "      <td>120789988.0</td>\n",
       "      <td>MISSING PERSON</td>\n",
       "      <td>FOUND PERSON</td>\n",
       "      <td>Monday</td>\n",
       "      <td>2016-05-16</td>\n",
       "      <td>00:41</td>\n",
       "      <td>INGLESIDE</td>\n",
       "      <td>NONE</td>\n",
       "      <td>WOOLSEY ST / UNIVERSITY ST</td>\n",
       "      <td>-122.412470</td>\n",
       "      <td>37.722659</td>\n",
       "      <td>(37.7226585129212, -122.412469643631)</td>\n",
       "      <td>1.207900e+13</td>\n",
       "    </tr>\n",
       "    <tr>\n",
       "      <th>180</th>\n",
       "      <td>120789988.0</td>\n",
       "      <td>RUNAWAY</td>\n",
       "      <td>RUNAWAY</td>\n",
       "      <td>Monday</td>\n",
       "      <td>2016-05-16</td>\n",
       "      <td>00:41</td>\n",
       "      <td>INGLESIDE</td>\n",
       "      <td>NONE</td>\n",
       "      <td>WOOLSEY ST / UNIVERSITY ST</td>\n",
       "      <td>-122.412470</td>\n",
       "      <td>37.722659</td>\n",
       "      <td>(37.7226585129212, -122.412469643631)</td>\n",
       "      <td>1.207900e+13</td>\n",
       "    </tr>\n",
       "    <tr>\n",
       "      <th>898</th>\n",
       "      <td>130190030.0</td>\n",
       "      <td>NON-CRIMINAL</td>\n",
       "      <td>LICENSE PLATE, RECOVERED</td>\n",
       "      <td>Saturday</td>\n",
       "      <td>2016-03-26</td>\n",
       "      <td>14:03</td>\n",
       "      <td>PARK</td>\n",
       "      <td>NONE</td>\n",
       "      <td>500 Block of PARNASSUS AV</td>\n",
       "      <td>-122.458221</td>\n",
       "      <td>37.763312</td>\n",
       "      <td>(37.7633123961354, -122.458220811697)</td>\n",
       "      <td>1.301900e+13</td>\n",
       "    </tr>\n",
       "    <tr>\n",
       "      <th>897</th>\n",
       "      <td>130190030.0</td>\n",
       "      <td>OTHER OFFENSES</td>\n",
       "      <td>LOST/STOLEN LICENSE PLATE</td>\n",
       "      <td>Saturday</td>\n",
       "      <td>2016-03-26</td>\n",
       "      <td>14:03</td>\n",
       "      <td>PARK</td>\n",
       "      <td>NONE</td>\n",
       "      <td>500 Block of PARNASSUS AV</td>\n",
       "      <td>-122.458221</td>\n",
       "      <td>37.763312</td>\n",
       "      <td>(37.7633123961354, -122.458220811697)</td>\n",
       "      <td>1.301900e+13</td>\n",
       "    </tr>\n",
       "    <tr>\n",
       "      <th>899</th>\n",
       "      <td>140332012.0</td>\n",
       "      <td>DRUG/NARCOTIC</td>\n",
       "      <td>POSSESSION OF NARCOTICS PARAPHERNALIA</td>\n",
       "      <td>Monday</td>\n",
       "      <td>2016-05-23</td>\n",
       "      <td>13:53</td>\n",
       "      <td>MISSION</td>\n",
       "      <td>ARREST, BOOKED</td>\n",
       "      <td>400 Block of CASTRO ST</td>\n",
       "      <td>-122.435150</td>\n",
       "      <td>37.761760</td>\n",
       "      <td>(37.7617597243598, -122.435150099812)</td>\n",
       "      <td>1.403320e+13</td>\n",
       "    </tr>\n",
       "    <tr>\n",
       "      <th>901</th>\n",
       "      <td>140464217.0</td>\n",
       "      <td>WARRANTS</td>\n",
       "      <td>WARRANT ARREST</td>\n",
       "      <td>Thursday</td>\n",
       "      <td>2016-04-28</td>\n",
       "      <td>23:31</td>\n",
       "      <td>PARK</td>\n",
       "      <td>ARREST, BOOKED</td>\n",
       "      <td>7TH AV / HUGO ST</td>\n",
       "      <td>-122.464236</td>\n",
       "      <td>37.765066</td>\n",
       "      <td>(37.7650658096524, -122.464236532783)</td>\n",
       "      <td>1.404640e+13</td>\n",
       "    </tr>\n",
       "    <tr>\n",
       "      <th>900</th>\n",
       "      <td>140464217.0</td>\n",
       "      <td>OTHER OFFENSES</td>\n",
       "      <td>RESISTING ARREST</td>\n",
       "      <td>Thursday</td>\n",
       "      <td>2016-04-28</td>\n",
       "      <td>23:31</td>\n",
       "      <td>PARK</td>\n",
       "      <td>ARREST, BOOKED</td>\n",
       "      <td>7TH AV / HUGO ST</td>\n",
       "      <td>-122.464236</td>\n",
       "      <td>37.765066</td>\n",
       "      <td>(37.7650658096524, -122.464236532783)</td>\n",
       "      <td>1.404640e+13</td>\n",
       "    </tr>\n",
       "    <tr>\n",
       "      <th>902</th>\n",
       "      <td>140558020.0</td>\n",
       "      <td>LARCENY/THEFT</td>\n",
       "      <td>PETTY THEFT WITH PRIOR</td>\n",
       "      <td>Thursday</td>\n",
       "      <td>2016-07-07</td>\n",
       "      <td>09:39</td>\n",
       "      <td>SOUTHERN</td>\n",
       "      <td>ARREST, BOOKED</td>\n",
       "      <td>0 Block of UNITEDNATIONS PZ</td>\n",
       "      <td>-122.414318</td>\n",
       "      <td>37.779944</td>\n",
       "      <td>(37.7799444052046, -122.414317857881)</td>\n",
       "      <td>1.405580e+13</td>\n",
       "    </tr>\n",
       "    <tr>\n",
       "      <th>13</th>\n",
       "      <td>140776777.0</td>\n",
       "      <td>ASSAULT</td>\n",
       "      <td>AGGRAVATED ASSAULT WITH A GUN</td>\n",
       "      <td>Thursday</td>\n",
       "      <td>2016-09-15</td>\n",
       "      <td>07:40</td>\n",
       "      <td>INGLESIDE</td>\n",
       "      <td>ARREST, BOOKED</td>\n",
       "      <td>SILVER AV / CAMELLIA AV</td>\n",
       "      <td>-122.432326</td>\n",
       "      <td>37.729271</td>\n",
       "      <td>(37.7292705199592, -122.432325871028)</td>\n",
       "      <td>1.407770e+13</td>\n",
       "    </tr>\n",
       "    <tr>\n",
       "      <th>903</th>\n",
       "      <td>140886940.0</td>\n",
       "      <td>VEHICLE THEFT</td>\n",
       "      <td>STOLEN MOTORCYCLE</td>\n",
       "      <td>Tuesday</td>\n",
       "      <td>2016-09-06</td>\n",
       "      <td>12:17</td>\n",
       "      <td>CENTRAL</td>\n",
       "      <td>NONE</td>\n",
       "      <td>1200 Block of BROADWAY ST</td>\n",
       "      <td>-122.417905</td>\n",
       "      <td>37.796541</td>\n",
       "      <td>(37.7965406141378, -122.417905159205)</td>\n",
       "      <td>1.408870e+13</td>\n",
       "    </tr>\n",
       "    <tr>\n",
       "      <th>47</th>\n",
       "      <td>140927099.0</td>\n",
       "      <td>DRUG/NARCOTIC</td>\n",
       "      <td>POSSESSION OF MARIJUANA</td>\n",
       "      <td>Wednesday</td>\n",
       "      <td>2016-10-26</td>\n",
       "      <td>19:37</td>\n",
       "      <td>INGLESIDE</td>\n",
       "      <td>ARREST, BOOKED</td>\n",
       "      <td>5400 Block of MISSION ST</td>\n",
       "      <td>-122.444314</td>\n",
       "      <td>37.713108</td>\n",
       "      <td>(37.7131083433264, -122.444314025188)</td>\n",
       "      <td>1.409270e+13</td>\n",
       "    </tr>\n",
       "    <tr>\n",
       "      <th>46</th>\n",
       "      <td>140927099.0</td>\n",
       "      <td>BURGLARY</td>\n",
       "      <td>BURGLARY OF RESIDENCE, FORCIBLE ENTRY</td>\n",
       "      <td>Wednesday</td>\n",
       "      <td>2016-10-26</td>\n",
       "      <td>19:37</td>\n",
       "      <td>INGLESIDE</td>\n",
       "      <td>ARREST, BOOKED</td>\n",
       "      <td>5400 Block of MISSION ST</td>\n",
       "      <td>-122.444314</td>\n",
       "      <td>37.713108</td>\n",
       "      <td>(37.7131083433264, -122.444314025188)</td>\n",
       "      <td>1.409270e+13</td>\n",
       "    </tr>\n",
       "    <tr>\n",
       "      <th>48</th>\n",
       "      <td>141000705.0</td>\n",
       "      <td>MISSING PERSON</td>\n",
       "      <td>MISSING ADULT</td>\n",
       "      <td>Tuesday</td>\n",
       "      <td>2016-08-30</td>\n",
       "      <td>12:29</td>\n",
       "      <td>SOUTHERN</td>\n",
       "      <td>NONE</td>\n",
       "      <td>KANSAS ST / 16TH ST</td>\n",
       "      <td>-122.403645</td>\n",
       "      <td>37.766016</td>\n",
       "      <td>(37.7660160114103, -122.403644620439)</td>\n",
       "      <td>1.410010e+13</td>\n",
       "    </tr>\n",
       "    <tr>\n",
       "      <th>49</th>\n",
       "      <td>141000705.0</td>\n",
       "      <td>MISSING PERSON</td>\n",
       "      <td>FOUND PERSON</td>\n",
       "      <td>Tuesday</td>\n",
       "      <td>2016-08-30</td>\n",
       "      <td>12:29</td>\n",
       "      <td>SOUTHERN</td>\n",
       "      <td>NONE</td>\n",
       "      <td>KANSAS ST / 16TH ST</td>\n",
       "      <td>-122.403645</td>\n",
       "      <td>37.766016</td>\n",
       "      <td>(37.7660160114103, -122.403644620439)</td>\n",
       "      <td>1.410010e+13</td>\n",
       "    </tr>\n",
       "    <tr>\n",
       "      <th>2</th>\n",
       "      <td>141059263.0</td>\n",
       "      <td>WARRANTS</td>\n",
       "      <td>WARRANT ARREST</td>\n",
       "      <td>Monday</td>\n",
       "      <td>2016-04-25</td>\n",
       "      <td>14:59</td>\n",
       "      <td>BAYVIEW</td>\n",
       "      <td>ARREST, BOOKED</td>\n",
       "      <td>KEITH ST / SHAFTER AV</td>\n",
       "      <td>-122.388856</td>\n",
       "      <td>37.729981</td>\n",
       "      <td>(37.7299809672996, -122.388856204292)</td>\n",
       "      <td>1.410590e+13</td>\n",
       "    </tr>\n",
       "    <tr>\n",
       "      <th>57</th>\n",
       "      <td>141066456.0</td>\n",
       "      <td>FRAUD</td>\n",
       "      <td>FALSE ID TO PEACE OFFICER</td>\n",
       "      <td>Thursday</td>\n",
       "      <td>2016-07-07</td>\n",
       "      <td>23:08</td>\n",
       "      <td>SOUTHERN</td>\n",
       "      <td>ARREST, BOOKED</td>\n",
       "      <td>10TH ST / HOWARD ST</td>\n",
       "      <td>-122.414371</td>\n",
       "      <td>37.774042</td>\n",
       "      <td>(37.7740418385041, -122.414370627495)</td>\n",
       "      <td>1.410660e+13</td>\n",
       "    </tr>\n",
       "    <tr>\n",
       "      <th>904</th>\n",
       "      <td>146172672.0</td>\n",
       "      <td>LARCENY/THEFT</td>\n",
       "      <td>GRAND THEFT OF PROPERTY</td>\n",
       "      <td>Friday</td>\n",
       "      <td>2016-01-08</td>\n",
       "      <td>17:20</td>\n",
       "      <td>PARK</td>\n",
       "      <td>NONE</td>\n",
       "      <td>200 Block of RIVOLI ST</td>\n",
       "      <td>-122.451419</td>\n",
       "      <td>37.762198</td>\n",
       "      <td>(37.7621983321075, -122.451418704742)</td>\n",
       "      <td>1.461730e+13</td>\n",
       "    </tr>\n",
       "    <tr>\n",
       "      <th>2467</th>\n",
       "      <td>150273337.0</td>\n",
       "      <td>WARRANTS</td>\n",
       "      <td>WARRANT ARREST</td>\n",
       "      <td>Wednesday</td>\n",
       "      <td>2016-12-21</td>\n",
       "      <td>18:17</td>\n",
       "      <td>TENDERLOIN</td>\n",
       "      <td>ARREST, BOOKED</td>\n",
       "      <td>300 Block of JONES ST</td>\n",
       "      <td>-122.412759</td>\n",
       "      <td>37.784400</td>\n",
       "      <td>(37.7843997500192, -122.412758846145)</td>\n",
       "      <td>1.502730e+13</td>\n",
       "    </tr>\n",
       "    <tr>\n",
       "      <th>114</th>\n",
       "      <td>150437862.0</td>\n",
       "      <td>WARRANTS</td>\n",
       "      <td>WARRANT ARREST</td>\n",
       "      <td>Monday</td>\n",
       "      <td>2016-10-03</td>\n",
       "      <td>18:05</td>\n",
       "      <td>BAYVIEW</td>\n",
       "      <td>ARREST, BOOKED</td>\n",
       "      <td>3RD ST / PALOU AV</td>\n",
       "      <td>-122.390972</td>\n",
       "      <td>37.734015</td>\n",
       "      <td>(37.7340152180723, -122.390971734551)</td>\n",
       "      <td>1.504380e+13</td>\n",
       "    </tr>\n",
       "    <tr>\n",
       "      <th>2468</th>\n",
       "      <td>150437862.0</td>\n",
       "      <td>ROBBERY</td>\n",
       "      <td>ROBBERY OF A COMMERCIAL ESTABLISHMENT WITH A GUN</td>\n",
       "      <td>Monday</td>\n",
       "      <td>2016-10-03</td>\n",
       "      <td>18:05</td>\n",
       "      <td>BAYVIEW</td>\n",
       "      <td>ARREST, BOOKED</td>\n",
       "      <td>3RD ST / PALOU AV</td>\n",
       "      <td>-122.390972</td>\n",
       "      <td>37.734015</td>\n",
       "      <td>(37.7340152180723, -122.390971734551)</td>\n",
       "      <td>1.504380e+13</td>\n",
       "    </tr>\n",
       "    <tr>\n",
       "      <th>115</th>\n",
       "      <td>150480366.0</td>\n",
       "      <td>VEHICLE THEFT</td>\n",
       "      <td>STOLEN AND RECOVERED VEHICLE</td>\n",
       "      <td>Thursday</td>\n",
       "      <td>2016-12-08</td>\n",
       "      <td>15:00</td>\n",
       "      <td>NORTHERN</td>\n",
       "      <td>ARREST, BOOKED</td>\n",
       "      <td>PINE ST / POLK ST</td>\n",
       "      <td>-122.420497</td>\n",
       "      <td>37.789619</td>\n",
       "      <td>(37.789618819255, -122.42049728879)</td>\n",
       "      <td>1.504800e+13</td>\n",
       "    </tr>\n",
       "    <tr>\n",
       "      <th>116</th>\n",
       "      <td>150480366.0</td>\n",
       "      <td>DRUNKENNESS</td>\n",
       "      <td>UNDER INFLUENCE OF ALCOHOL IN A PUBLIC PLACE</td>\n",
       "      <td>Thursday</td>\n",
       "      <td>2016-12-08</td>\n",
       "      <td>15:00</td>\n",
       "      <td>NORTHERN</td>\n",
       "      <td>ARREST, BOOKED</td>\n",
       "      <td>PINE ST / POLK ST</td>\n",
       "      <td>-122.420497</td>\n",
       "      <td>37.789619</td>\n",
       "      <td>(37.789618819255, -122.42049728879)</td>\n",
       "      <td>1.504800e+13</td>\n",
       "    </tr>\n",
       "    <tr>\n",
       "      <th>118</th>\n",
       "      <td>150480366.0</td>\n",
       "      <td>VANDALISM</td>\n",
       "      <td>MALICIOUS MISCHIEF, VANDALISM OF VEHICLES</td>\n",
       "      <td>Thursday</td>\n",
       "      <td>2016-12-08</td>\n",
       "      <td>15:00</td>\n",
       "      <td>NORTHERN</td>\n",
       "      <td>ARREST, BOOKED</td>\n",
       "      <td>PINE ST / POLK ST</td>\n",
       "      <td>-122.420497</td>\n",
       "      <td>37.789619</td>\n",
       "      <td>(37.789618819255, -122.42049728879)</td>\n",
       "      <td>1.504800e+13</td>\n",
       "    </tr>\n",
       "    <tr>\n",
       "      <th>117</th>\n",
       "      <td>150480366.0</td>\n",
       "      <td>VANDALISM</td>\n",
       "      <td>MALICIOUS MISCHIEF, VANDALISM</td>\n",
       "      <td>Thursday</td>\n",
       "      <td>2016-12-08</td>\n",
       "      <td>15:00</td>\n",
       "      <td>NORTHERN</td>\n",
       "      <td>ARREST, BOOKED</td>\n",
       "      <td>PINE ST / POLK ST</td>\n",
       "      <td>-122.420497</td>\n",
       "      <td>37.789619</td>\n",
       "      <td>(37.789618819255, -122.42049728879)</td>\n",
       "      <td>1.504800e+13</td>\n",
       "    </tr>\n",
       "  </tbody>\n",
       "</table>\n",
       "</div>"
      ],
      "text/plain": [
       "       IncidntNum        Category  \\\n",
       "419    16003604.0   LARCENY/THEFT   \n",
       "1     120058272.0     WEAPON LAWS   \n",
       "0     120058272.0     WEAPON LAWS   \n",
       "178   120725318.0        BURGLARY   \n",
       "179   120725318.0    NON-CRIMINAL   \n",
       "181   120789988.0  MISSING PERSON   \n",
       "896   120789988.0  MISSING PERSON   \n",
       "180   120789988.0         RUNAWAY   \n",
       "898   130190030.0    NON-CRIMINAL   \n",
       "897   130190030.0  OTHER OFFENSES   \n",
       "899   140332012.0   DRUG/NARCOTIC   \n",
       "901   140464217.0        WARRANTS   \n",
       "900   140464217.0  OTHER OFFENSES   \n",
       "902   140558020.0   LARCENY/THEFT   \n",
       "13    140776777.0         ASSAULT   \n",
       "903   140886940.0   VEHICLE THEFT   \n",
       "47    140927099.0   DRUG/NARCOTIC   \n",
       "46    140927099.0        BURGLARY   \n",
       "48    141000705.0  MISSING PERSON   \n",
       "49    141000705.0  MISSING PERSON   \n",
       "2     141059263.0        WARRANTS   \n",
       "57    141066456.0           FRAUD   \n",
       "904   146172672.0   LARCENY/THEFT   \n",
       "2467  150273337.0        WARRANTS   \n",
       "114   150437862.0        WARRANTS   \n",
       "2468  150437862.0         ROBBERY   \n",
       "115   150480366.0   VEHICLE THEFT   \n",
       "116   150480366.0     DRUNKENNESS   \n",
       "118   150480366.0       VANDALISM   \n",
       "117   150480366.0       VANDALISM   \n",
       "\n",
       "                                              Descript  DayOfWeek       Date  \\\n",
       "419                        GRAND THEFT FROM A BUILDING   Thursday 2016-01-14   \n",
       "1       FIREARM, LOADED, IN VEHICLE, POSSESSION OR USE     Friday 2016-01-29   \n",
       "0                            POSS OF PROHIBITED WEAPON     Friday 2016-01-29   \n",
       "178              BURGLARY OF RESIDENCE, FORCIBLE ENTRY   Saturday 2016-08-27   \n",
       "179                                     FOUND PROPERTY   Saturday 2016-08-27   \n",
       "181                                   MISSING JUVENILE     Monday 2016-05-16   \n",
       "896                                       FOUND PERSON     Monday 2016-05-16   \n",
       "180                                            RUNAWAY     Monday 2016-05-16   \n",
       "898                           LICENSE PLATE, RECOVERED   Saturday 2016-03-26   \n",
       "897                          LOST/STOLEN LICENSE PLATE   Saturday 2016-03-26   \n",
       "899              POSSESSION OF NARCOTICS PARAPHERNALIA     Monday 2016-05-23   \n",
       "901                                     WARRANT ARREST   Thursday 2016-04-28   \n",
       "900                                   RESISTING ARREST   Thursday 2016-04-28   \n",
       "902                             PETTY THEFT WITH PRIOR   Thursday 2016-07-07   \n",
       "13                       AGGRAVATED ASSAULT WITH A GUN   Thursday 2016-09-15   \n",
       "903                                  STOLEN MOTORCYCLE    Tuesday 2016-09-06   \n",
       "47                             POSSESSION OF MARIJUANA  Wednesday 2016-10-26   \n",
       "46               BURGLARY OF RESIDENCE, FORCIBLE ENTRY  Wednesday 2016-10-26   \n",
       "48                                       MISSING ADULT    Tuesday 2016-08-30   \n",
       "49                                        FOUND PERSON    Tuesday 2016-08-30   \n",
       "2                                       WARRANT ARREST     Monday 2016-04-25   \n",
       "57                           FALSE ID TO PEACE OFFICER   Thursday 2016-07-07   \n",
       "904                            GRAND THEFT OF PROPERTY     Friday 2016-01-08   \n",
       "2467                                    WARRANT ARREST  Wednesday 2016-12-21   \n",
       "114                                     WARRANT ARREST     Monday 2016-10-03   \n",
       "2468  ROBBERY OF A COMMERCIAL ESTABLISHMENT WITH A GUN     Monday 2016-10-03   \n",
       "115                       STOLEN AND RECOVERED VEHICLE   Thursday 2016-12-08   \n",
       "116       UNDER INFLUENCE OF ALCOHOL IN A PUBLIC PLACE   Thursday 2016-12-08   \n",
       "118          MALICIOUS MISCHIEF, VANDALISM OF VEHICLES   Thursday 2016-12-08   \n",
       "117                      MALICIOUS MISCHIEF, VANDALISM   Thursday 2016-12-08   \n",
       "\n",
       "       Time  PdDistrict      Resolution                      Address  \\\n",
       "419   15:55    RICHMOND            NONE          400 Block of 9TH AV   \n",
       "1     11:00    SOUTHERN  ARREST, BOOKED       800 Block of BRYANT ST   \n",
       "0     11:00    SOUTHERN  ARREST, BOOKED       800 Block of BRYANT ST   \n",
       "178   17:30    RICHMOND       UNFOUNDED         100 Block of 16TH AV   \n",
       "179   17:30    RICHMOND       UNFOUNDED         100 Block of 16TH AV   \n",
       "181   00:41   INGLESIDE            NONE   WOOLSEY ST / UNIVERSITY ST   \n",
       "896   00:41   INGLESIDE            NONE   WOOLSEY ST / UNIVERSITY ST   \n",
       "180   00:41   INGLESIDE            NONE   WOOLSEY ST / UNIVERSITY ST   \n",
       "898   14:03        PARK            NONE    500 Block of PARNASSUS AV   \n",
       "897   14:03        PARK            NONE    500 Block of PARNASSUS AV   \n",
       "899   13:53     MISSION  ARREST, BOOKED       400 Block of CASTRO ST   \n",
       "901   23:31        PARK  ARREST, BOOKED             7TH AV / HUGO ST   \n",
       "900   23:31        PARK  ARREST, BOOKED             7TH AV / HUGO ST   \n",
       "902   09:39    SOUTHERN  ARREST, BOOKED  0 Block of UNITEDNATIONS PZ   \n",
       "13    07:40   INGLESIDE  ARREST, BOOKED      SILVER AV / CAMELLIA AV   \n",
       "903   12:17     CENTRAL            NONE    1200 Block of BROADWAY ST   \n",
       "47    19:37   INGLESIDE  ARREST, BOOKED     5400 Block of MISSION ST   \n",
       "46    19:37   INGLESIDE  ARREST, BOOKED     5400 Block of MISSION ST   \n",
       "48    12:29    SOUTHERN            NONE          KANSAS ST / 16TH ST   \n",
       "49    12:29    SOUTHERN            NONE          KANSAS ST / 16TH ST   \n",
       "2     14:59     BAYVIEW  ARREST, BOOKED        KEITH ST / SHAFTER AV   \n",
       "57    23:08    SOUTHERN  ARREST, BOOKED          10TH ST / HOWARD ST   \n",
       "904   17:20        PARK            NONE       200 Block of RIVOLI ST   \n",
       "2467  18:17  TENDERLOIN  ARREST, BOOKED        300 Block of JONES ST   \n",
       "114   18:05     BAYVIEW  ARREST, BOOKED            3RD ST / PALOU AV   \n",
       "2468  18:05     BAYVIEW  ARREST, BOOKED            3RD ST / PALOU AV   \n",
       "115   15:00    NORTHERN  ARREST, BOOKED            PINE ST / POLK ST   \n",
       "116   15:00    NORTHERN  ARREST, BOOKED            PINE ST / POLK ST   \n",
       "118   15:00    NORTHERN  ARREST, BOOKED            PINE ST / POLK ST   \n",
       "117   15:00    NORTHERN  ARREST, BOOKED            PINE ST / POLK ST   \n",
       "\n",
       "               X          Y                               Location  \\\n",
       "419  -122.467489  37.779891  (37.7798911973996, -122.467488647124)   \n",
       "1    -122.403405  37.775421   (37.775420706711, -122.403404791479)   \n",
       "0    -122.403405  37.775421   (37.775420706711, -122.403404791479)   \n",
       "178  -122.475505  37.785229  (37.7852294851953, -122.475505142311)   \n",
       "179  -122.475505  37.785229  (37.7852294851953, -122.475505142311)   \n",
       "181  -122.412470  37.722659  (37.7226585129212, -122.412469643631)   \n",
       "896  -122.412470  37.722659  (37.7226585129212, -122.412469643631)   \n",
       "180  -122.412470  37.722659  (37.7226585129212, -122.412469643631)   \n",
       "898  -122.458221  37.763312  (37.7633123961354, -122.458220811697)   \n",
       "897  -122.458221  37.763312  (37.7633123961354, -122.458220811697)   \n",
       "899  -122.435150  37.761760  (37.7617597243598, -122.435150099812)   \n",
       "901  -122.464236  37.765066  (37.7650658096524, -122.464236532783)   \n",
       "900  -122.464236  37.765066  (37.7650658096524, -122.464236532783)   \n",
       "902  -122.414318  37.779944  (37.7799444052046, -122.414317857881)   \n",
       "13   -122.432326  37.729271  (37.7292705199592, -122.432325871028)   \n",
       "903  -122.417905  37.796541  (37.7965406141378, -122.417905159205)   \n",
       "47   -122.444314  37.713108  (37.7131083433264, -122.444314025188)   \n",
       "46   -122.444314  37.713108  (37.7131083433264, -122.444314025188)   \n",
       "48   -122.403645  37.766016  (37.7660160114103, -122.403644620439)   \n",
       "49   -122.403645  37.766016  (37.7660160114103, -122.403644620439)   \n",
       "2    -122.388856  37.729981  (37.7299809672996, -122.388856204292)   \n",
       "57   -122.414371  37.774042  (37.7740418385041, -122.414370627495)   \n",
       "904  -122.451419  37.762198  (37.7621983321075, -122.451418704742)   \n",
       "2467 -122.412759  37.784400  (37.7843997500192, -122.412758846145)   \n",
       "114  -122.390972  37.734015  (37.7340152180723, -122.390971734551)   \n",
       "2468 -122.390972  37.734015  (37.7340152180723, -122.390971734551)   \n",
       "115  -122.420497  37.789619    (37.789618819255, -122.42049728879)   \n",
       "116  -122.420497  37.789619    (37.789618819255, -122.42049728879)   \n",
       "118  -122.420497  37.789619    (37.789618819255, -122.42049728879)   \n",
       "117  -122.420497  37.789619    (37.789618819255, -122.42049728879)   \n",
       "\n",
       "              PdId  \n",
       "419   1.600360e+12  \n",
       "1     1.200580e+13  \n",
       "0     1.200580e+13  \n",
       "178   1.207250e+13  \n",
       "179   1.207250e+13  \n",
       "181   1.207900e+13  \n",
       "896   1.207900e+13  \n",
       "180   1.207900e+13  \n",
       "898   1.301900e+13  \n",
       "897   1.301900e+13  \n",
       "899   1.403320e+13  \n",
       "901   1.404640e+13  \n",
       "900   1.404640e+13  \n",
       "902   1.405580e+13  \n",
       "13    1.407770e+13  \n",
       "903   1.408870e+13  \n",
       "47    1.409270e+13  \n",
       "46    1.409270e+13  \n",
       "48    1.410010e+13  \n",
       "49    1.410010e+13  \n",
       "2     1.410590e+13  \n",
       "57    1.410660e+13  \n",
       "904   1.461730e+13  \n",
       "2467  1.502730e+13  \n",
       "114   1.504380e+13  \n",
       "2468  1.504380e+13  \n",
       "115   1.504800e+13  \n",
       "116   1.504800e+13  \n",
       "118   1.504800e+13  \n",
       "117   1.504800e+13  "
      ]
     },
     "execution_count": 14,
     "metadata": {},
     "output_type": "execute_result"
    }
   ],
   "source": [
    "df.sort_values(by='IncidntNum', ascending=True, inplace=True)\n",
    "df.head(30)"
   ]
  },
  {
   "cell_type": "code",
   "execution_count": 15,
   "metadata": {},
   "outputs": [
    {
     "data": {
      "text/html": [
       "<div>\n",
       "<style scoped>\n",
       "    .dataframe tbody tr th:only-of-type {\n",
       "        vertical-align: middle;\n",
       "    }\n",
       "\n",
       "    .dataframe tbody tr th {\n",
       "        vertical-align: top;\n",
       "    }\n",
       "\n",
       "    .dataframe thead th {\n",
       "        text-align: right;\n",
       "    }\n",
       "</style>\n",
       "<table border=\"1\" class=\"dataframe\">\n",
       "  <thead>\n",
       "    <tr style=\"text-align: right;\">\n",
       "      <th></th>\n",
       "      <th>IncidntNum</th>\n",
       "      <th>Category</th>\n",
       "      <th>Descript</th>\n",
       "      <th>DayOfWeek</th>\n",
       "      <th>Date</th>\n",
       "      <th>Time</th>\n",
       "      <th>PdDistrict</th>\n",
       "      <th>Resolution</th>\n",
       "      <th>Address</th>\n",
       "      <th>X</th>\n",
       "      <th>Y</th>\n",
       "      <th>Location</th>\n",
       "      <th>PdId</th>\n",
       "    </tr>\n",
       "  </thead>\n",
       "  <tbody>\n",
       "    <tr>\n",
       "      <th>2467</th>\n",
       "      <td>150273337.0</td>\n",
       "      <td>WARRANTS</td>\n",
       "      <td>WARRANT ARREST</td>\n",
       "      <td>Wednesday</td>\n",
       "      <td>2016-12-21</td>\n",
       "      <td>18:17</td>\n",
       "      <td>TENDERLOIN</td>\n",
       "      <td>ARREST, BOOKED</td>\n",
       "      <td>300 Block of JONES ST</td>\n",
       "      <td>-122.412759</td>\n",
       "      <td>37.784400</td>\n",
       "      <td>(37.7843997500192, -122.412758846145)</td>\n",
       "      <td>1.502730e+13</td>\n",
       "    </tr>\n",
       "    <tr>\n",
       "      <th>115</th>\n",
       "      <td>150480366.0</td>\n",
       "      <td>VEHICLE THEFT</td>\n",
       "      <td>STOLEN AND RECOVERED VEHICLE</td>\n",
       "      <td>Thursday</td>\n",
       "      <td>2016-12-08</td>\n",
       "      <td>15:00</td>\n",
       "      <td>NORTHERN</td>\n",
       "      <td>ARREST, BOOKED</td>\n",
       "      <td>PINE ST / POLK ST</td>\n",
       "      <td>-122.420497</td>\n",
       "      <td>37.789619</td>\n",
       "      <td>(37.789618819255, -122.42049728879)</td>\n",
       "      <td>1.504800e+13</td>\n",
       "    </tr>\n",
       "    <tr>\n",
       "      <th>116</th>\n",
       "      <td>150480366.0</td>\n",
       "      <td>DRUNKENNESS</td>\n",
       "      <td>UNDER INFLUENCE OF ALCOHOL IN A PUBLIC PLACE</td>\n",
       "      <td>Thursday</td>\n",
       "      <td>2016-12-08</td>\n",
       "      <td>15:00</td>\n",
       "      <td>NORTHERN</td>\n",
       "      <td>ARREST, BOOKED</td>\n",
       "      <td>PINE ST / POLK ST</td>\n",
       "      <td>-122.420497</td>\n",
       "      <td>37.789619</td>\n",
       "      <td>(37.789618819255, -122.42049728879)</td>\n",
       "      <td>1.504800e+13</td>\n",
       "    </tr>\n",
       "    <tr>\n",
       "      <th>118</th>\n",
       "      <td>150480366.0</td>\n",
       "      <td>VANDALISM</td>\n",
       "      <td>MALICIOUS MISCHIEF, VANDALISM OF VEHICLES</td>\n",
       "      <td>Thursday</td>\n",
       "      <td>2016-12-08</td>\n",
       "      <td>15:00</td>\n",
       "      <td>NORTHERN</td>\n",
       "      <td>ARREST, BOOKED</td>\n",
       "      <td>PINE ST / POLK ST</td>\n",
       "      <td>-122.420497</td>\n",
       "      <td>37.789619</td>\n",
       "      <td>(37.789618819255, -122.42049728879)</td>\n",
       "      <td>1.504800e+13</td>\n",
       "    </tr>\n",
       "    <tr>\n",
       "      <th>117</th>\n",
       "      <td>150480366.0</td>\n",
       "      <td>VANDALISM</td>\n",
       "      <td>MALICIOUS MISCHIEF, VANDALISM</td>\n",
       "      <td>Thursday</td>\n",
       "      <td>2016-12-08</td>\n",
       "      <td>15:00</td>\n",
       "      <td>NORTHERN</td>\n",
       "      <td>ARREST, BOOKED</td>\n",
       "      <td>PINE ST / POLK ST</td>\n",
       "      <td>-122.420497</td>\n",
       "      <td>37.789619</td>\n",
       "      <td>(37.789618819255, -122.42049728879)</td>\n",
       "      <td>1.504800e+13</td>\n",
       "    </tr>\n",
       "    <tr>\n",
       "      <th>5332</th>\n",
       "      <td>160220970.0</td>\n",
       "      <td>FRAUD</td>\n",
       "      <td>CREDIT CARD, THEFT BY USE OF</td>\n",
       "      <td>Friday</td>\n",
       "      <td>2016-11-18</td>\n",
       "      <td>12:00</td>\n",
       "      <td>BAYVIEW</td>\n",
       "      <td>NONE</td>\n",
       "      <td>1200 Block of DEHARO ST</td>\n",
       "      <td>-122.400632</td>\n",
       "      <td>37.753965</td>\n",
       "      <td>(37.7539653995399, -122.4006319548)</td>\n",
       "      <td>1.602210e+13</td>\n",
       "    </tr>\n",
       "    <tr>\n",
       "      <th>9554</th>\n",
       "      <td>160939676.0</td>\n",
       "      <td>ASSAULT</td>\n",
       "      <td>BATTERY</td>\n",
       "      <td>Monday</td>\n",
       "      <td>2016-11-14</td>\n",
       "      <td>09:20</td>\n",
       "      <td>NORTHERN</td>\n",
       "      <td>NONE</td>\n",
       "      <td>ELLIS ST / POLK ST</td>\n",
       "      <td>-122.419366</td>\n",
       "      <td>37.784028</td>\n",
       "      <td>(37.7840280452032, -122.419366294797)</td>\n",
       "      <td>1.609400e+13</td>\n",
       "    </tr>\n",
       "    <tr>\n",
       "      <th>9964</th>\n",
       "      <td>160893652.0</td>\n",
       "      <td>NON-CRIMINAL</td>\n",
       "      <td>CIVIL SIDEWALKS, WARNING</td>\n",
       "      <td>Wednesday</td>\n",
       "      <td>2016-11-02</td>\n",
       "      <td>18:02</td>\n",
       "      <td>MISSION</td>\n",
       "      <td>NONE</td>\n",
       "      <td>21ST ST / SHOTWELL ST</td>\n",
       "      <td>-122.415629</td>\n",
       "      <td>37.757232</td>\n",
       "      <td>(37.757232227914, -122.415629332446)</td>\n",
       "      <td>1.608940e+13</td>\n",
       "    </tr>\n",
       "    <tr>\n",
       "      <th>9963</th>\n",
       "      <td>160893464.0</td>\n",
       "      <td>WEAPON LAWS</td>\n",
       "      <td>CARRYING A CONCEALED WEAPON</td>\n",
       "      <td>Wednesday</td>\n",
       "      <td>2016-11-02</td>\n",
       "      <td>16:42</td>\n",
       "      <td>BAYVIEW</td>\n",
       "      <td>NONE</td>\n",
       "      <td>1100 Block of 18TH ST</td>\n",
       "      <td>-122.394108</td>\n",
       "      <td>37.762671</td>\n",
       "      <td>(37.7626705352496, -122.394108177688)</td>\n",
       "      <td>1.608930e+13</td>\n",
       "    </tr>\n",
       "    <tr>\n",
       "      <th>9962</th>\n",
       "      <td>160893395.0</td>\n",
       "      <td>ASSAULT</td>\n",
       "      <td>BATTERY</td>\n",
       "      <td>Wednesday</td>\n",
       "      <td>2016-11-02</td>\n",
       "      <td>16:15</td>\n",
       "      <td>TARAVAL</td>\n",
       "      <td>NONE</td>\n",
       "      <td>MONTEREY BL / NORTHGATE DR</td>\n",
       "      <td>-122.461737</td>\n",
       "      <td>37.730023</td>\n",
       "      <td>(37.7300233378439, -122.461736679015)</td>\n",
       "      <td>1.608930e+13</td>\n",
       "    </tr>\n",
       "    <tr>\n",
       "      <th>9953</th>\n",
       "      <td>160892842.0</td>\n",
       "      <td>SUSPICIOUS OCC</td>\n",
       "      <td>SUSPICIOUS OCCURRENCE</td>\n",
       "      <td>Wednesday</td>\n",
       "      <td>2016-11-02</td>\n",
       "      <td>10:00</td>\n",
       "      <td>MISSION</td>\n",
       "      <td>NONE</td>\n",
       "      <td>200 Block of 14TH ST</td>\n",
       "      <td>-122.418885</td>\n",
       "      <td>37.768285</td>\n",
       "      <td>(37.7682847825555, -122.418885184858)</td>\n",
       "      <td>1.608930e+13</td>\n",
       "    </tr>\n",
       "    <tr>\n",
       "      <th>9951</th>\n",
       "      <td>160892820.0</td>\n",
       "      <td>ASSAULT</td>\n",
       "      <td>THREATS AGAINST LIFE</td>\n",
       "      <td>Wednesday</td>\n",
       "      <td>2016-11-02</td>\n",
       "      <td>11:45</td>\n",
       "      <td>PARK</td>\n",
       "      <td>NONE</td>\n",
       "      <td>STANYAN ST / WALLER ST</td>\n",
       "      <td>-122.453355</td>\n",
       "      <td>37.768246</td>\n",
       "      <td>(37.7682463076665, -122.453354647469)</td>\n",
       "      <td>1.608930e+13</td>\n",
       "    </tr>\n",
       "    <tr>\n",
       "      <th>9950</th>\n",
       "      <td>160892814.0</td>\n",
       "      <td>OTHER OFFENSES</td>\n",
       "      <td>DRIVERS LICENSE, SUSPENDED OR REVOKED</td>\n",
       "      <td>Wednesday</td>\n",
       "      <td>2016-11-02</td>\n",
       "      <td>12:10</td>\n",
       "      <td>BAYVIEW</td>\n",
       "      <td>ARREST, BOOKED</td>\n",
       "      <td>QUESADA AV / 3RD ST</td>\n",
       "      <td>-122.391246</td>\n",
       "      <td>37.733225</td>\n",
       "      <td>(37.7332252032804, -122.391245623019)</td>\n",
       "      <td>1.608930e+13</td>\n",
       "    </tr>\n",
       "    <tr>\n",
       "      <th>9945</th>\n",
       "      <td>160892591.0</td>\n",
       "      <td>ASSAULT</td>\n",
       "      <td>THREATS AGAINST LIFE</td>\n",
       "      <td>Wednesday</td>\n",
       "      <td>2016-11-02</td>\n",
       "      <td>10:19</td>\n",
       "      <td>BAYVIEW</td>\n",
       "      <td>NONE</td>\n",
       "      <td>0 Block of CASHMERE ST</td>\n",
       "      <td>-122.382705</td>\n",
       "      <td>37.735886</td>\n",
       "      <td>(37.7358858148594, -122.382705072801)</td>\n",
       "      <td>1.608930e+13</td>\n",
       "    </tr>\n",
       "    <tr>\n",
       "      <th>9944</th>\n",
       "      <td>160892585.0</td>\n",
       "      <td>VANDALISM</td>\n",
       "      <td>MALICIOUS MISCHIEF, VANDALISM OF VEHICLES</td>\n",
       "      <td>Wednesday</td>\n",
       "      <td>2016-11-02</td>\n",
       "      <td>10:38</td>\n",
       "      <td>NORTHERN</td>\n",
       "      <td>ARREST, BOOKED</td>\n",
       "      <td>100 Block of GROVE ST</td>\n",
       "      <td>-122.419064</td>\n",
       "      <td>37.778327</td>\n",
       "      <td>(37.7783268674219, -122.419063862505)</td>\n",
       "      <td>1.608930e+13</td>\n",
       "    </tr>\n",
       "    <tr>\n",
       "      <th>9933</th>\n",
       "      <td>160891662.0</td>\n",
       "      <td>ASSAULT</td>\n",
       "      <td>FALSE IMPRISONMENT</td>\n",
       "      <td>Tuesday</td>\n",
       "      <td>2016-11-01</td>\n",
       "      <td>22:30</td>\n",
       "      <td>INGLESIDE</td>\n",
       "      <td>ARREST, BOOKED</td>\n",
       "      <td>MISSION ST / OCEAN AV</td>\n",
       "      <td>-122.435385</td>\n",
       "      <td>37.723910</td>\n",
       "      <td>(37.7239104470753, -122.435385454946)</td>\n",
       "      <td>1.608920e+13</td>\n",
       "    </tr>\n",
       "    <tr>\n",
       "      <th>9860</th>\n",
       "      <td>160889786.0</td>\n",
       "      <td>BURGLARY</td>\n",
       "      <td>BURGLARY OF RESIDENCE, ATTEMPTED FORCIBLE ENTRY</td>\n",
       "      <td>Tuesday</td>\n",
       "      <td>2016-11-01</td>\n",
       "      <td>02:54</td>\n",
       "      <td>MISSION</td>\n",
       "      <td>NONE</td>\n",
       "      <td>4000 Block of 19TH ST</td>\n",
       "      <td>-122.433209</td>\n",
       "      <td>37.759334</td>\n",
       "      <td>(37.7593336636293, -122.433208516014)</td>\n",
       "      <td>1.608900e+13</td>\n",
       "    </tr>\n",
       "    <tr>\n",
       "      <th>9857</th>\n",
       "      <td>160889736.0</td>\n",
       "      <td>WARRANTS</td>\n",
       "      <td>ENROUTE TO OUTSIDE JURISDICTION</td>\n",
       "      <td>Tuesday</td>\n",
       "      <td>2016-11-01</td>\n",
       "      <td>10:43</td>\n",
       "      <td>SOUTHERN</td>\n",
       "      <td>ARREST, BOOKED</td>\n",
       "      <td>800 Block of BRYANT ST</td>\n",
       "      <td>-122.403405</td>\n",
       "      <td>37.775421</td>\n",
       "      <td>(37.775420706711, -122.403404791479)</td>\n",
       "      <td>1.608900e+13</td>\n",
       "    </tr>\n",
       "    <tr>\n",
       "      <th>9986</th>\n",
       "      <td>160895846.0</td>\n",
       "      <td>OTHER OFFENSES</td>\n",
       "      <td>FALSE PERSONATION</td>\n",
       "      <td>Monday</td>\n",
       "      <td>2016-10-31</td>\n",
       "      <td>10:00</td>\n",
       "      <td>MISSION</td>\n",
       "      <td>NONE</td>\n",
       "      <td>100 Block of CAPP ST</td>\n",
       "      <td>-122.418550</td>\n",
       "      <td>37.764284</td>\n",
       "      <td>(37.7642837095036, -122.418549940195)</td>\n",
       "      <td>1.608960e+13</td>\n",
       "    </tr>\n",
       "    <tr>\n",
       "      <th>9859</th>\n",
       "      <td>160889764.0</td>\n",
       "      <td>OTHER OFFENSES</td>\n",
       "      <td>LOST/STOLEN LICENSE PLATE</td>\n",
       "      <td>Monday</td>\n",
       "      <td>2016-10-31</td>\n",
       "      <td>17:30</td>\n",
       "      <td>MISSION</td>\n",
       "      <td>NONE</td>\n",
       "      <td>SOUTH VAN NESS AV / 26TH ST</td>\n",
       "      <td>-122.415954</td>\n",
       "      <td>37.749173</td>\n",
       "      <td>(37.7491729638325, -122.415954301518)</td>\n",
       "      <td>1.608900e+13</td>\n",
       "    </tr>\n",
       "    <tr>\n",
       "      <th>9826</th>\n",
       "      <td>160887677.0</td>\n",
       "      <td>ASSAULT</td>\n",
       "      <td>BATTERY</td>\n",
       "      <td>Monday</td>\n",
       "      <td>2016-10-31</td>\n",
       "      <td>16:48</td>\n",
       "      <td>TENDERLOIN</td>\n",
       "      <td>NONE</td>\n",
       "      <td>100 Block of HYDE ST</td>\n",
       "      <td>-122.415670</td>\n",
       "      <td>37.782120</td>\n",
       "      <td>(37.7821198488931, -122.415669661443)</td>\n",
       "      <td>1.608880e+13</td>\n",
       "    </tr>\n",
       "    <tr>\n",
       "      <th>9727</th>\n",
       "      <td>160884689.0</td>\n",
       "      <td>VEHICLE THEFT</td>\n",
       "      <td>STOLEN TRUCK</td>\n",
       "      <td>Sunday</td>\n",
       "      <td>2016-10-30</td>\n",
       "      <td>13:20</td>\n",
       "      <td>INGLESIDE</td>\n",
       "      <td>NONE</td>\n",
       "      <td>100 Block of OCEAN AV</td>\n",
       "      <td>-122.439345</td>\n",
       "      <td>37.723624</td>\n",
       "      <td>(37.723624467748, -122.43934468789)</td>\n",
       "      <td>1.608850e+13</td>\n",
       "    </tr>\n",
       "    <tr>\n",
       "      <th>9715</th>\n",
       "      <td>160883766.0</td>\n",
       "      <td>WEAPON LAWS</td>\n",
       "      <td>EXHIBITING DEADLY WEAPON IN A THREATING MANNER</td>\n",
       "      <td>Sunday</td>\n",
       "      <td>2016-10-30</td>\n",
       "      <td>11:17</td>\n",
       "      <td>BAYVIEW</td>\n",
       "      <td>ARREST, BOOKED</td>\n",
       "      <td>3800 Block of 3RD ST</td>\n",
       "      <td>-122.387940</td>\n",
       "      <td>37.742260</td>\n",
       "      <td>(37.7422600519555, -122.387939452192)</td>\n",
       "      <td>1.608840e+13</td>\n",
       "    </tr>\n",
       "    <tr>\n",
       "      <th>9710</th>\n",
       "      <td>160883249.0</td>\n",
       "      <td>VANDALISM</td>\n",
       "      <td>MALICIOUS MISCHIEF, VANDALISM OF VEHICLES</td>\n",
       "      <td>Sunday</td>\n",
       "      <td>2016-10-30</td>\n",
       "      <td>03:08</td>\n",
       "      <td>CENTRAL</td>\n",
       "      <td>ARREST, BOOKED</td>\n",
       "      <td>0 Block of BROADWAY ST</td>\n",
       "      <td>-122.399296</td>\n",
       "      <td>37.798859</td>\n",
       "      <td>(37.798859198392, -122.399295690795)</td>\n",
       "      <td>1.608830e+13</td>\n",
       "    </tr>\n",
       "    <tr>\n",
       "      <th>9714</th>\n",
       "      <td>160883750.0</td>\n",
       "      <td>BURGLARY</td>\n",
       "      <td>BURGLARY OF STORE, FORCIBLE ENTRY</td>\n",
       "      <td>Saturday</td>\n",
       "      <td>2016-10-29</td>\n",
       "      <td>19:00</td>\n",
       "      <td>CENTRAL</td>\n",
       "      <td>NONE</td>\n",
       "      <td>200 Block of GRANT AV</td>\n",
       "      <td>-122.405185</td>\n",
       "      <td>37.788876</td>\n",
       "      <td>(37.7888762183538, -122.405184569667)</td>\n",
       "      <td>1.608840e+13</td>\n",
       "    </tr>\n",
       "    <tr>\n",
       "      <th>9711</th>\n",
       "      <td>160883255.0</td>\n",
       "      <td>LARCENY/THEFT</td>\n",
       "      <td>GRAND THEFT FROM LOCKED AUTO</td>\n",
       "      <td>Saturday</td>\n",
       "      <td>2016-10-29</td>\n",
       "      <td>21:50</td>\n",
       "      <td>SOUTHERN</td>\n",
       "      <td>NONE</td>\n",
       "      <td>600 Block of MINNA ST</td>\n",
       "      <td>-122.411206</td>\n",
       "      <td>37.778224</td>\n",
       "      <td>(37.7782244806331, -122.411205728723)</td>\n",
       "      <td>1.608830e+13</td>\n",
       "    </tr>\n",
       "    <tr>\n",
       "      <th>9644</th>\n",
       "      <td>160880427.0</td>\n",
       "      <td>OTHER OFFENSES</td>\n",
       "      <td>RESISTING ARREST</td>\n",
       "      <td>Saturday</td>\n",
       "      <td>2016-10-29</td>\n",
       "      <td>06:20</td>\n",
       "      <td>MISSION</td>\n",
       "      <td>ARREST, BOOKED</td>\n",
       "      <td>20TH ST / DOLORES ST</td>\n",
       "      <td>-122.425768</td>\n",
       "      <td>37.758226</td>\n",
       "      <td>(37.7582261992584, -122.425768246873)</td>\n",
       "      <td>1.608800e+13</td>\n",
       "    </tr>\n",
       "    <tr>\n",
       "      <th>9645</th>\n",
       "      <td>160880427.0</td>\n",
       "      <td>VANDALISM</td>\n",
       "      <td>MALICIOUS MISCHIEF, GRAFFITI</td>\n",
       "      <td>Saturday</td>\n",
       "      <td>2016-10-29</td>\n",
       "      <td>06:20</td>\n",
       "      <td>MISSION</td>\n",
       "      <td>ARREST, BOOKED</td>\n",
       "      <td>20TH ST / DOLORES ST</td>\n",
       "      <td>-122.425768</td>\n",
       "      <td>37.758226</td>\n",
       "      <td>(37.7582261992584, -122.425768246873)</td>\n",
       "      <td>1.608800e+13</td>\n",
       "    </tr>\n",
       "    <tr>\n",
       "      <th>9611</th>\n",
       "      <td>160877424.0</td>\n",
       "      <td>VANDALISM</td>\n",
       "      <td>MALICIOUS MISCHIEF, VANDALISM OF VEHICLES</td>\n",
       "      <td>Friday</td>\n",
       "      <td>2016-10-28</td>\n",
       "      <td>05:30</td>\n",
       "      <td>NORTHERN</td>\n",
       "      <td>NONE</td>\n",
       "      <td>0 Block of DANIELBURNHAM CT</td>\n",
       "      <td>-122.422541</td>\n",
       "      <td>37.786909</td>\n",
       "      <td>(37.7869088658022, -122.422540554174)</td>\n",
       "      <td>1.608770e+13</td>\n",
       "    </tr>\n",
       "    <tr>\n",
       "      <th>9603</th>\n",
       "      <td>160876642.0</td>\n",
       "      <td>ASSAULT</td>\n",
       "      <td>BATTERY</td>\n",
       "      <td>Thursday</td>\n",
       "      <td>2016-10-27</td>\n",
       "      <td>20:55</td>\n",
       "      <td>MISSION</td>\n",
       "      <td>ARREST, BOOKED</td>\n",
       "      <td>2000 Block of MISSION ST</td>\n",
       "      <td>-122.419658</td>\n",
       "      <td>37.764221</td>\n",
       "      <td>(37.7642205603745, -122.41965834371)</td>\n",
       "      <td>1.608770e+13</td>\n",
       "    </tr>\n",
       "  </tbody>\n",
       "</table>\n",
       "</div>"
      ],
      "text/plain": [
       "       IncidntNum        Category  \\\n",
       "2467  150273337.0        WARRANTS   \n",
       "115   150480366.0   VEHICLE THEFT   \n",
       "116   150480366.0     DRUNKENNESS   \n",
       "118   150480366.0       VANDALISM   \n",
       "117   150480366.0       VANDALISM   \n",
       "5332  160220970.0           FRAUD   \n",
       "9554  160939676.0         ASSAULT   \n",
       "9964  160893652.0    NON-CRIMINAL   \n",
       "9963  160893464.0     WEAPON LAWS   \n",
       "9962  160893395.0         ASSAULT   \n",
       "9953  160892842.0  SUSPICIOUS OCC   \n",
       "9951  160892820.0         ASSAULT   \n",
       "9950  160892814.0  OTHER OFFENSES   \n",
       "9945  160892591.0         ASSAULT   \n",
       "9944  160892585.0       VANDALISM   \n",
       "9933  160891662.0         ASSAULT   \n",
       "9860  160889786.0        BURGLARY   \n",
       "9857  160889736.0        WARRANTS   \n",
       "9986  160895846.0  OTHER OFFENSES   \n",
       "9859  160889764.0  OTHER OFFENSES   \n",
       "9826  160887677.0         ASSAULT   \n",
       "9727  160884689.0   VEHICLE THEFT   \n",
       "9715  160883766.0     WEAPON LAWS   \n",
       "9710  160883249.0       VANDALISM   \n",
       "9714  160883750.0        BURGLARY   \n",
       "9711  160883255.0   LARCENY/THEFT   \n",
       "9644  160880427.0  OTHER OFFENSES   \n",
       "9645  160880427.0       VANDALISM   \n",
       "9611  160877424.0       VANDALISM   \n",
       "9603  160876642.0         ASSAULT   \n",
       "\n",
       "                                             Descript  DayOfWeek       Date  \\\n",
       "2467                                   WARRANT ARREST  Wednesday 2016-12-21   \n",
       "115                      STOLEN AND RECOVERED VEHICLE   Thursday 2016-12-08   \n",
       "116      UNDER INFLUENCE OF ALCOHOL IN A PUBLIC PLACE   Thursday 2016-12-08   \n",
       "118         MALICIOUS MISCHIEF, VANDALISM OF VEHICLES   Thursday 2016-12-08   \n",
       "117                     MALICIOUS MISCHIEF, VANDALISM   Thursday 2016-12-08   \n",
       "5332                     CREDIT CARD, THEFT BY USE OF     Friday 2016-11-18   \n",
       "9554                                          BATTERY     Monday 2016-11-14   \n",
       "9964                         CIVIL SIDEWALKS, WARNING  Wednesday 2016-11-02   \n",
       "9963                      CARRYING A CONCEALED WEAPON  Wednesday 2016-11-02   \n",
       "9962                                          BATTERY  Wednesday 2016-11-02   \n",
       "9953                            SUSPICIOUS OCCURRENCE  Wednesday 2016-11-02   \n",
       "9951                             THREATS AGAINST LIFE  Wednesday 2016-11-02   \n",
       "9950            DRIVERS LICENSE, SUSPENDED OR REVOKED  Wednesday 2016-11-02   \n",
       "9945                             THREATS AGAINST LIFE  Wednesday 2016-11-02   \n",
       "9944        MALICIOUS MISCHIEF, VANDALISM OF VEHICLES  Wednesday 2016-11-02   \n",
       "9933                               FALSE IMPRISONMENT    Tuesday 2016-11-01   \n",
       "9860  BURGLARY OF RESIDENCE, ATTEMPTED FORCIBLE ENTRY    Tuesday 2016-11-01   \n",
       "9857                  ENROUTE TO OUTSIDE JURISDICTION    Tuesday 2016-11-01   \n",
       "9986                                FALSE PERSONATION     Monday 2016-10-31   \n",
       "9859                        LOST/STOLEN LICENSE PLATE     Monday 2016-10-31   \n",
       "9826                                          BATTERY     Monday 2016-10-31   \n",
       "9727                                     STOLEN TRUCK     Sunday 2016-10-30   \n",
       "9715   EXHIBITING DEADLY WEAPON IN A THREATING MANNER     Sunday 2016-10-30   \n",
       "9710        MALICIOUS MISCHIEF, VANDALISM OF VEHICLES     Sunday 2016-10-30   \n",
       "9714                BURGLARY OF STORE, FORCIBLE ENTRY   Saturday 2016-10-29   \n",
       "9711                     GRAND THEFT FROM LOCKED AUTO   Saturday 2016-10-29   \n",
       "9644                                 RESISTING ARREST   Saturday 2016-10-29   \n",
       "9645                     MALICIOUS MISCHIEF, GRAFFITI   Saturday 2016-10-29   \n",
       "9611        MALICIOUS MISCHIEF, VANDALISM OF VEHICLES     Friday 2016-10-28   \n",
       "9603                                          BATTERY   Thursday 2016-10-27   \n",
       "\n",
       "       Time  PdDistrict      Resolution                      Address  \\\n",
       "2467  18:17  TENDERLOIN  ARREST, BOOKED        300 Block of JONES ST   \n",
       "115   15:00    NORTHERN  ARREST, BOOKED            PINE ST / POLK ST   \n",
       "116   15:00    NORTHERN  ARREST, BOOKED            PINE ST / POLK ST   \n",
       "118   15:00    NORTHERN  ARREST, BOOKED            PINE ST / POLK ST   \n",
       "117   15:00    NORTHERN  ARREST, BOOKED            PINE ST / POLK ST   \n",
       "5332  12:00     BAYVIEW            NONE      1200 Block of DEHARO ST   \n",
       "9554  09:20    NORTHERN            NONE           ELLIS ST / POLK ST   \n",
       "9964  18:02     MISSION            NONE        21ST ST / SHOTWELL ST   \n",
       "9963  16:42     BAYVIEW            NONE        1100 Block of 18TH ST   \n",
       "9962  16:15     TARAVAL            NONE   MONTEREY BL / NORTHGATE DR   \n",
       "9953  10:00     MISSION            NONE         200 Block of 14TH ST   \n",
       "9951  11:45        PARK            NONE       STANYAN ST / WALLER ST   \n",
       "9950  12:10     BAYVIEW  ARREST, BOOKED          QUESADA AV / 3RD ST   \n",
       "9945  10:19     BAYVIEW            NONE       0 Block of CASHMERE ST   \n",
       "9944  10:38    NORTHERN  ARREST, BOOKED        100 Block of GROVE ST   \n",
       "9933  22:30   INGLESIDE  ARREST, BOOKED        MISSION ST / OCEAN AV   \n",
       "9860  02:54     MISSION            NONE        4000 Block of 19TH ST   \n",
       "9857  10:43    SOUTHERN  ARREST, BOOKED       800 Block of BRYANT ST   \n",
       "9986  10:00     MISSION            NONE         100 Block of CAPP ST   \n",
       "9859  17:30     MISSION            NONE  SOUTH VAN NESS AV / 26TH ST   \n",
       "9826  16:48  TENDERLOIN            NONE         100 Block of HYDE ST   \n",
       "9727  13:20   INGLESIDE            NONE        100 Block of OCEAN AV   \n",
       "9715  11:17     BAYVIEW  ARREST, BOOKED         3800 Block of 3RD ST   \n",
       "9710  03:08     CENTRAL  ARREST, BOOKED       0 Block of BROADWAY ST   \n",
       "9714  19:00     CENTRAL            NONE        200 Block of GRANT AV   \n",
       "9711  21:50    SOUTHERN            NONE        600 Block of MINNA ST   \n",
       "9644  06:20     MISSION  ARREST, BOOKED         20TH ST / DOLORES ST   \n",
       "9645  06:20     MISSION  ARREST, BOOKED         20TH ST / DOLORES ST   \n",
       "9611  05:30    NORTHERN            NONE  0 Block of DANIELBURNHAM CT   \n",
       "9603  20:55     MISSION  ARREST, BOOKED     2000 Block of MISSION ST   \n",
       "\n",
       "               X          Y                               Location  \\\n",
       "2467 -122.412759  37.784400  (37.7843997500192, -122.412758846145)   \n",
       "115  -122.420497  37.789619    (37.789618819255, -122.42049728879)   \n",
       "116  -122.420497  37.789619    (37.789618819255, -122.42049728879)   \n",
       "118  -122.420497  37.789619    (37.789618819255, -122.42049728879)   \n",
       "117  -122.420497  37.789619    (37.789618819255, -122.42049728879)   \n",
       "5332 -122.400632  37.753965    (37.7539653995399, -122.4006319548)   \n",
       "9554 -122.419366  37.784028  (37.7840280452032, -122.419366294797)   \n",
       "9964 -122.415629  37.757232   (37.757232227914, -122.415629332446)   \n",
       "9963 -122.394108  37.762671  (37.7626705352496, -122.394108177688)   \n",
       "9962 -122.461737  37.730023  (37.7300233378439, -122.461736679015)   \n",
       "9953 -122.418885  37.768285  (37.7682847825555, -122.418885184858)   \n",
       "9951 -122.453355  37.768246  (37.7682463076665, -122.453354647469)   \n",
       "9950 -122.391246  37.733225  (37.7332252032804, -122.391245623019)   \n",
       "9945 -122.382705  37.735886  (37.7358858148594, -122.382705072801)   \n",
       "9944 -122.419064  37.778327  (37.7783268674219, -122.419063862505)   \n",
       "9933 -122.435385  37.723910  (37.7239104470753, -122.435385454946)   \n",
       "9860 -122.433209  37.759334  (37.7593336636293, -122.433208516014)   \n",
       "9857 -122.403405  37.775421   (37.775420706711, -122.403404791479)   \n",
       "9986 -122.418550  37.764284  (37.7642837095036, -122.418549940195)   \n",
       "9859 -122.415954  37.749173  (37.7491729638325, -122.415954301518)   \n",
       "9826 -122.415670  37.782120  (37.7821198488931, -122.415669661443)   \n",
       "9727 -122.439345  37.723624    (37.723624467748, -122.43934468789)   \n",
       "9715 -122.387940  37.742260  (37.7422600519555, -122.387939452192)   \n",
       "9710 -122.399296  37.798859   (37.798859198392, -122.399295690795)   \n",
       "9714 -122.405185  37.788876  (37.7888762183538, -122.405184569667)   \n",
       "9711 -122.411206  37.778224  (37.7782244806331, -122.411205728723)   \n",
       "9644 -122.425768  37.758226  (37.7582261992584, -122.425768246873)   \n",
       "9645 -122.425768  37.758226  (37.7582261992584, -122.425768246873)   \n",
       "9611 -122.422541  37.786909  (37.7869088658022, -122.422540554174)   \n",
       "9603 -122.419658  37.764221   (37.7642205603745, -122.41965834371)   \n",
       "\n",
       "              PdId  \n",
       "2467  1.502730e+13  \n",
       "115   1.504800e+13  \n",
       "116   1.504800e+13  \n",
       "118   1.504800e+13  \n",
       "117   1.504800e+13  \n",
       "5332  1.602210e+13  \n",
       "9554  1.609400e+13  \n",
       "9964  1.608940e+13  \n",
       "9963  1.608930e+13  \n",
       "9962  1.608930e+13  \n",
       "9953  1.608930e+13  \n",
       "9951  1.608930e+13  \n",
       "9950  1.608930e+13  \n",
       "9945  1.608930e+13  \n",
       "9944  1.608930e+13  \n",
       "9933  1.608920e+13  \n",
       "9860  1.608900e+13  \n",
       "9857  1.608900e+13  \n",
       "9986  1.608960e+13  \n",
       "9859  1.608900e+13  \n",
       "9826  1.608880e+13  \n",
       "9727  1.608850e+13  \n",
       "9715  1.608840e+13  \n",
       "9710  1.608830e+13  \n",
       "9714  1.608840e+13  \n",
       "9711  1.608830e+13  \n",
       "9644  1.608800e+13  \n",
       "9645  1.608800e+13  \n",
       "9611  1.608770e+13  \n",
       "9603  1.608770e+13  "
      ]
     },
     "execution_count": 15,
     "metadata": {},
     "output_type": "execute_result"
    }
   ],
   "source": [
    "df.sort_values(by=['Date','IncidntNum'], ascending=False, inplace=True)\n",
    "df.head(30)"
   ]
  },
  {
   "cell_type": "code",
   "execution_count": 16,
   "metadata": {},
   "outputs": [
    {
     "data": {
      "text/plain": [
       "LARCENY/THEFT                  1566\n",
       "OTHER OFFENSES                 1476\n",
       "NON-CRIMINAL                   1242\n",
       "ASSAULT                        1075\n",
       "WARRANTS                        555\n",
       "VEHICLE THEFT                   529\n",
       "VANDALISM                       475\n",
       "BURGLARY                        458\n",
       "SUSPICIOUS OCC                  443\n",
       "DRUG/NARCOTIC                   396\n",
       "MISSING PERSON                  364\n",
       "ROBBERY                         268\n",
       "FRAUD                           188\n",
       "SECONDARY CODES                 146\n",
       "TRESPASS                        146\n",
       "WEAPON LAWS                     141\n",
       "RECOVERED VEHICLE                77\n",
       "SEX OFFENSES, FORCIBLE           74\n",
       "PROSTITUTION                     59\n",
       "STOLEN PROPERTY                  55\n",
       "DRUNKENNESS                      51\n",
       "FORGERY/COUNTERFEITING           48\n",
       "DISORDERLY CONDUCT               45\n",
       "DRIVING UNDER THE INFLUENCE      32\n",
       "ARSON                            28\n",
       "KIDNAPPING                       22\n",
       "RUNAWAY                          13\n",
       "BRIBERY                          13\n",
       "LIQUOR LAWS                       9\n",
       "SUICIDE                           6\n",
       "EXTORTION                         5\n",
       "EMBEZZLEMENT                      5\n",
       "FAMILY OFFENSES                   4\n",
       "LOITERING                         2\n",
       "SEX OFFENSES, NON FORCIBLE        2\n",
       "GAMBLING                          1\n",
       "Name: Category, dtype: int64"
      ]
     },
     "execution_count": 16,
     "metadata": {},
     "output_type": "execute_result"
    }
   ],
   "source": [
    "df.Category.value_counts()"
   ]
  },
  {
   "cell_type": "code",
   "execution_count": 23,
   "metadata": {},
   "outputs": [
    {
     "data": {
      "text/html": [
       "<div>\n",
       "<style scoped>\n",
       "    .dataframe tbody tr th:only-of-type {\n",
       "        vertical-align: middle;\n",
       "    }\n",
       "\n",
       "    .dataframe tbody tr th {\n",
       "        vertical-align: top;\n",
       "    }\n",
       "\n",
       "    .dataframe thead th {\n",
       "        text-align: right;\n",
       "    }\n",
       "</style>\n",
       "<table border=\"1\" class=\"dataframe\">\n",
       "  <thead>\n",
       "    <tr style=\"text-align: right;\">\n",
       "      <th></th>\n",
       "      <th>Category</th>\n",
       "      <th>Case Count</th>\n",
       "    </tr>\n",
       "  </thead>\n",
       "  <tbody>\n",
       "    <tr>\n",
       "      <th>0</th>\n",
       "      <td>LARCENY/THEFT</td>\n",
       "      <td>1566</td>\n",
       "    </tr>\n",
       "    <tr>\n",
       "      <th>1</th>\n",
       "      <td>OTHER OFFENSES</td>\n",
       "      <td>1476</td>\n",
       "    </tr>\n",
       "    <tr>\n",
       "      <th>2</th>\n",
       "      <td>NON-CRIMINAL</td>\n",
       "      <td>1242</td>\n",
       "    </tr>\n",
       "    <tr>\n",
       "      <th>3</th>\n",
       "      <td>ASSAULT</td>\n",
       "      <td>1075</td>\n",
       "    </tr>\n",
       "    <tr>\n",
       "      <th>4</th>\n",
       "      <td>WARRANTS</td>\n",
       "      <td>555</td>\n",
       "    </tr>\n",
       "    <tr>\n",
       "      <th>5</th>\n",
       "      <td>VEHICLE THEFT</td>\n",
       "      <td>529</td>\n",
       "    </tr>\n",
       "    <tr>\n",
       "      <th>6</th>\n",
       "      <td>VANDALISM</td>\n",
       "      <td>475</td>\n",
       "    </tr>\n",
       "    <tr>\n",
       "      <th>7</th>\n",
       "      <td>BURGLARY</td>\n",
       "      <td>458</td>\n",
       "    </tr>\n",
       "    <tr>\n",
       "      <th>8</th>\n",
       "      <td>SUSPICIOUS OCC</td>\n",
       "      <td>443</td>\n",
       "    </tr>\n",
       "    <tr>\n",
       "      <th>9</th>\n",
       "      <td>DRUG/NARCOTIC</td>\n",
       "      <td>396</td>\n",
       "    </tr>\n",
       "    <tr>\n",
       "      <th>10</th>\n",
       "      <td>MISSING PERSON</td>\n",
       "      <td>364</td>\n",
       "    </tr>\n",
       "    <tr>\n",
       "      <th>11</th>\n",
       "      <td>ROBBERY</td>\n",
       "      <td>268</td>\n",
       "    </tr>\n",
       "    <tr>\n",
       "      <th>12</th>\n",
       "      <td>FRAUD</td>\n",
       "      <td>188</td>\n",
       "    </tr>\n",
       "    <tr>\n",
       "      <th>13</th>\n",
       "      <td>SECONDARY CODES</td>\n",
       "      <td>146</td>\n",
       "    </tr>\n",
       "    <tr>\n",
       "      <th>14</th>\n",
       "      <td>TRESPASS</td>\n",
       "      <td>146</td>\n",
       "    </tr>\n",
       "    <tr>\n",
       "      <th>15</th>\n",
       "      <td>WEAPON LAWS</td>\n",
       "      <td>141</td>\n",
       "    </tr>\n",
       "    <tr>\n",
       "      <th>16</th>\n",
       "      <td>RECOVERED VEHICLE</td>\n",
       "      <td>77</td>\n",
       "    </tr>\n",
       "    <tr>\n",
       "      <th>17</th>\n",
       "      <td>SEX OFFENSES, FORCIBLE</td>\n",
       "      <td>74</td>\n",
       "    </tr>\n",
       "    <tr>\n",
       "      <th>18</th>\n",
       "      <td>PROSTITUTION</td>\n",
       "      <td>59</td>\n",
       "    </tr>\n",
       "    <tr>\n",
       "      <th>19</th>\n",
       "      <td>STOLEN PROPERTY</td>\n",
       "      <td>55</td>\n",
       "    </tr>\n",
       "    <tr>\n",
       "      <th>20</th>\n",
       "      <td>DRUNKENNESS</td>\n",
       "      <td>51</td>\n",
       "    </tr>\n",
       "    <tr>\n",
       "      <th>21</th>\n",
       "      <td>FORGERY/COUNTERFEITING</td>\n",
       "      <td>48</td>\n",
       "    </tr>\n",
       "    <tr>\n",
       "      <th>22</th>\n",
       "      <td>DISORDERLY CONDUCT</td>\n",
       "      <td>45</td>\n",
       "    </tr>\n",
       "    <tr>\n",
       "      <th>23</th>\n",
       "      <td>DRIVING UNDER THE INFLUENCE</td>\n",
       "      <td>32</td>\n",
       "    </tr>\n",
       "    <tr>\n",
       "      <th>24</th>\n",
       "      <td>ARSON</td>\n",
       "      <td>28</td>\n",
       "    </tr>\n",
       "    <tr>\n",
       "      <th>25</th>\n",
       "      <td>KIDNAPPING</td>\n",
       "      <td>22</td>\n",
       "    </tr>\n",
       "    <tr>\n",
       "      <th>26</th>\n",
       "      <td>RUNAWAY</td>\n",
       "      <td>13</td>\n",
       "    </tr>\n",
       "    <tr>\n",
       "      <th>27</th>\n",
       "      <td>BRIBERY</td>\n",
       "      <td>13</td>\n",
       "    </tr>\n",
       "    <tr>\n",
       "      <th>28</th>\n",
       "      <td>LIQUOR LAWS</td>\n",
       "      <td>9</td>\n",
       "    </tr>\n",
       "    <tr>\n",
       "      <th>29</th>\n",
       "      <td>SUICIDE</td>\n",
       "      <td>6</td>\n",
       "    </tr>\n",
       "    <tr>\n",
       "      <th>30</th>\n",
       "      <td>EXTORTION</td>\n",
       "      <td>5</td>\n",
       "    </tr>\n",
       "    <tr>\n",
       "      <th>31</th>\n",
       "      <td>EMBEZZLEMENT</td>\n",
       "      <td>5</td>\n",
       "    </tr>\n",
       "    <tr>\n",
       "      <th>32</th>\n",
       "      <td>FAMILY OFFENSES</td>\n",
       "      <td>4</td>\n",
       "    </tr>\n",
       "    <tr>\n",
       "      <th>33</th>\n",
       "      <td>LOITERING</td>\n",
       "      <td>2</td>\n",
       "    </tr>\n",
       "    <tr>\n",
       "      <th>34</th>\n",
       "      <td>SEX OFFENSES, NON FORCIBLE</td>\n",
       "      <td>2</td>\n",
       "    </tr>\n",
       "    <tr>\n",
       "      <th>35</th>\n",
       "      <td>GAMBLING</td>\n",
       "      <td>1</td>\n",
       "    </tr>\n",
       "  </tbody>\n",
       "</table>\n",
       "</div>"
      ],
      "text/plain": [
       "                       Category  Case Count\n",
       "0                 LARCENY/THEFT        1566\n",
       "1                OTHER OFFENSES        1476\n",
       "2                  NON-CRIMINAL        1242\n",
       "3                       ASSAULT        1075\n",
       "4                      WARRANTS         555\n",
       "5                 VEHICLE THEFT         529\n",
       "6                     VANDALISM         475\n",
       "7                      BURGLARY         458\n",
       "8                SUSPICIOUS OCC         443\n",
       "9                 DRUG/NARCOTIC         396\n",
       "10               MISSING PERSON         364\n",
       "11                      ROBBERY         268\n",
       "12                        FRAUD         188\n",
       "13              SECONDARY CODES         146\n",
       "14                     TRESPASS         146\n",
       "15                  WEAPON LAWS         141\n",
       "16            RECOVERED VEHICLE          77\n",
       "17       SEX OFFENSES, FORCIBLE          74\n",
       "18                 PROSTITUTION          59\n",
       "19              STOLEN PROPERTY          55\n",
       "20                  DRUNKENNESS          51\n",
       "21       FORGERY/COUNTERFEITING          48\n",
       "22           DISORDERLY CONDUCT          45\n",
       "23  DRIVING UNDER THE INFLUENCE          32\n",
       "24                        ARSON          28\n",
       "25                   KIDNAPPING          22\n",
       "26                      RUNAWAY          13\n",
       "27                      BRIBERY          13\n",
       "28                  LIQUOR LAWS           9\n",
       "29                      SUICIDE           6\n",
       "30                    EXTORTION           5\n",
       "31                 EMBEZZLEMENT           5\n",
       "32              FAMILY OFFENSES           4\n",
       "33                    LOITERING           2\n",
       "34   SEX OFFENSES, NON FORCIBLE           2\n",
       "35                     GAMBLING           1"
      ]
     },
     "execution_count": 23,
     "metadata": {},
     "output_type": "execute_result"
    }
   ],
   "source": [
    "category_count = df.Category.value_counts().reset_index()\n",
    "category_count.columns = ['Category','Case Count']\n",
    "category_count"
   ]
  },
  {
   "cell_type": "code",
   "execution_count": 34,
   "metadata": {},
   "outputs": [
    {
     "data": {
      "application/vnd.plotly.v1+json": {
       "config": {
        "plotlyServerURL": "https://plot.ly"
       },
       "data": [
        {
         "domain": {
          "x": [
           0,
           1
          ],
          "y": [
           0,
           1
          ]
         },
         "hovertemplate": "Category=%{label}<br>Case Count=%{value}<extra></extra>",
         "labels": [
          "LARCENY/THEFT",
          "OTHER OFFENSES",
          "NON-CRIMINAL",
          "ASSAULT",
          "WARRANTS",
          "VEHICLE THEFT",
          "VANDALISM",
          "BURGLARY",
          "SUSPICIOUS OCC",
          "DRUG/NARCOTIC"
         ],
         "legendgroup": "",
         "name": "",
         "showlegend": true,
         "type": "pie",
         "values": [
          1566,
          1476,
          1242,
          1075,
          555,
          529,
          475,
          458,
          443,
          396
         ]
        }
       ],
       "layout": {
        "legend": {
         "tracegroupgap": 0
        },
        "margin": {
         "t": 60
        },
        "template": {
         "data": {
          "bar": [
           {
            "error_x": {
             "color": "#2a3f5f"
            },
            "error_y": {
             "color": "#2a3f5f"
            },
            "marker": {
             "line": {
              "color": "#E5ECF6",
              "width": 0.5
             },
             "pattern": {
              "fillmode": "overlay",
              "size": 10,
              "solidity": 0.2
             }
            },
            "type": "bar"
           }
          ],
          "barpolar": [
           {
            "marker": {
             "line": {
              "color": "#E5ECF6",
              "width": 0.5
             },
             "pattern": {
              "fillmode": "overlay",
              "size": 10,
              "solidity": 0.2
             }
            },
            "type": "barpolar"
           }
          ],
          "carpet": [
           {
            "aaxis": {
             "endlinecolor": "#2a3f5f",
             "gridcolor": "white",
             "linecolor": "white",
             "minorgridcolor": "white",
             "startlinecolor": "#2a3f5f"
            },
            "baxis": {
             "endlinecolor": "#2a3f5f",
             "gridcolor": "white",
             "linecolor": "white",
             "minorgridcolor": "white",
             "startlinecolor": "#2a3f5f"
            },
            "type": "carpet"
           }
          ],
          "choropleth": [
           {
            "colorbar": {
             "outlinewidth": 0,
             "ticks": ""
            },
            "type": "choropleth"
           }
          ],
          "contour": [
           {
            "colorbar": {
             "outlinewidth": 0,
             "ticks": ""
            },
            "colorscale": [
             [
              0,
              "#0d0887"
             ],
             [
              0.1111111111111111,
              "#46039f"
             ],
             [
              0.2222222222222222,
              "#7201a8"
             ],
             [
              0.3333333333333333,
              "#9c179e"
             ],
             [
              0.4444444444444444,
              "#bd3786"
             ],
             [
              0.5555555555555556,
              "#d8576b"
             ],
             [
              0.6666666666666666,
              "#ed7953"
             ],
             [
              0.7777777777777778,
              "#fb9f3a"
             ],
             [
              0.8888888888888888,
              "#fdca26"
             ],
             [
              1,
              "#f0f921"
             ]
            ],
            "type": "contour"
           }
          ],
          "contourcarpet": [
           {
            "colorbar": {
             "outlinewidth": 0,
             "ticks": ""
            },
            "type": "contourcarpet"
           }
          ],
          "heatmap": [
           {
            "colorbar": {
             "outlinewidth": 0,
             "ticks": ""
            },
            "colorscale": [
             [
              0,
              "#0d0887"
             ],
             [
              0.1111111111111111,
              "#46039f"
             ],
             [
              0.2222222222222222,
              "#7201a8"
             ],
             [
              0.3333333333333333,
              "#9c179e"
             ],
             [
              0.4444444444444444,
              "#bd3786"
             ],
             [
              0.5555555555555556,
              "#d8576b"
             ],
             [
              0.6666666666666666,
              "#ed7953"
             ],
             [
              0.7777777777777778,
              "#fb9f3a"
             ],
             [
              0.8888888888888888,
              "#fdca26"
             ],
             [
              1,
              "#f0f921"
             ]
            ],
            "type": "heatmap"
           }
          ],
          "heatmapgl": [
           {
            "colorbar": {
             "outlinewidth": 0,
             "ticks": ""
            },
            "colorscale": [
             [
              0,
              "#0d0887"
             ],
             [
              0.1111111111111111,
              "#46039f"
             ],
             [
              0.2222222222222222,
              "#7201a8"
             ],
             [
              0.3333333333333333,
              "#9c179e"
             ],
             [
              0.4444444444444444,
              "#bd3786"
             ],
             [
              0.5555555555555556,
              "#d8576b"
             ],
             [
              0.6666666666666666,
              "#ed7953"
             ],
             [
              0.7777777777777778,
              "#fb9f3a"
             ],
             [
              0.8888888888888888,
              "#fdca26"
             ],
             [
              1,
              "#f0f921"
             ]
            ],
            "type": "heatmapgl"
           }
          ],
          "histogram": [
           {
            "marker": {
             "pattern": {
              "fillmode": "overlay",
              "size": 10,
              "solidity": 0.2
             }
            },
            "type": "histogram"
           }
          ],
          "histogram2d": [
           {
            "colorbar": {
             "outlinewidth": 0,
             "ticks": ""
            },
            "colorscale": [
             [
              0,
              "#0d0887"
             ],
             [
              0.1111111111111111,
              "#46039f"
             ],
             [
              0.2222222222222222,
              "#7201a8"
             ],
             [
              0.3333333333333333,
              "#9c179e"
             ],
             [
              0.4444444444444444,
              "#bd3786"
             ],
             [
              0.5555555555555556,
              "#d8576b"
             ],
             [
              0.6666666666666666,
              "#ed7953"
             ],
             [
              0.7777777777777778,
              "#fb9f3a"
             ],
             [
              0.8888888888888888,
              "#fdca26"
             ],
             [
              1,
              "#f0f921"
             ]
            ],
            "type": "histogram2d"
           }
          ],
          "histogram2dcontour": [
           {
            "colorbar": {
             "outlinewidth": 0,
             "ticks": ""
            },
            "colorscale": [
             [
              0,
              "#0d0887"
             ],
             [
              0.1111111111111111,
              "#46039f"
             ],
             [
              0.2222222222222222,
              "#7201a8"
             ],
             [
              0.3333333333333333,
              "#9c179e"
             ],
             [
              0.4444444444444444,
              "#bd3786"
             ],
             [
              0.5555555555555556,
              "#d8576b"
             ],
             [
              0.6666666666666666,
              "#ed7953"
             ],
             [
              0.7777777777777778,
              "#fb9f3a"
             ],
             [
              0.8888888888888888,
              "#fdca26"
             ],
             [
              1,
              "#f0f921"
             ]
            ],
            "type": "histogram2dcontour"
           }
          ],
          "mesh3d": [
           {
            "colorbar": {
             "outlinewidth": 0,
             "ticks": ""
            },
            "type": "mesh3d"
           }
          ],
          "parcoords": [
           {
            "line": {
             "colorbar": {
              "outlinewidth": 0,
              "ticks": ""
             }
            },
            "type": "parcoords"
           }
          ],
          "pie": [
           {
            "automargin": true,
            "type": "pie"
           }
          ],
          "scatter": [
           {
            "fillpattern": {
             "fillmode": "overlay",
             "size": 10,
             "solidity": 0.2
            },
            "type": "scatter"
           }
          ],
          "scatter3d": [
           {
            "line": {
             "colorbar": {
              "outlinewidth": 0,
              "ticks": ""
             }
            },
            "marker": {
             "colorbar": {
              "outlinewidth": 0,
              "ticks": ""
             }
            },
            "type": "scatter3d"
           }
          ],
          "scattercarpet": [
           {
            "marker": {
             "colorbar": {
              "outlinewidth": 0,
              "ticks": ""
             }
            },
            "type": "scattercarpet"
           }
          ],
          "scattergeo": [
           {
            "marker": {
             "colorbar": {
              "outlinewidth": 0,
              "ticks": ""
             }
            },
            "type": "scattergeo"
           }
          ],
          "scattergl": [
           {
            "marker": {
             "colorbar": {
              "outlinewidth": 0,
              "ticks": ""
             }
            },
            "type": "scattergl"
           }
          ],
          "scattermapbox": [
           {
            "marker": {
             "colorbar": {
              "outlinewidth": 0,
              "ticks": ""
             }
            },
            "type": "scattermapbox"
           }
          ],
          "scatterpolar": [
           {
            "marker": {
             "colorbar": {
              "outlinewidth": 0,
              "ticks": ""
             }
            },
            "type": "scatterpolar"
           }
          ],
          "scatterpolargl": [
           {
            "marker": {
             "colorbar": {
              "outlinewidth": 0,
              "ticks": ""
             }
            },
            "type": "scatterpolargl"
           }
          ],
          "scatterternary": [
           {
            "marker": {
             "colorbar": {
              "outlinewidth": 0,
              "ticks": ""
             }
            },
            "type": "scatterternary"
           }
          ],
          "surface": [
           {
            "colorbar": {
             "outlinewidth": 0,
             "ticks": ""
            },
            "colorscale": [
             [
              0,
              "#0d0887"
             ],
             [
              0.1111111111111111,
              "#46039f"
             ],
             [
              0.2222222222222222,
              "#7201a8"
             ],
             [
              0.3333333333333333,
              "#9c179e"
             ],
             [
              0.4444444444444444,
              "#bd3786"
             ],
             [
              0.5555555555555556,
              "#d8576b"
             ],
             [
              0.6666666666666666,
              "#ed7953"
             ],
             [
              0.7777777777777778,
              "#fb9f3a"
             ],
             [
              0.8888888888888888,
              "#fdca26"
             ],
             [
              1,
              "#f0f921"
             ]
            ],
            "type": "surface"
           }
          ],
          "table": [
           {
            "cells": {
             "fill": {
              "color": "#EBF0F8"
             },
             "line": {
              "color": "white"
             }
            },
            "header": {
             "fill": {
              "color": "#C8D4E3"
             },
             "line": {
              "color": "white"
             }
            },
            "type": "table"
           }
          ]
         },
         "layout": {
          "annotationdefaults": {
           "arrowcolor": "#2a3f5f",
           "arrowhead": 0,
           "arrowwidth": 1
          },
          "autotypenumbers": "strict",
          "coloraxis": {
           "colorbar": {
            "outlinewidth": 0,
            "ticks": ""
           }
          },
          "colorscale": {
           "diverging": [
            [
             0,
             "#8e0152"
            ],
            [
             0.1,
             "#c51b7d"
            ],
            [
             0.2,
             "#de77ae"
            ],
            [
             0.3,
             "#f1b6da"
            ],
            [
             0.4,
             "#fde0ef"
            ],
            [
             0.5,
             "#f7f7f7"
            ],
            [
             0.6,
             "#e6f5d0"
            ],
            [
             0.7,
             "#b8e186"
            ],
            [
             0.8,
             "#7fbc41"
            ],
            [
             0.9,
             "#4d9221"
            ],
            [
             1,
             "#276419"
            ]
           ],
           "sequential": [
            [
             0,
             "#0d0887"
            ],
            [
             0.1111111111111111,
             "#46039f"
            ],
            [
             0.2222222222222222,
             "#7201a8"
            ],
            [
             0.3333333333333333,
             "#9c179e"
            ],
            [
             0.4444444444444444,
             "#bd3786"
            ],
            [
             0.5555555555555556,
             "#d8576b"
            ],
            [
             0.6666666666666666,
             "#ed7953"
            ],
            [
             0.7777777777777778,
             "#fb9f3a"
            ],
            [
             0.8888888888888888,
             "#fdca26"
            ],
            [
             1,
             "#f0f921"
            ]
           ],
           "sequentialminus": [
            [
             0,
             "#0d0887"
            ],
            [
             0.1111111111111111,
             "#46039f"
            ],
            [
             0.2222222222222222,
             "#7201a8"
            ],
            [
             0.3333333333333333,
             "#9c179e"
            ],
            [
             0.4444444444444444,
             "#bd3786"
            ],
            [
             0.5555555555555556,
             "#d8576b"
            ],
            [
             0.6666666666666666,
             "#ed7953"
            ],
            [
             0.7777777777777778,
             "#fb9f3a"
            ],
            [
             0.8888888888888888,
             "#fdca26"
            ],
            [
             1,
             "#f0f921"
            ]
           ]
          },
          "colorway": [
           "#636efa",
           "#EF553B",
           "#00cc96",
           "#ab63fa",
           "#FFA15A",
           "#19d3f3",
           "#FF6692",
           "#B6E880",
           "#FF97FF",
           "#FECB52"
          ],
          "font": {
           "color": "#2a3f5f"
          },
          "geo": {
           "bgcolor": "white",
           "lakecolor": "white",
           "landcolor": "#E5ECF6",
           "showlakes": true,
           "showland": true,
           "subunitcolor": "white"
          },
          "hoverlabel": {
           "align": "left"
          },
          "hovermode": "closest",
          "mapbox": {
           "style": "light"
          },
          "paper_bgcolor": "white",
          "plot_bgcolor": "#E5ECF6",
          "polar": {
           "angularaxis": {
            "gridcolor": "white",
            "linecolor": "white",
            "ticks": ""
           },
           "bgcolor": "#E5ECF6",
           "radialaxis": {
            "gridcolor": "white",
            "linecolor": "white",
            "ticks": ""
           }
          },
          "scene": {
           "xaxis": {
            "backgroundcolor": "#E5ECF6",
            "gridcolor": "white",
            "gridwidth": 2,
            "linecolor": "white",
            "showbackground": true,
            "ticks": "",
            "zerolinecolor": "white"
           },
           "yaxis": {
            "backgroundcolor": "#E5ECF6",
            "gridcolor": "white",
            "gridwidth": 2,
            "linecolor": "white",
            "showbackground": true,
            "ticks": "",
            "zerolinecolor": "white"
           },
           "zaxis": {
            "backgroundcolor": "#E5ECF6",
            "gridcolor": "white",
            "gridwidth": 2,
            "linecolor": "white",
            "showbackground": true,
            "ticks": "",
            "zerolinecolor": "white"
           }
          },
          "shapedefaults": {
           "line": {
            "color": "#2a3f5f"
           }
          },
          "ternary": {
           "aaxis": {
            "gridcolor": "white",
            "linecolor": "white",
            "ticks": ""
           },
           "baxis": {
            "gridcolor": "white",
            "linecolor": "white",
            "ticks": ""
           },
           "bgcolor": "#E5ECF6",
           "caxis": {
            "gridcolor": "white",
            "linecolor": "white",
            "ticks": ""
           }
          },
          "title": {
           "x": 0.05
          },
          "xaxis": {
           "automargin": true,
           "gridcolor": "white",
           "linecolor": "white",
           "ticks": "",
           "title": {
            "standoff": 15
           },
           "zerolinecolor": "white",
           "zerolinewidth": 2
          },
          "yaxis": {
           "automargin": true,
           "gridcolor": "white",
           "linecolor": "white",
           "ticks": "",
           "title": {
            "standoff": 15
           },
           "zerolinecolor": "white",
           "zerolinewidth": 2
          }
         }
        }
       }
      }
     },
     "metadata": {},
     "output_type": "display_data"
    }
   ],
   "source": [
    "category_count_top_10 = category_count.head(10)\n",
    "px.pie(category_count_top_10, 'Category', 'Case Count')"
   ]
  },
  {
   "cell_type": "code",
   "execution_count": 43,
   "metadata": {},
   "outputs": [
    {
     "data": {
      "text/html": [
       "<div>\n",
       "<style scoped>\n",
       "    .dataframe tbody tr th:only-of-type {\n",
       "        vertical-align: middle;\n",
       "    }\n",
       "\n",
       "    .dataframe tbody tr th {\n",
       "        vertical-align: top;\n",
       "    }\n",
       "\n",
       "    .dataframe thead th {\n",
       "        text-align: right;\n",
       "    }\n",
       "</style>\n",
       "<table border=\"1\" class=\"dataframe\">\n",
       "  <thead>\n",
       "    <tr style=\"text-align: right;\">\n",
       "      <th></th>\n",
       "      <th>IncidntNum</th>\n",
       "      <th>Category</th>\n",
       "      <th>Descript</th>\n",
       "      <th>DayOfWeek</th>\n",
       "      <th>Date</th>\n",
       "      <th>Time</th>\n",
       "      <th>PdDistrict</th>\n",
       "      <th>Resolution</th>\n",
       "      <th>Address</th>\n",
       "      <th>X</th>\n",
       "      <th>Y</th>\n",
       "      <th>Location</th>\n",
       "      <th>PdId</th>\n",
       "    </tr>\n",
       "  </thead>\n",
       "  <tbody>\n",
       "    <tr>\n",
       "      <th>2467</th>\n",
       "      <td>150273337.0</td>\n",
       "      <td>WARRANTS</td>\n",
       "      <td>WARRANT ARREST</td>\n",
       "      <td>Wednesday</td>\n",
       "      <td>2016-12-21</td>\n",
       "      <td>18:17</td>\n",
       "      <td>TENDERLOIN</td>\n",
       "      <td>ARREST, BOOKED</td>\n",
       "      <td>300 Block of JONES ST</td>\n",
       "      <td>-122.412759</td>\n",
       "      <td>37.784400</td>\n",
       "      <td>(37.7843997500192, -122.412758846145)</td>\n",
       "      <td>1.502730e+13</td>\n",
       "    </tr>\n",
       "    <tr>\n",
       "      <th>115</th>\n",
       "      <td>150480366.0</td>\n",
       "      <td>VEHICLE THEFT</td>\n",
       "      <td>STOLEN AND RECOVERED VEHICLE</td>\n",
       "      <td>Thursday</td>\n",
       "      <td>2016-12-08</td>\n",
       "      <td>15:00</td>\n",
       "      <td>NORTHERN</td>\n",
       "      <td>ARREST, BOOKED</td>\n",
       "      <td>PINE ST / POLK ST</td>\n",
       "      <td>-122.420497</td>\n",
       "      <td>37.789619</td>\n",
       "      <td>(37.789618819255, -122.42049728879)</td>\n",
       "      <td>1.504800e+13</td>\n",
       "    </tr>\n",
       "    <tr>\n",
       "      <th>116</th>\n",
       "      <td>150480366.0</td>\n",
       "      <td>DRUNKENNESS</td>\n",
       "      <td>UNDER INFLUENCE OF ALCOHOL IN A PUBLIC PLACE</td>\n",
       "      <td>Thursday</td>\n",
       "      <td>2016-12-08</td>\n",
       "      <td>15:00</td>\n",
       "      <td>NORTHERN</td>\n",
       "      <td>ARREST, BOOKED</td>\n",
       "      <td>PINE ST / POLK ST</td>\n",
       "      <td>-122.420497</td>\n",
       "      <td>37.789619</td>\n",
       "      <td>(37.789618819255, -122.42049728879)</td>\n",
       "      <td>1.504800e+13</td>\n",
       "    </tr>\n",
       "    <tr>\n",
       "      <th>118</th>\n",
       "      <td>150480366.0</td>\n",
       "      <td>VANDALISM</td>\n",
       "      <td>MALICIOUS MISCHIEF, VANDALISM OF VEHICLES</td>\n",
       "      <td>Thursday</td>\n",
       "      <td>2016-12-08</td>\n",
       "      <td>15:00</td>\n",
       "      <td>NORTHERN</td>\n",
       "      <td>ARREST, BOOKED</td>\n",
       "      <td>PINE ST / POLK ST</td>\n",
       "      <td>-122.420497</td>\n",
       "      <td>37.789619</td>\n",
       "      <td>(37.789618819255, -122.42049728879)</td>\n",
       "      <td>1.504800e+13</td>\n",
       "    </tr>\n",
       "    <tr>\n",
       "      <th>117</th>\n",
       "      <td>150480366.0</td>\n",
       "      <td>VANDALISM</td>\n",
       "      <td>MALICIOUS MISCHIEF, VANDALISM</td>\n",
       "      <td>Thursday</td>\n",
       "      <td>2016-12-08</td>\n",
       "      <td>15:00</td>\n",
       "      <td>NORTHERN</td>\n",
       "      <td>ARREST, BOOKED</td>\n",
       "      <td>PINE ST / POLK ST</td>\n",
       "      <td>-122.420497</td>\n",
       "      <td>37.789619</td>\n",
       "      <td>(37.789618819255, -122.42049728879)</td>\n",
       "      <td>1.504800e+13</td>\n",
       "    </tr>\n",
       "    <tr>\n",
       "      <th>...</th>\n",
       "      <td>...</td>\n",
       "      <td>...</td>\n",
       "      <td>...</td>\n",
       "      <td>...</td>\n",
       "      <td>...</td>\n",
       "      <td>...</td>\n",
       "      <td>...</td>\n",
       "      <td>...</td>\n",
       "      <td>...</td>\n",
       "      <td>...</td>\n",
       "      <td>...</td>\n",
       "      <td>...</td>\n",
       "      <td>...</td>\n",
       "    </tr>\n",
       "    <tr>\n",
       "      <th>143</th>\n",
       "      <td>160000471.0</td>\n",
       "      <td>WEAPON LAWS</td>\n",
       "      <td>POSS OF PROHIBITED WEAPON</td>\n",
       "      <td>Friday</td>\n",
       "      <td>2016-01-01</td>\n",
       "      <td>02:04</td>\n",
       "      <td>TENDERLOIN</td>\n",
       "      <td>ARREST, BOOKED</td>\n",
       "      <td>100 Block of TAYLOR ST</td>\n",
       "      <td>-122.410792</td>\n",
       "      <td>37.783695</td>\n",
       "      <td>(37.7836952269749, -122.410791677645)</td>\n",
       "      <td>1.600000e+13</td>\n",
       "    </tr>\n",
       "    <tr>\n",
       "      <th>141</th>\n",
       "      <td>160000471.0</td>\n",
       "      <td>ASSAULT</td>\n",
       "      <td>MAYHEM WITH A DEADLY WEAPON</td>\n",
       "      <td>Friday</td>\n",
       "      <td>2016-01-01</td>\n",
       "      <td>02:04</td>\n",
       "      <td>TENDERLOIN</td>\n",
       "      <td>ARREST, BOOKED</td>\n",
       "      <td>100 Block of TAYLOR ST</td>\n",
       "      <td>-122.410792</td>\n",
       "      <td>37.783695</td>\n",
       "      <td>(37.7836952269749, -122.410791677645)</td>\n",
       "      <td>1.600000e+13</td>\n",
       "    </tr>\n",
       "    <tr>\n",
       "      <th>132</th>\n",
       "      <td>160000211.0</td>\n",
       "      <td>OTHER OFFENSES</td>\n",
       "      <td>INTERFERRING WITH A POLICE OFFICER</td>\n",
       "      <td>Friday</td>\n",
       "      <td>2016-01-01</td>\n",
       "      <td>00:50</td>\n",
       "      <td>SOUTHERN</td>\n",
       "      <td>ARREST, BOOKED</td>\n",
       "      <td>MARKET ST / BEALE ST</td>\n",
       "      <td>-122.397388</td>\n",
       "      <td>37.792405</td>\n",
       "      <td>(37.7924047319625, -122.397387796127)</td>\n",
       "      <td>1.600000e+13</td>\n",
       "    </tr>\n",
       "    <tr>\n",
       "      <th>2797</th>\n",
       "      <td>151123444.0</td>\n",
       "      <td>NON-CRIMINAL</td>\n",
       "      <td>CASE CLOSURE</td>\n",
       "      <td>Friday</td>\n",
       "      <td>2016-01-01</td>\n",
       "      <td>00:01</td>\n",
       "      <td>CENTRAL</td>\n",
       "      <td>UNFOUNDED</td>\n",
       "      <td>600 Block of GEARY ST</td>\n",
       "      <td>-122.414011</td>\n",
       "      <td>37.786677</td>\n",
       "      <td>(37.7866770011071, -122.414010814727)</td>\n",
       "      <td>1.511230e+13</td>\n",
       "    </tr>\n",
       "    <tr>\n",
       "      <th>2796</th>\n",
       "      <td>151123444.0</td>\n",
       "      <td>FORGERY/COUNTERFEITING</td>\n",
       "      <td>FINANCIAL STATEMENTS, FALSE</td>\n",
       "      <td>Friday</td>\n",
       "      <td>2016-01-01</td>\n",
       "      <td>00:01</td>\n",
       "      <td>CENTRAL</td>\n",
       "      <td>UNFOUNDED</td>\n",
       "      <td>600 Block of GEARY ST</td>\n",
       "      <td>-122.414011</td>\n",
       "      <td>37.786677</td>\n",
       "      <td>(37.7866770011071, -122.414010814727)</td>\n",
       "      <td>1.511230e+13</td>\n",
       "    </tr>\n",
       "  </tbody>\n",
       "</table>\n",
       "<p>3629 rows × 13 columns</p>\n",
       "</div>"
      ],
      "text/plain": [
       "       IncidntNum                Category  \\\n",
       "2467  150273337.0                WARRANTS   \n",
       "115   150480366.0           VEHICLE THEFT   \n",
       "116   150480366.0             DRUNKENNESS   \n",
       "118   150480366.0               VANDALISM   \n",
       "117   150480366.0               VANDALISM   \n",
       "...           ...                     ...   \n",
       "143   160000471.0             WEAPON LAWS   \n",
       "141   160000471.0                 ASSAULT   \n",
       "132   160000211.0          OTHER OFFENSES   \n",
       "2797  151123444.0            NON-CRIMINAL   \n",
       "2796  151123444.0  FORGERY/COUNTERFEITING   \n",
       "\n",
       "                                          Descript  DayOfWeek       Date  \\\n",
       "2467                                WARRANT ARREST  Wednesday 2016-12-21   \n",
       "115                   STOLEN AND RECOVERED VEHICLE   Thursday 2016-12-08   \n",
       "116   UNDER INFLUENCE OF ALCOHOL IN A PUBLIC PLACE   Thursday 2016-12-08   \n",
       "118      MALICIOUS MISCHIEF, VANDALISM OF VEHICLES   Thursday 2016-12-08   \n",
       "117                  MALICIOUS MISCHIEF, VANDALISM   Thursday 2016-12-08   \n",
       "...                                            ...        ...        ...   \n",
       "143                      POSS OF PROHIBITED WEAPON     Friday 2016-01-01   \n",
       "141                    MAYHEM WITH A DEADLY WEAPON     Friday 2016-01-01   \n",
       "132             INTERFERRING WITH A POLICE OFFICER     Friday 2016-01-01   \n",
       "2797                                  CASE CLOSURE     Friday 2016-01-01   \n",
       "2796                   FINANCIAL STATEMENTS, FALSE     Friday 2016-01-01   \n",
       "\n",
       "       Time  PdDistrict      Resolution                 Address           X  \\\n",
       "2467  18:17  TENDERLOIN  ARREST, BOOKED   300 Block of JONES ST -122.412759   \n",
       "115   15:00    NORTHERN  ARREST, BOOKED       PINE ST / POLK ST -122.420497   \n",
       "116   15:00    NORTHERN  ARREST, BOOKED       PINE ST / POLK ST -122.420497   \n",
       "118   15:00    NORTHERN  ARREST, BOOKED       PINE ST / POLK ST -122.420497   \n",
       "117   15:00    NORTHERN  ARREST, BOOKED       PINE ST / POLK ST -122.420497   \n",
       "...     ...         ...             ...                     ...         ...   \n",
       "143   02:04  TENDERLOIN  ARREST, BOOKED  100 Block of TAYLOR ST -122.410792   \n",
       "141   02:04  TENDERLOIN  ARREST, BOOKED  100 Block of TAYLOR ST -122.410792   \n",
       "132   00:50    SOUTHERN  ARREST, BOOKED    MARKET ST / BEALE ST -122.397388   \n",
       "2797  00:01     CENTRAL       UNFOUNDED   600 Block of GEARY ST -122.414011   \n",
       "2796  00:01     CENTRAL       UNFOUNDED   600 Block of GEARY ST -122.414011   \n",
       "\n",
       "              Y                               Location          PdId  \n",
       "2467  37.784400  (37.7843997500192, -122.412758846145)  1.502730e+13  \n",
       "115   37.789619    (37.789618819255, -122.42049728879)  1.504800e+13  \n",
       "116   37.789619    (37.789618819255, -122.42049728879)  1.504800e+13  \n",
       "118   37.789619    (37.789618819255, -122.42049728879)  1.504800e+13  \n",
       "117   37.789619    (37.789618819255, -122.42049728879)  1.504800e+13  \n",
       "...         ...                                    ...           ...  \n",
       "143   37.783695  (37.7836952269749, -122.410791677645)  1.600000e+13  \n",
       "141   37.783695  (37.7836952269749, -122.410791677645)  1.600000e+13  \n",
       "132   37.792405  (37.7924047319625, -122.397387796127)  1.600000e+13  \n",
       "2797  37.786677  (37.7866770011071, -122.414010814727)  1.511230e+13  \n",
       "2796  37.786677  (37.7866770011071, -122.414010814727)  1.511230e+13  \n",
       "\n",
       "[3629 rows x 13 columns]"
      ]
     },
     "execution_count": 43,
     "metadata": {},
     "output_type": "execute_result"
    }
   ],
   "source": [
    "# df.drop(df[df.Resolution =='NONE'].index) # eliminate rows with Resolution = NONE"
   ]
  },
  {
   "attachments": {},
   "cell_type": "markdown",
   "metadata": {},
   "source": [
    "find the most common way of handling indicents by the PD, in SanFranciso using visualization"
   ]
  },
  {
   "cell_type": "code",
   "execution_count": 60,
   "metadata": {},
   "outputs": [
    {
     "data": {
      "text/plain": [
       "OTHER OFFENSES     32\n",
       "LARCENY/THEFT      25\n",
       "ASSAULT            18\n",
       "NON-CRIMINAL       16\n",
       "VEHICLE THEFT      12\n",
       "VANDALISM          12\n",
       "DRUG/NARCOTIC      10\n",
       "SUSPICIOUS OCC     10\n",
       "BURGLARY            9\n",
       "WARRANTS            8\n",
       "MISSING PERSON      7\n",
       "WEAPON LAWS         6\n",
       "ROBBERY             5\n",
       "SECONDARY CODES     5\n",
       "PROSTITUTION        4\n",
       "TRESPASS            2\n",
       "FRAUD               1\n",
       "Name: Category, dtype: int64"
      ]
     },
     "execution_count": 60,
     "metadata": {},
     "output_type": "execute_result"
    }
   ],
   "source": [
    "# get only november entrie\n",
    "df[df.Date.dt.month == 10].Category.value_counts()"
   ]
  },
  {
   "attachments": {},
   "cell_type": "markdown",
   "metadata": {},
   "source": [
    "group incident categories by month"
   ]
  },
  {
   "cell_type": "code",
   "execution_count": 80,
   "metadata": {},
   "outputs": [
    {
     "data": {
      "text/html": [
       "<div>\n",
       "<style scoped>\n",
       "    .dataframe tbody tr th:only-of-type {\n",
       "        vertical-align: middle;\n",
       "    }\n",
       "\n",
       "    .dataframe tbody tr th {\n",
       "        vertical-align: top;\n",
       "    }\n",
       "\n",
       "    .dataframe thead th {\n",
       "        text-align: right;\n",
       "    }\n",
       "</style>\n",
       "<table border=\"1\" class=\"dataframe\">\n",
       "  <thead>\n",
       "    <tr style=\"text-align: right;\">\n",
       "      <th></th>\n",
       "      <th>Month</th>\n",
       "      <th>Case Count</th>\n",
       "    </tr>\n",
       "  </thead>\n",
       "  <tbody>\n",
       "    <tr>\n",
       "      <th>0</th>\n",
       "      <td>1</td>\n",
       "      <td>2097</td>\n",
       "    </tr>\n",
       "    <tr>\n",
       "      <th>1</th>\n",
       "      <td>2</td>\n",
       "      <td>2387</td>\n",
       "    </tr>\n",
       "    <tr>\n",
       "      <th>2</th>\n",
       "      <td>3</td>\n",
       "      <td>3361</td>\n",
       "    </tr>\n",
       "    <tr>\n",
       "      <th>3</th>\n",
       "      <td>4</td>\n",
       "      <td>1334</td>\n",
       "    </tr>\n",
       "    <tr>\n",
       "      <th>4</th>\n",
       "      <td>5</td>\n",
       "      <td>82</td>\n",
       "    </tr>\n",
       "    <tr>\n",
       "      <th>5</th>\n",
       "      <td>6</td>\n",
       "      <td>111</td>\n",
       "    </tr>\n",
       "    <tr>\n",
       "      <th>6</th>\n",
       "      <td>7</td>\n",
       "      <td>149</td>\n",
       "    </tr>\n",
       "    <tr>\n",
       "      <th>7</th>\n",
       "      <td>8</td>\n",
       "      <td>160</td>\n",
       "    </tr>\n",
       "    <tr>\n",
       "      <th>8</th>\n",
       "      <td>9</td>\n",
       "      <td>138</td>\n",
       "    </tr>\n",
       "    <tr>\n",
       "      <th>9</th>\n",
       "      <td>10</td>\n",
       "      <td>182</td>\n",
       "    </tr>\n",
       "    <tr>\n",
       "      <th>10</th>\n",
       "      <td>11</td>\n",
       "      <td>13</td>\n",
       "    </tr>\n",
       "    <tr>\n",
       "      <th>11</th>\n",
       "      <td>12</td>\n",
       "      <td>5</td>\n",
       "    </tr>\n",
       "  </tbody>\n",
       "</table>\n",
       "</div>"
      ],
      "text/plain": [
       "    Month  Case Count\n",
       "0       1        2097\n",
       "1       2        2387\n",
       "2       3        3361\n",
       "3       4        1334\n",
       "4       5          82\n",
       "5       6         111\n",
       "6       7         149\n",
       "7       8         160\n",
       "8       9         138\n",
       "9      10         182\n",
       "10     11          13\n",
       "11     12           5"
      ]
     },
     "execution_count": 80,
     "metadata": {},
     "output_type": "execute_result"
    }
   ],
   "source": [
    "month_wise_cases = df.groupby(df.Date.dt.month)['Category'].count().reset_index()\n",
    "month_wise_cases.columns=['Month','Case Count']\n",
    "month_wise_cases"
   ]
  },
  {
   "cell_type": "code",
   "execution_count": 81,
   "metadata": {},
   "outputs": [],
   "source": [
    "def num_to_months(num):\n",
    "    months = ['Jan','Feb','Mar','Apr','May','Jun','Jul','Aug','Sep','Oct','Nov','Dec']\n",
    "    return months[num-1]"
   ]
  },
  {
   "cell_type": "code",
   "execution_count": 82,
   "metadata": {},
   "outputs": [],
   "source": [
    "month_wise_cases['Month'] = month_wise_cases['Month'].apply(num_to_months)"
   ]
  },
  {
   "cell_type": "code",
   "execution_count": 83,
   "metadata": {},
   "outputs": [
    {
     "data": {
      "application/vnd.plotly.v1+json": {
       "config": {
        "plotlyServerURL": "https://plot.ly"
       },
       "data": [
        {
         "alignmentgroup": "True",
         "hovertemplate": "Month=%{x}<br>Case Count=%{y}<extra></extra>",
         "legendgroup": "",
         "marker": {
          "color": "#636efa",
          "pattern": {
           "shape": ""
          }
         },
         "name": "",
         "offsetgroup": "",
         "orientation": "v",
         "showlegend": false,
         "textposition": "auto",
         "type": "bar",
         "x": [
          "Jan",
          "Feb",
          "Mar",
          "Apr",
          "May",
          "Jun",
          "Jul",
          "Aug",
          "Sep",
          "Oct",
          "Nov",
          "Dec"
         ],
         "xaxis": "x",
         "y": [
          2097,
          2387,
          3361,
          1334,
          82,
          111,
          149,
          160,
          138,
          182,
          13,
          5
         ],
         "yaxis": "y"
        }
       ],
       "layout": {
        "barmode": "relative",
        "legend": {
         "tracegroupgap": 0
        },
        "margin": {
         "t": 60
        },
        "template": {
         "data": {
          "bar": [
           {
            "error_x": {
             "color": "#2a3f5f"
            },
            "error_y": {
             "color": "#2a3f5f"
            },
            "marker": {
             "line": {
              "color": "#E5ECF6",
              "width": 0.5
             },
             "pattern": {
              "fillmode": "overlay",
              "size": 10,
              "solidity": 0.2
             }
            },
            "type": "bar"
           }
          ],
          "barpolar": [
           {
            "marker": {
             "line": {
              "color": "#E5ECF6",
              "width": 0.5
             },
             "pattern": {
              "fillmode": "overlay",
              "size": 10,
              "solidity": 0.2
             }
            },
            "type": "barpolar"
           }
          ],
          "carpet": [
           {
            "aaxis": {
             "endlinecolor": "#2a3f5f",
             "gridcolor": "white",
             "linecolor": "white",
             "minorgridcolor": "white",
             "startlinecolor": "#2a3f5f"
            },
            "baxis": {
             "endlinecolor": "#2a3f5f",
             "gridcolor": "white",
             "linecolor": "white",
             "minorgridcolor": "white",
             "startlinecolor": "#2a3f5f"
            },
            "type": "carpet"
           }
          ],
          "choropleth": [
           {
            "colorbar": {
             "outlinewidth": 0,
             "ticks": ""
            },
            "type": "choropleth"
           }
          ],
          "contour": [
           {
            "colorbar": {
             "outlinewidth": 0,
             "ticks": ""
            },
            "colorscale": [
             [
              0,
              "#0d0887"
             ],
             [
              0.1111111111111111,
              "#46039f"
             ],
             [
              0.2222222222222222,
              "#7201a8"
             ],
             [
              0.3333333333333333,
              "#9c179e"
             ],
             [
              0.4444444444444444,
              "#bd3786"
             ],
             [
              0.5555555555555556,
              "#d8576b"
             ],
             [
              0.6666666666666666,
              "#ed7953"
             ],
             [
              0.7777777777777778,
              "#fb9f3a"
             ],
             [
              0.8888888888888888,
              "#fdca26"
             ],
             [
              1,
              "#f0f921"
             ]
            ],
            "type": "contour"
           }
          ],
          "contourcarpet": [
           {
            "colorbar": {
             "outlinewidth": 0,
             "ticks": ""
            },
            "type": "contourcarpet"
           }
          ],
          "heatmap": [
           {
            "colorbar": {
             "outlinewidth": 0,
             "ticks": ""
            },
            "colorscale": [
             [
              0,
              "#0d0887"
             ],
             [
              0.1111111111111111,
              "#46039f"
             ],
             [
              0.2222222222222222,
              "#7201a8"
             ],
             [
              0.3333333333333333,
              "#9c179e"
             ],
             [
              0.4444444444444444,
              "#bd3786"
             ],
             [
              0.5555555555555556,
              "#d8576b"
             ],
             [
              0.6666666666666666,
              "#ed7953"
             ],
             [
              0.7777777777777778,
              "#fb9f3a"
             ],
             [
              0.8888888888888888,
              "#fdca26"
             ],
             [
              1,
              "#f0f921"
             ]
            ],
            "type": "heatmap"
           }
          ],
          "heatmapgl": [
           {
            "colorbar": {
             "outlinewidth": 0,
             "ticks": ""
            },
            "colorscale": [
             [
              0,
              "#0d0887"
             ],
             [
              0.1111111111111111,
              "#46039f"
             ],
             [
              0.2222222222222222,
              "#7201a8"
             ],
             [
              0.3333333333333333,
              "#9c179e"
             ],
             [
              0.4444444444444444,
              "#bd3786"
             ],
             [
              0.5555555555555556,
              "#d8576b"
             ],
             [
              0.6666666666666666,
              "#ed7953"
             ],
             [
              0.7777777777777778,
              "#fb9f3a"
             ],
             [
              0.8888888888888888,
              "#fdca26"
             ],
             [
              1,
              "#f0f921"
             ]
            ],
            "type": "heatmapgl"
           }
          ],
          "histogram": [
           {
            "marker": {
             "pattern": {
              "fillmode": "overlay",
              "size": 10,
              "solidity": 0.2
             }
            },
            "type": "histogram"
           }
          ],
          "histogram2d": [
           {
            "colorbar": {
             "outlinewidth": 0,
             "ticks": ""
            },
            "colorscale": [
             [
              0,
              "#0d0887"
             ],
             [
              0.1111111111111111,
              "#46039f"
             ],
             [
              0.2222222222222222,
              "#7201a8"
             ],
             [
              0.3333333333333333,
              "#9c179e"
             ],
             [
              0.4444444444444444,
              "#bd3786"
             ],
             [
              0.5555555555555556,
              "#d8576b"
             ],
             [
              0.6666666666666666,
              "#ed7953"
             ],
             [
              0.7777777777777778,
              "#fb9f3a"
             ],
             [
              0.8888888888888888,
              "#fdca26"
             ],
             [
              1,
              "#f0f921"
             ]
            ],
            "type": "histogram2d"
           }
          ],
          "histogram2dcontour": [
           {
            "colorbar": {
             "outlinewidth": 0,
             "ticks": ""
            },
            "colorscale": [
             [
              0,
              "#0d0887"
             ],
             [
              0.1111111111111111,
              "#46039f"
             ],
             [
              0.2222222222222222,
              "#7201a8"
             ],
             [
              0.3333333333333333,
              "#9c179e"
             ],
             [
              0.4444444444444444,
              "#bd3786"
             ],
             [
              0.5555555555555556,
              "#d8576b"
             ],
             [
              0.6666666666666666,
              "#ed7953"
             ],
             [
              0.7777777777777778,
              "#fb9f3a"
             ],
             [
              0.8888888888888888,
              "#fdca26"
             ],
             [
              1,
              "#f0f921"
             ]
            ],
            "type": "histogram2dcontour"
           }
          ],
          "mesh3d": [
           {
            "colorbar": {
             "outlinewidth": 0,
             "ticks": ""
            },
            "type": "mesh3d"
           }
          ],
          "parcoords": [
           {
            "line": {
             "colorbar": {
              "outlinewidth": 0,
              "ticks": ""
             }
            },
            "type": "parcoords"
           }
          ],
          "pie": [
           {
            "automargin": true,
            "type": "pie"
           }
          ],
          "scatter": [
           {
            "fillpattern": {
             "fillmode": "overlay",
             "size": 10,
             "solidity": 0.2
            },
            "type": "scatter"
           }
          ],
          "scatter3d": [
           {
            "line": {
             "colorbar": {
              "outlinewidth": 0,
              "ticks": ""
             }
            },
            "marker": {
             "colorbar": {
              "outlinewidth": 0,
              "ticks": ""
             }
            },
            "type": "scatter3d"
           }
          ],
          "scattercarpet": [
           {
            "marker": {
             "colorbar": {
              "outlinewidth": 0,
              "ticks": ""
             }
            },
            "type": "scattercarpet"
           }
          ],
          "scattergeo": [
           {
            "marker": {
             "colorbar": {
              "outlinewidth": 0,
              "ticks": ""
             }
            },
            "type": "scattergeo"
           }
          ],
          "scattergl": [
           {
            "marker": {
             "colorbar": {
              "outlinewidth": 0,
              "ticks": ""
             }
            },
            "type": "scattergl"
           }
          ],
          "scattermapbox": [
           {
            "marker": {
             "colorbar": {
              "outlinewidth": 0,
              "ticks": ""
             }
            },
            "type": "scattermapbox"
           }
          ],
          "scatterpolar": [
           {
            "marker": {
             "colorbar": {
              "outlinewidth": 0,
              "ticks": ""
             }
            },
            "type": "scatterpolar"
           }
          ],
          "scatterpolargl": [
           {
            "marker": {
             "colorbar": {
              "outlinewidth": 0,
              "ticks": ""
             }
            },
            "type": "scatterpolargl"
           }
          ],
          "scatterternary": [
           {
            "marker": {
             "colorbar": {
              "outlinewidth": 0,
              "ticks": ""
             }
            },
            "type": "scatterternary"
           }
          ],
          "surface": [
           {
            "colorbar": {
             "outlinewidth": 0,
             "ticks": ""
            },
            "colorscale": [
             [
              0,
              "#0d0887"
             ],
             [
              0.1111111111111111,
              "#46039f"
             ],
             [
              0.2222222222222222,
              "#7201a8"
             ],
             [
              0.3333333333333333,
              "#9c179e"
             ],
             [
              0.4444444444444444,
              "#bd3786"
             ],
             [
              0.5555555555555556,
              "#d8576b"
             ],
             [
              0.6666666666666666,
              "#ed7953"
             ],
             [
              0.7777777777777778,
              "#fb9f3a"
             ],
             [
              0.8888888888888888,
              "#fdca26"
             ],
             [
              1,
              "#f0f921"
             ]
            ],
            "type": "surface"
           }
          ],
          "table": [
           {
            "cells": {
             "fill": {
              "color": "#EBF0F8"
             },
             "line": {
              "color": "white"
             }
            },
            "header": {
             "fill": {
              "color": "#C8D4E3"
             },
             "line": {
              "color": "white"
             }
            },
            "type": "table"
           }
          ]
         },
         "layout": {
          "annotationdefaults": {
           "arrowcolor": "#2a3f5f",
           "arrowhead": 0,
           "arrowwidth": 1
          },
          "autotypenumbers": "strict",
          "coloraxis": {
           "colorbar": {
            "outlinewidth": 0,
            "ticks": ""
           }
          },
          "colorscale": {
           "diverging": [
            [
             0,
             "#8e0152"
            ],
            [
             0.1,
             "#c51b7d"
            ],
            [
             0.2,
             "#de77ae"
            ],
            [
             0.3,
             "#f1b6da"
            ],
            [
             0.4,
             "#fde0ef"
            ],
            [
             0.5,
             "#f7f7f7"
            ],
            [
             0.6,
             "#e6f5d0"
            ],
            [
             0.7,
             "#b8e186"
            ],
            [
             0.8,
             "#7fbc41"
            ],
            [
             0.9,
             "#4d9221"
            ],
            [
             1,
             "#276419"
            ]
           ],
           "sequential": [
            [
             0,
             "#0d0887"
            ],
            [
             0.1111111111111111,
             "#46039f"
            ],
            [
             0.2222222222222222,
             "#7201a8"
            ],
            [
             0.3333333333333333,
             "#9c179e"
            ],
            [
             0.4444444444444444,
             "#bd3786"
            ],
            [
             0.5555555555555556,
             "#d8576b"
            ],
            [
             0.6666666666666666,
             "#ed7953"
            ],
            [
             0.7777777777777778,
             "#fb9f3a"
            ],
            [
             0.8888888888888888,
             "#fdca26"
            ],
            [
             1,
             "#f0f921"
            ]
           ],
           "sequentialminus": [
            [
             0,
             "#0d0887"
            ],
            [
             0.1111111111111111,
             "#46039f"
            ],
            [
             0.2222222222222222,
             "#7201a8"
            ],
            [
             0.3333333333333333,
             "#9c179e"
            ],
            [
             0.4444444444444444,
             "#bd3786"
            ],
            [
             0.5555555555555556,
             "#d8576b"
            ],
            [
             0.6666666666666666,
             "#ed7953"
            ],
            [
             0.7777777777777778,
             "#fb9f3a"
            ],
            [
             0.8888888888888888,
             "#fdca26"
            ],
            [
             1,
             "#f0f921"
            ]
           ]
          },
          "colorway": [
           "#636efa",
           "#EF553B",
           "#00cc96",
           "#ab63fa",
           "#FFA15A",
           "#19d3f3",
           "#FF6692",
           "#B6E880",
           "#FF97FF",
           "#FECB52"
          ],
          "font": {
           "color": "#2a3f5f"
          },
          "geo": {
           "bgcolor": "white",
           "lakecolor": "white",
           "landcolor": "#E5ECF6",
           "showlakes": true,
           "showland": true,
           "subunitcolor": "white"
          },
          "hoverlabel": {
           "align": "left"
          },
          "hovermode": "closest",
          "mapbox": {
           "style": "light"
          },
          "paper_bgcolor": "white",
          "plot_bgcolor": "#E5ECF6",
          "polar": {
           "angularaxis": {
            "gridcolor": "white",
            "linecolor": "white",
            "ticks": ""
           },
           "bgcolor": "#E5ECF6",
           "radialaxis": {
            "gridcolor": "white",
            "linecolor": "white",
            "ticks": ""
           }
          },
          "scene": {
           "xaxis": {
            "backgroundcolor": "#E5ECF6",
            "gridcolor": "white",
            "gridwidth": 2,
            "linecolor": "white",
            "showbackground": true,
            "ticks": "",
            "zerolinecolor": "white"
           },
           "yaxis": {
            "backgroundcolor": "#E5ECF6",
            "gridcolor": "white",
            "gridwidth": 2,
            "linecolor": "white",
            "showbackground": true,
            "ticks": "",
            "zerolinecolor": "white"
           },
           "zaxis": {
            "backgroundcolor": "#E5ECF6",
            "gridcolor": "white",
            "gridwidth": 2,
            "linecolor": "white",
            "showbackground": true,
            "ticks": "",
            "zerolinecolor": "white"
           }
          },
          "shapedefaults": {
           "line": {
            "color": "#2a3f5f"
           }
          },
          "ternary": {
           "aaxis": {
            "gridcolor": "white",
            "linecolor": "white",
            "ticks": ""
           },
           "baxis": {
            "gridcolor": "white",
            "linecolor": "white",
            "ticks": ""
           },
           "bgcolor": "#E5ECF6",
           "caxis": {
            "gridcolor": "white",
            "linecolor": "white",
            "ticks": ""
           }
          },
          "title": {
           "x": 0.05
          },
          "xaxis": {
           "automargin": true,
           "gridcolor": "white",
           "linecolor": "white",
           "ticks": "",
           "title": {
            "standoff": 15
           },
           "zerolinecolor": "white",
           "zerolinewidth": 2
          },
          "yaxis": {
           "automargin": true,
           "gridcolor": "white",
           "linecolor": "white",
           "ticks": "",
           "title": {
            "standoff": 15
           },
           "zerolinecolor": "white",
           "zerolinewidth": 2
          }
         }
        },
        "xaxis": {
         "anchor": "y",
         "domain": [
          0,
          1
         ],
         "title": {
          "text": "Month"
         }
        },
        "yaxis": {
         "anchor": "x",
         "domain": [
          0,
          1
         ],
         "title": {
          "text": "Case Count"
         }
        }
       }
      }
     },
     "metadata": {},
     "output_type": "display_data"
    }
   ],
   "source": [
    "px.bar(month_wise_cases, 'Month', 'Case Count')"
   ]
  },
  {
   "cell_type": "code",
   "execution_count": 84,
   "metadata": {},
   "outputs": [
    {
     "data": {
      "text/html": [
       "<div>\n",
       "<style scoped>\n",
       "    .dataframe tbody tr th:only-of-type {\n",
       "        vertical-align: middle;\n",
       "    }\n",
       "\n",
       "    .dataframe tbody tr th {\n",
       "        vertical-align: top;\n",
       "    }\n",
       "\n",
       "    .dataframe thead th {\n",
       "        text-align: right;\n",
       "    }\n",
       "</style>\n",
       "<table border=\"1\" class=\"dataframe\">\n",
       "  <thead>\n",
       "    <tr style=\"text-align: right;\">\n",
       "      <th></th>\n",
       "      <th>IncidntNum</th>\n",
       "      <th>Category</th>\n",
       "      <th>Descript</th>\n",
       "      <th>DayOfWeek</th>\n",
       "      <th>Date</th>\n",
       "      <th>Time</th>\n",
       "      <th>PdDistrict</th>\n",
       "      <th>Resolution</th>\n",
       "      <th>Address</th>\n",
       "      <th>X</th>\n",
       "      <th>Y</th>\n",
       "      <th>Location</th>\n",
       "      <th>PdId</th>\n",
       "    </tr>\n",
       "  </thead>\n",
       "  <tbody>\n",
       "    <tr>\n",
       "      <th>2467</th>\n",
       "      <td>150273337.0</td>\n",
       "      <td>WARRANTS</td>\n",
       "      <td>WARRANT ARREST</td>\n",
       "      <td>Wednesday</td>\n",
       "      <td>2016-12-21</td>\n",
       "      <td>18:17</td>\n",
       "      <td>TENDERLOIN</td>\n",
       "      <td>ARREST, BOOKED</td>\n",
       "      <td>300 Block of JONES ST</td>\n",
       "      <td>-122.412759</td>\n",
       "      <td>37.784400</td>\n",
       "      <td>(37.7843997500192, -122.412758846145)</td>\n",
       "      <td>1.502730e+13</td>\n",
       "    </tr>\n",
       "    <tr>\n",
       "      <th>115</th>\n",
       "      <td>150480366.0</td>\n",
       "      <td>VEHICLE THEFT</td>\n",
       "      <td>STOLEN AND RECOVERED VEHICLE</td>\n",
       "      <td>Thursday</td>\n",
       "      <td>2016-12-08</td>\n",
       "      <td>15:00</td>\n",
       "      <td>NORTHERN</td>\n",
       "      <td>ARREST, BOOKED</td>\n",
       "      <td>PINE ST / POLK ST</td>\n",
       "      <td>-122.420497</td>\n",
       "      <td>37.789619</td>\n",
       "      <td>(37.789618819255, -122.42049728879)</td>\n",
       "      <td>1.504800e+13</td>\n",
       "    </tr>\n",
       "    <tr>\n",
       "      <th>116</th>\n",
       "      <td>150480366.0</td>\n",
       "      <td>DRUNKENNESS</td>\n",
       "      <td>UNDER INFLUENCE OF ALCOHOL IN A PUBLIC PLACE</td>\n",
       "      <td>Thursday</td>\n",
       "      <td>2016-12-08</td>\n",
       "      <td>15:00</td>\n",
       "      <td>NORTHERN</td>\n",
       "      <td>ARREST, BOOKED</td>\n",
       "      <td>PINE ST / POLK ST</td>\n",
       "      <td>-122.420497</td>\n",
       "      <td>37.789619</td>\n",
       "      <td>(37.789618819255, -122.42049728879)</td>\n",
       "      <td>1.504800e+13</td>\n",
       "    </tr>\n",
       "    <tr>\n",
       "      <th>118</th>\n",
       "      <td>150480366.0</td>\n",
       "      <td>VANDALISM</td>\n",
       "      <td>MALICIOUS MISCHIEF, VANDALISM OF VEHICLES</td>\n",
       "      <td>Thursday</td>\n",
       "      <td>2016-12-08</td>\n",
       "      <td>15:00</td>\n",
       "      <td>NORTHERN</td>\n",
       "      <td>ARREST, BOOKED</td>\n",
       "      <td>PINE ST / POLK ST</td>\n",
       "      <td>-122.420497</td>\n",
       "      <td>37.789619</td>\n",
       "      <td>(37.789618819255, -122.42049728879)</td>\n",
       "      <td>1.504800e+13</td>\n",
       "    </tr>\n",
       "    <tr>\n",
       "      <th>117</th>\n",
       "      <td>150480366.0</td>\n",
       "      <td>VANDALISM</td>\n",
       "      <td>MALICIOUS MISCHIEF, VANDALISM</td>\n",
       "      <td>Thursday</td>\n",
       "      <td>2016-12-08</td>\n",
       "      <td>15:00</td>\n",
       "      <td>NORTHERN</td>\n",
       "      <td>ARREST, BOOKED</td>\n",
       "      <td>PINE ST / POLK ST</td>\n",
       "      <td>-122.420497</td>\n",
       "      <td>37.789619</td>\n",
       "      <td>(37.789618819255, -122.42049728879)</td>\n",
       "      <td>1.504800e+13</td>\n",
       "    </tr>\n",
       "    <tr>\n",
       "      <th>...</th>\n",
       "      <td>...</td>\n",
       "      <td>...</td>\n",
       "      <td>...</td>\n",
       "      <td>...</td>\n",
       "      <td>...</td>\n",
       "      <td>...</td>\n",
       "      <td>...</td>\n",
       "      <td>...</td>\n",
       "      <td>...</td>\n",
       "      <td>...</td>\n",
       "      <td>...</td>\n",
       "      <td>...</td>\n",
       "      <td>...</td>\n",
       "    </tr>\n",
       "    <tr>\n",
       "      <th>143</th>\n",
       "      <td>160000471.0</td>\n",
       "      <td>WEAPON LAWS</td>\n",
       "      <td>POSS OF PROHIBITED WEAPON</td>\n",
       "      <td>Friday</td>\n",
       "      <td>2016-01-01</td>\n",
       "      <td>02:04</td>\n",
       "      <td>TENDERLOIN</td>\n",
       "      <td>ARREST, BOOKED</td>\n",
       "      <td>100 Block of TAYLOR ST</td>\n",
       "      <td>-122.410792</td>\n",
       "      <td>37.783695</td>\n",
       "      <td>(37.7836952269749, -122.410791677645)</td>\n",
       "      <td>1.600000e+13</td>\n",
       "    </tr>\n",
       "    <tr>\n",
       "      <th>141</th>\n",
       "      <td>160000471.0</td>\n",
       "      <td>ASSAULT</td>\n",
       "      <td>MAYHEM WITH A DEADLY WEAPON</td>\n",
       "      <td>Friday</td>\n",
       "      <td>2016-01-01</td>\n",
       "      <td>02:04</td>\n",
       "      <td>TENDERLOIN</td>\n",
       "      <td>ARREST, BOOKED</td>\n",
       "      <td>100 Block of TAYLOR ST</td>\n",
       "      <td>-122.410792</td>\n",
       "      <td>37.783695</td>\n",
       "      <td>(37.7836952269749, -122.410791677645)</td>\n",
       "      <td>1.600000e+13</td>\n",
       "    </tr>\n",
       "    <tr>\n",
       "      <th>132</th>\n",
       "      <td>160000211.0</td>\n",
       "      <td>OTHER OFFENSES</td>\n",
       "      <td>INTERFERRING WITH A POLICE OFFICER</td>\n",
       "      <td>Friday</td>\n",
       "      <td>2016-01-01</td>\n",
       "      <td>00:50</td>\n",
       "      <td>SOUTHERN</td>\n",
       "      <td>ARREST, BOOKED</td>\n",
       "      <td>MARKET ST / BEALE ST</td>\n",
       "      <td>-122.397388</td>\n",
       "      <td>37.792405</td>\n",
       "      <td>(37.7924047319625, -122.397387796127)</td>\n",
       "      <td>1.600000e+13</td>\n",
       "    </tr>\n",
       "    <tr>\n",
       "      <th>2797</th>\n",
       "      <td>151123444.0</td>\n",
       "      <td>NON-CRIMINAL</td>\n",
       "      <td>CASE CLOSURE</td>\n",
       "      <td>Friday</td>\n",
       "      <td>2016-01-01</td>\n",
       "      <td>00:01</td>\n",
       "      <td>CENTRAL</td>\n",
       "      <td>UNFOUNDED</td>\n",
       "      <td>600 Block of GEARY ST</td>\n",
       "      <td>-122.414011</td>\n",
       "      <td>37.786677</td>\n",
       "      <td>(37.7866770011071, -122.414010814727)</td>\n",
       "      <td>1.511230e+13</td>\n",
       "    </tr>\n",
       "    <tr>\n",
       "      <th>2796</th>\n",
       "      <td>151123444.0</td>\n",
       "      <td>FORGERY/COUNTERFEITING</td>\n",
       "      <td>FINANCIAL STATEMENTS, FALSE</td>\n",
       "      <td>Friday</td>\n",
       "      <td>2016-01-01</td>\n",
       "      <td>00:01</td>\n",
       "      <td>CENTRAL</td>\n",
       "      <td>UNFOUNDED</td>\n",
       "      <td>600 Block of GEARY ST</td>\n",
       "      <td>-122.414011</td>\n",
       "      <td>37.786677</td>\n",
       "      <td>(37.7866770011071, -122.414010814727)</td>\n",
       "      <td>1.511230e+13</td>\n",
       "    </tr>\n",
       "  </tbody>\n",
       "</table>\n",
       "<p>10019 rows × 13 columns</p>\n",
       "</div>"
      ],
      "text/plain": [
       "       IncidntNum                Category  \\\n",
       "2467  150273337.0                WARRANTS   \n",
       "115   150480366.0           VEHICLE THEFT   \n",
       "116   150480366.0             DRUNKENNESS   \n",
       "118   150480366.0               VANDALISM   \n",
       "117   150480366.0               VANDALISM   \n",
       "...           ...                     ...   \n",
       "143   160000471.0             WEAPON LAWS   \n",
       "141   160000471.0                 ASSAULT   \n",
       "132   160000211.0          OTHER OFFENSES   \n",
       "2797  151123444.0            NON-CRIMINAL   \n",
       "2796  151123444.0  FORGERY/COUNTERFEITING   \n",
       "\n",
       "                                          Descript  DayOfWeek       Date  \\\n",
       "2467                                WARRANT ARREST  Wednesday 2016-12-21   \n",
       "115                   STOLEN AND RECOVERED VEHICLE   Thursday 2016-12-08   \n",
       "116   UNDER INFLUENCE OF ALCOHOL IN A PUBLIC PLACE   Thursday 2016-12-08   \n",
       "118      MALICIOUS MISCHIEF, VANDALISM OF VEHICLES   Thursday 2016-12-08   \n",
       "117                  MALICIOUS MISCHIEF, VANDALISM   Thursday 2016-12-08   \n",
       "...                                            ...        ...        ...   \n",
       "143                      POSS OF PROHIBITED WEAPON     Friday 2016-01-01   \n",
       "141                    MAYHEM WITH A DEADLY WEAPON     Friday 2016-01-01   \n",
       "132             INTERFERRING WITH A POLICE OFFICER     Friday 2016-01-01   \n",
       "2797                                  CASE CLOSURE     Friday 2016-01-01   \n",
       "2796                   FINANCIAL STATEMENTS, FALSE     Friday 2016-01-01   \n",
       "\n",
       "       Time  PdDistrict      Resolution                 Address           X  \\\n",
       "2467  18:17  TENDERLOIN  ARREST, BOOKED   300 Block of JONES ST -122.412759   \n",
       "115   15:00    NORTHERN  ARREST, BOOKED       PINE ST / POLK ST -122.420497   \n",
       "116   15:00    NORTHERN  ARREST, BOOKED       PINE ST / POLK ST -122.420497   \n",
       "118   15:00    NORTHERN  ARREST, BOOKED       PINE ST / POLK ST -122.420497   \n",
       "117   15:00    NORTHERN  ARREST, BOOKED       PINE ST / POLK ST -122.420497   \n",
       "...     ...         ...             ...                     ...         ...   \n",
       "143   02:04  TENDERLOIN  ARREST, BOOKED  100 Block of TAYLOR ST -122.410792   \n",
       "141   02:04  TENDERLOIN  ARREST, BOOKED  100 Block of TAYLOR ST -122.410792   \n",
       "132   00:50    SOUTHERN  ARREST, BOOKED    MARKET ST / BEALE ST -122.397388   \n",
       "2797  00:01     CENTRAL       UNFOUNDED   600 Block of GEARY ST -122.414011   \n",
       "2796  00:01     CENTRAL       UNFOUNDED   600 Block of GEARY ST -122.414011   \n",
       "\n",
       "              Y                               Location          PdId  \n",
       "2467  37.784400  (37.7843997500192, -122.412758846145)  1.502730e+13  \n",
       "115   37.789619    (37.789618819255, -122.42049728879)  1.504800e+13  \n",
       "116   37.789619    (37.789618819255, -122.42049728879)  1.504800e+13  \n",
       "118   37.789619    (37.789618819255, -122.42049728879)  1.504800e+13  \n",
       "117   37.789619    (37.789618819255, -122.42049728879)  1.504800e+13  \n",
       "...         ...                                    ...           ...  \n",
       "143   37.783695  (37.7836952269749, -122.410791677645)  1.600000e+13  \n",
       "141   37.783695  (37.7836952269749, -122.410791677645)  1.600000e+13  \n",
       "132   37.792405  (37.7924047319625, -122.397387796127)  1.600000e+13  \n",
       "2797  37.786677  (37.7866770011071, -122.414010814727)  1.511230e+13  \n",
       "2796  37.786677  (37.7866770011071, -122.414010814727)  1.511230e+13  \n",
       "\n",
       "[10019 rows x 13 columns]"
      ]
     },
     "execution_count": 84,
     "metadata": {},
     "output_type": "execute_result"
    }
   ],
   "source": [
    "df"
   ]
  },
  {
   "cell_type": "code",
   "execution_count": null,
   "metadata": {},
   "outputs": [],
   "source": []
  }
 ],
 "metadata": {
  "kernelspec": {
   "display_name": "base",
   "language": "python",
   "name": "python3"
  },
  "language_info": {
   "codemirror_mode": {
    "name": "ipython",
    "version": 3
   },
   "file_extension": ".py",
   "mimetype": "text/x-python",
   "name": "python",
   "nbconvert_exporter": "python",
   "pygments_lexer": "ipython3",
   "version": "3.9.13"
  },
  "orig_nbformat": 4,
  "vscode": {
   "interpreter": {
    "hash": "203ec5af3e26acf3e3c83a4183d4b4efe59642f60e2721ccf6236536a59ece46"
   }
  }
 },
 "nbformat": 4,
 "nbformat_minor": 2
}
