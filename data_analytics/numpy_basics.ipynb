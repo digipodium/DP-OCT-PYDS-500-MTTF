{
 "cells": [
  {
   "cell_type": "code",
   "execution_count": 1,
   "metadata": {},
   "outputs": [],
   "source": [
    "import numpy as np"
   ]
  },
  {
   "cell_type": "code",
   "execution_count": 2,
   "metadata": {},
   "outputs": [
    {
     "name": "stdout",
     "output_type": "stream",
     "text": [
      "[1 2 3 4]\n"
     ]
    }
   ],
   "source": [
    "x = np.array([1,2,3,4])\n",
    "print(x)"
   ]
  },
  {
   "cell_type": "code",
   "execution_count": 3,
   "metadata": {},
   "outputs": [
    {
     "name": "stdout",
     "output_type": "stream",
     "text": [
      "[[2 3]\n",
      " [5 6]]\n"
     ]
    }
   ],
   "source": [
    "x2 = np.array([[2,3],[5,6]])\n",
    "print(x2)"
   ]
  },
  {
   "cell_type": "code",
   "execution_count": 4,
   "metadata": {},
   "outputs": [
    {
     "name": "stdout",
     "output_type": "stream",
     "text": [
      "(4,)\n",
      "(2, 2)\n",
      "1\n",
      "2\n"
     ]
    }
   ],
   "source": [
    "print(x.shape)\n",
    "print(x2.shape)\n",
    "print(x.ndim)\n",
    "print(x2.ndim)"
   ]
  },
  {
   "cell_type": "code",
   "execution_count": 5,
   "metadata": {},
   "outputs": [
    {
     "name": "stdout",
     "output_type": "stream",
     "text": [
      "[-5.  -4.5 -4.  -3.5 -3.  -2.5 -2.  -1.5 -1.  -0.5  0.   0.5  1.   1.5\n",
      "  2.   2.5  3.   3.5  4.   4.5  5.   5.5]\n",
      "(22,)\n",
      "22\n"
     ]
    }
   ],
   "source": [
    "a = np.arange(-5,6,.5)\n",
    "print(a)\n",
    "print(a.shape)\n",
    "print(a.size)"
   ]
  },
  {
   "cell_type": "code",
   "execution_count": 6,
   "metadata": {},
   "outputs": [
    {
     "name": "stdout",
     "output_type": "stream",
     "text": [
      "[ 1.          1.18367347  1.36734694  1.55102041  1.73469388  1.91836735\n",
      "  2.10204082  2.28571429  2.46938776  2.65306122  2.83673469  3.02040816\n",
      "  3.20408163  3.3877551   3.57142857  3.75510204  3.93877551  4.12244898\n",
      "  4.30612245  4.48979592  4.67346939  4.85714286  5.04081633  5.2244898\n",
      "  5.40816327  5.59183673  5.7755102   5.95918367  6.14285714  6.32653061\n",
      "  6.51020408  6.69387755  6.87755102  7.06122449  7.24489796  7.42857143\n",
      "  7.6122449   7.79591837  7.97959184  8.16326531  8.34693878  8.53061224\n",
      "  8.71428571  8.89795918  9.08163265  9.26530612  9.44897959  9.63265306\n",
      "  9.81632653 10.        ]\n"
     ]
    }
   ],
   "source": [
    "b = np.linspace(1,10, 50)\n",
    "print(b)"
   ]
  },
  {
   "cell_type": "code",
   "execution_count": 7,
   "metadata": {},
   "outputs": [
    {
     "name": "stdout",
     "output_type": "stream",
     "text": [
      "[[0.21527208 0.48437921 0.88764419]\n",
      " [0.78478365 0.16039701 0.4324719 ]\n",
      " [0.34459303 0.02209822 0.89927452]]\n",
      "(3, 3)\n",
      "9\n"
     ]
    }
   ],
   "source": [
    "c = np.random.random((3,3))\n",
    "print(c)\n",
    "print(c.shape)\n",
    "print(c.size)"
   ]
  },
  {
   "cell_type": "code",
   "execution_count": 8,
   "metadata": {},
   "outputs": [
    {
     "name": "stdout",
     "output_type": "stream",
     "text": [
      "[[ 0.55777341 -1.68199891 -0.29649793]\n",
      " [-3.33895236 -1.01769961 -0.94185718]\n",
      " [ 0.32783214 -0.43554578 -0.95661402]]\n",
      "(3, 3)\n",
      "9\n"
     ]
    }
   ],
   "source": [
    "d = np.random.randn(3,3)\n",
    "print(d)\n",
    "print(d.shape)\n",
    "print(d.size)"
   ]
  },
  {
   "cell_type": "code",
   "execution_count": 9,
   "metadata": {},
   "outputs": [
    {
     "name": "stdout",
     "output_type": "stream",
     "text": [
      "[[[97 90 98]\n",
      "  [91 97 91]\n",
      "  [91 90 92]]\n",
      "\n",
      " [[96 90 91]\n",
      "  [91 90 90]\n",
      "  [97 97 96]]\n",
      "\n",
      " [[97 92 94]\n",
      "  [99 98 94]\n",
      "  [91 92 91]]]\n",
      "(3, 3, 3)\n",
      "27\n"
     ]
    }
   ],
   "source": [
    "e = np.random.randint(90,100, (3,3,3))\n",
    "print(e)\n",
    "print(e.shape)\n",
    "print(e.size)"
   ]
  },
  {
   "cell_type": "code",
   "execution_count": 10,
   "metadata": {},
   "outputs": [
    {
     "name": "stdout",
     "output_type": "stream",
     "text": [
      "(90,)\n"
     ]
    }
   ],
   "source": [
    "f = np.linspace(1,100,90)\n",
    "print(f.shape)"
   ]
  },
  {
   "cell_type": "code",
   "execution_count": 11,
   "metadata": {},
   "outputs": [
    {
     "name": "stdout",
     "output_type": "stream",
     "text": [
      "(45, 2)\n",
      "[[  1.           2.11235955]\n",
      " [  3.2247191    4.33707865]\n",
      " [  5.4494382    6.56179775]\n",
      " [  7.6741573    8.78651685]\n",
      " [  9.8988764   11.01123596]\n",
      " [ 12.12359551  13.23595506]\n",
      " [ 14.34831461  15.46067416]\n",
      " [ 16.57303371  17.68539326]\n",
      " [ 18.79775281  19.91011236]\n",
      " [ 21.02247191  22.13483146]\n",
      " [ 23.24719101  24.35955056]\n",
      " [ 25.47191011  26.58426966]\n",
      " [ 27.69662921  28.80898876]\n",
      " [ 29.92134831  31.03370787]\n",
      " [ 32.14606742  33.25842697]\n",
      " [ 34.37078652  35.48314607]\n",
      " [ 36.59550562  37.70786517]\n",
      " [ 38.82022472  39.93258427]\n",
      " [ 41.04494382  42.15730337]\n",
      " [ 43.26966292  44.38202247]\n",
      " [ 45.49438202  46.60674157]\n",
      " [ 47.71910112  48.83146067]\n",
      " [ 49.94382022  51.05617978]\n",
      " [ 52.16853933  53.28089888]\n",
      " [ 54.39325843  55.50561798]\n",
      " [ 56.61797753  57.73033708]\n",
      " [ 58.84269663  59.95505618]\n",
      " [ 61.06741573  62.17977528]\n",
      " [ 63.29213483  64.40449438]\n",
      " [ 65.51685393  66.62921348]\n",
      " [ 67.74157303  68.85393258]\n",
      " [ 69.96629213  71.07865169]\n",
      " [ 72.19101124  73.30337079]\n",
      " [ 74.41573034  75.52808989]\n",
      " [ 76.64044944  77.75280899]\n",
      " [ 78.86516854  79.97752809]\n",
      " [ 81.08988764  82.20224719]\n",
      " [ 83.31460674  84.42696629]\n",
      " [ 85.53932584  86.65168539]\n",
      " [ 87.76404494  88.87640449]\n",
      " [ 89.98876404  91.1011236 ]\n",
      " [ 92.21348315  93.3258427 ]\n",
      " [ 94.43820225  95.5505618 ]\n",
      " [ 96.66292135  97.7752809 ]\n",
      " [ 98.88764045 100.        ]]\n"
     ]
    }
   ],
   "source": [
    "f2 = f.reshape(45,2)\n",
    "print(f2.shape)\n",
    "print(f2)"
   ]
  },
  {
   "cell_type": "code",
   "execution_count": 12,
   "metadata": {},
   "outputs": [
    {
     "name": "stdout",
     "output_type": "stream",
     "text": [
      "(15, 3, 2)\n",
      "[[[  1.           2.11235955]\n",
      "  [  3.2247191    4.33707865]\n",
      "  [  5.4494382    6.56179775]]\n",
      "\n",
      " [[  7.6741573    8.78651685]\n",
      "  [  9.8988764   11.01123596]\n",
      "  [ 12.12359551  13.23595506]]\n",
      "\n",
      " [[ 14.34831461  15.46067416]\n",
      "  [ 16.57303371  17.68539326]\n",
      "  [ 18.79775281  19.91011236]]\n",
      "\n",
      " [[ 21.02247191  22.13483146]\n",
      "  [ 23.24719101  24.35955056]\n",
      "  [ 25.47191011  26.58426966]]\n",
      "\n",
      " [[ 27.69662921  28.80898876]\n",
      "  [ 29.92134831  31.03370787]\n",
      "  [ 32.14606742  33.25842697]]\n",
      "\n",
      " [[ 34.37078652  35.48314607]\n",
      "  [ 36.59550562  37.70786517]\n",
      "  [ 38.82022472  39.93258427]]\n",
      "\n",
      " [[ 41.04494382  42.15730337]\n",
      "  [ 43.26966292  44.38202247]\n",
      "  [ 45.49438202  46.60674157]]\n",
      "\n",
      " [[ 47.71910112  48.83146067]\n",
      "  [ 49.94382022  51.05617978]\n",
      "  [ 52.16853933  53.28089888]]\n",
      "\n",
      " [[ 54.39325843  55.50561798]\n",
      "  [ 56.61797753  57.73033708]\n",
      "  [ 58.84269663  59.95505618]]\n",
      "\n",
      " [[ 61.06741573  62.17977528]\n",
      "  [ 63.29213483  64.40449438]\n",
      "  [ 65.51685393  66.62921348]]\n",
      "\n",
      " [[ 67.74157303  68.85393258]\n",
      "  [ 69.96629213  71.07865169]\n",
      "  [ 72.19101124  73.30337079]]\n",
      "\n",
      " [[ 74.41573034  75.52808989]\n",
      "  [ 76.64044944  77.75280899]\n",
      "  [ 78.86516854  79.97752809]]\n",
      "\n",
      " [[ 81.08988764  82.20224719]\n",
      "  [ 83.31460674  84.42696629]\n",
      "  [ 85.53932584  86.65168539]]\n",
      "\n",
      " [[ 87.76404494  88.87640449]\n",
      "  [ 89.98876404  91.1011236 ]\n",
      "  [ 92.21348315  93.3258427 ]]\n",
      "\n",
      " [[ 94.43820225  95.5505618 ]\n",
      "  [ 96.66292135  97.7752809 ]\n",
      "  [ 98.88764045 100.        ]]]\n"
     ]
    }
   ],
   "source": [
    "f3 = f.reshape(15,3,2)\n",
    "print(f3.shape)\n",
    "print(f3)"
   ]
  },
  {
   "cell_type": "markdown",
   "metadata": {},
   "source": [
    "maths"
   ]
  },
  {
   "cell_type": "code",
   "execution_count": 13,
   "metadata": {},
   "outputs": [
    {
     "name": "stdout",
     "output_type": "stream",
     "text": [
      "[[4 7 2]\n",
      " [4 5 1]\n",
      " [7 9 7]]\n",
      "\n",
      "[[3 8 3]\n",
      " [2 1 7]\n",
      " [7 6 2]]\n"
     ]
    }
   ],
   "source": [
    "x = np.random.randint(1,10, (3,3))\n",
    "y = np.random.randint(1,10, (3,3))\n",
    "print(x)\n",
    "print()\n",
    "print(y)"
   ]
  },
  {
   "cell_type": "code",
   "execution_count": 14,
   "metadata": {},
   "outputs": [
    {
     "data": {
      "text/plain": [
       "array([[ 7, 15,  5],\n",
       "       [ 6,  6,  8],\n",
       "       [14, 15,  9]])"
      ]
     },
     "execution_count": 14,
     "metadata": {},
     "output_type": "execute_result"
    }
   ],
   "source": [
    "x + y # element wise addition"
   ]
  },
  {
   "cell_type": "code",
   "execution_count": 15,
   "metadata": {},
   "outputs": [
    {
     "name": "stdout",
     "output_type": "stream",
     "text": [
      "[[ 1 -1 -1]\n",
      " [ 2  4 -6]\n",
      " [ 0  3  5]]\n",
      "[[12 56  6]\n",
      " [ 8  5  7]\n",
      " [49 54 14]]\n",
      "[[1.33333333 0.875      0.66666667]\n",
      " [2.         5.         0.14285714]\n",
      " [1.         1.5        3.5       ]]\n",
      "[[1 0 0]\n",
      " [2 5 0]\n",
      " [1 1 3]]\n",
      "[[1 7 2]\n",
      " [0 0 1]\n",
      " [0 3 1]]\n",
      "[[     64 5764801       8]\n",
      " [     16       5       1]\n",
      " [ 823543  531441      49]]\n"
     ]
    }
   ],
   "source": [
    "print(x - y) # element wise subtraction\n",
    "print(x * y) # element wise multiplication\n",
    "print(x / y) # element wise division\n",
    "print(x // y) # element wise floor division\n",
    "print(x % y) # element wise modulus\n",
    "print(x ** y) # element wise exponentiation"
   ]
  },
  {
   "cell_type": "code",
   "execution_count": 16,
   "metadata": {},
   "outputs": [
    {
     "name": "stdout",
     "output_type": "stream",
     "text": [
      "[[ 40  51  65]\n",
      " [ 29  43  49]\n",
      " [ 88 107  98]]\n",
      "[[ 40  51  65]\n",
      " [ 29  43  49]\n",
      " [ 88 107  98]]\n",
      "[[  5  -6  11]\n",
      " [ 34 -26  -6]\n",
      " [-24  35 -21]]\n",
      "[[ 40  51  65]\n",
      " [ 29  43  49]\n",
      " [ 88 107  98]]\n"
     ]
    }
   ],
   "source": [
    "print(np.dot(x,y)) # dot product\n",
    "print(x.dot(y))    # same dot product\n",
    "print(np.cross(x,y))  # cross product\n",
    "print(np.matmul(x,y)) # matrix multiplication"
   ]
  },
  {
   "cell_type": "code",
   "execution_count": 17,
   "metadata": {},
   "outputs": [
    {
     "name": "stdout",
     "output_type": "stream",
     "text": [
      "46\n",
      "[15 21 10]\n",
      "[13 10 23]\n",
      "5.111111111111111\n",
      "[5.         7.         3.33333333]\n",
      "[4.33333333 3.33333333 7.66666667]\n",
      "2.469567863432541\n",
      "[1.41421356 1.63299316 2.62466929]\n",
      "[2.05480467 1.69967317 0.94280904]\n",
      "5.0\n",
      "[4. 7. 2.]\n",
      "[4. 4. 7.]\n"
     ]
    }
   ],
   "source": [
    "print(x.sum()) # sum of all elements\n",
    "print(x.sum(axis=0)) # sum of each column\n",
    "print(x.sum(axis=1)) # sum of each row\n",
    "print(x.mean()) # mean of all elements\n",
    "print(x.mean(axis=0)) # mean of each column\n",
    "print(x.mean(axis=1)) # mean of each row\n",
    "print(x.std()) # standard deviation of all elements\n",
    "print(x.std(axis=0)) # standard deviation of each column\n",
    "print(x.std(axis=1)) # standard deviation of each row\n",
    "print(np.median(x)) # median of all elements\n",
    "print(np.median(x, axis=0)) # median of each column\n",
    "print(np.median(x, axis=1)) # median of each row"
   ]
  },
  {
   "cell_type": "code",
   "execution_count": 18,
   "metadata": {},
   "outputs": [],
   "source": [
    "import matplotlib.pyplot as plt"
   ]
  },
  {
   "cell_type": "code",
   "execution_count": 19,
   "metadata": {},
   "outputs": [
    {
     "data": {
      "text/plain": [
       "[<matplotlib.lines.Line2D at 0x15c30f4afd0>]"
      ]
     },
     "execution_count": 19,
     "metadata": {},
     "output_type": "execute_result"
    },
    {
     "data": {
      "image/png": "[encoded data removed]",
      "text/plain": [
       "<Figure size 432x288 with 1 Axes>"
      ]
     },
     "metadata": {
      "needs_background": "light"
     },
     "output_type": "display_data"
    }
   ],
   "source": [
    "t = np.linspace(0, 4*np.pi, 100)\n",
    "y = np.sin(t)\n",
    "plt.plot(t,y)"
   ]
  },
  {
   "cell_type": "code",
   "execution_count": 20,
   "metadata": {},
   "outputs": [
    {
     "data": {
      "image/png": "[encoded data removed]",
      "text/plain": [
       "<Figure size 432x288 with 1 Axes>"
      ]
     },
     "metadata": {
      "needs_background": "light"
     },
     "output_type": "display_data"
    }
   ],
   "source": [
    "t = np.linspace(0, 4*np.pi, 50)\n",
    "y = np.sin(t)\n",
    "x = np.cos(t)\n",
    "plt.plot(t,y)\n",
    "plt.plot(t,x, 'ro')\n",
    "plt.show()"
   ]
  },
  {
   "cell_type": "code",
   "execution_count": 21,
   "metadata": {},
   "outputs": [
    {
     "data": {
      "text/plain": [
       "<BarContainer object of 12 artists>"
      ]
     },
     "execution_count": 21,
     "metadata": {},
     "output_type": "execute_result"
    },
    {
     "data": {
      "image/png": "[encoded data removed]",
      "text/plain": [
       "<Figure size 432x288 with 1 Axes>"
      ]
     },
     "metadata": {
      "needs_background": "light"
     },
     "output_type": "display_data"
    }
   ],
   "source": [
    "rainfall = [20, 30, 40, 60, 70, 80, 90, 100, 110, 120, 130, 50]\n",
    "months = ['Jan', 'Feb', 'Mar', 'Apr', 'May', 'Jun', 'Jul', 'Aug', 'Sep', 'Oct', 'Nov', 'Dec']\n",
    "plt.bar(months, rainfall)"
   ]
  },
  {
   "cell_type": "markdown",
   "metadata": {},
   "source": [
    "boolean filtering"
   ]
  },
  {
   "cell_type": "code",
   "execution_count": 27,
   "metadata": {},
   "outputs": [
    {
     "name": "stdout",
     "output_type": "stream",
     "text": [
      "[[ 44  86 417 952 250]\n",
      " [ 49 718 450 268 675]\n",
      " [395 910 960  95 500]\n",
      " [640 986 593 445 254]\n",
      " [  7 748 770 865 543]]\n"
     ]
    }
   ],
   "source": [
    "data = np.random.randint(1,1000, (5,5))\n",
    "print(data)"
   ]
  },
  {
   "cell_type": "code",
   "execution_count": 30,
   "metadata": {},
   "outputs": [
    {
     "name": "stdout",
     "output_type": "stream",
     "text": [
      "44 86 417 250 49 450 268 395 95 445 254 7 "
     ]
    }
   ],
   "source": [
    "# noob way for getting the filtered data\n",
    "for i in data:\n",
    "    for j in i:\n",
    "        if j <500:\n",
    "            print(j, end=' ')\n"
   ]
  },
  {
   "cell_type": "code",
   "execution_count": 31,
   "metadata": {},
   "outputs": [
    {
     "data": {
      "text/plain": [
       "array([[ True,  True,  True, False,  True],\n",
       "       [ True, False,  True,  True, False],\n",
       "       [ True, False, False,  True, False],\n",
       "       [False, False, False,  True,  True],\n",
       "       [ True, False, False, False, False]])"
      ]
     },
     "execution_count": 31,
     "metadata": {},
     "output_type": "execute_result"
    }
   ],
   "source": [
    "# pythonic way\n",
    "data < 500 # boolean array"
   ]
  },
  {
   "cell_type": "code",
   "execution_count": 33,
   "metadata": {},
   "outputs": [
    {
     "data": {
      "text/plain": [
       "array([44, 86, 49, 95,  7])"
      ]
     },
     "execution_count": 33,
     "metadata": {},
     "output_type": "execute_result"
    }
   ],
   "source": [
    "data[ data < 100 ]"
   ]
  },
  {
   "cell_type": "code",
   "execution_count": 38,
   "metadata": {},
   "outputs": [
    {
     "data": {
      "text/plain": [
       "array([ 44,  86, 952,  49, 718, 675, 910, 960,  95, 640, 986, 593,   7,\n",
       "       748, 770, 865, 543])"
      ]
     },
     "execution_count": 38,
     "metadata": {},
     "output_type": "execute_result"
    }
   ],
   "source": [
    "data[(data < 100) | (data > 500)]"
   ]
  },
  {
   "cell_type": "code",
   "execution_count": 36,
   "metadata": {},
   "outputs": [
    {
     "data": {
      "text/plain": [
       "array([[ 44,  86, 417, 952, 250],\n",
       "       [ 49, 718, 450, 268, 675],\n",
       "       [395, 910, 960,  95, 500],\n",
       "       [640, 986, 593, 445, 254],\n",
       "       [  7, 748, 770, 865, 543]])"
      ]
     },
     "execution_count": 36,
     "metadata": {},
     "output_type": "execute_result"
    }
   ],
   "source": [
    "data"
   ]
  },
  {
   "cell_type": "code",
   "execution_count": null,
   "metadata": {},
   "outputs": [],
   "source": []
  },
  {
   "cell_type": "code",
   "execution_count": null,
   "metadata": {},
   "outputs": [],
   "source": [
    "data< 500 ]"
   ]
  },
  {
   "cell_type": "code",
   "execution_count": null,
   "metadata": {},
   "outputs": [],
   "source": []
  }
 ],
 "metadata": {
  "kernelspec": {
   "display_name": "Python 3.9.13 ('base')",
   "language": "python",
   "name": "python3"
  },
  "language_info": {
   "codemirror_mode": {
    "name": "ipython",
    "version": 3
   },
   "file_extension": ".py",
   "mimetype": "text/x-python",
   "name": "python",
   "nbconvert_exporter": "python",
   "pygments_lexer": "ipython3",
   "version": "3.9.13"
  },
  "orig_nbformat": 4,
  "vscode": {
   "interpreter": {
    "hash": "203ec5af3e26acf3e3c83a4183d4b4efe59642f60e2721ccf6236536a59ece46"
   }
  }
 },
 "nbformat": 4,
 "nbformat_minor": 2
}
