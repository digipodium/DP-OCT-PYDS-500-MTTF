{
 "cells": [
  {
   "cell_type": "code",
   "execution_count": 3,
   "metadata": {},
   "outputs": [],
   "source": [
    "emp = ['Amar','deep','finance',2300, 10000, 30000, 31, True, False, 'Acme']"
   ]
  },
  {
   "cell_type": "code",
   "execution_count": 4,
   "metadata": {},
   "outputs": [],
   "source": [
    "emp_dict = {\n",
    "    'fname':'Amar',\n",
    "    'lname':'deep', \n",
    "    'dept':'finance', \n",
    "    'age':31, \n",
    "    'salary':10000, \n",
    "    'bonus':30000, \n",
    "    'is_manager':True, \n",
    "    'is_executive':False, \n",
    "    'company':'Acme'}"
   ]
  },
  {
   "cell_type": "code",
   "execution_count": 5,
   "metadata": {},
   "outputs": [
    {
     "name": "stdout",
     "output_type": "stream",
     "text": [
      "{'fname': 'Amar', 'lname': 'deep', 'dept': 'finance', 'age': 31, 'salary': 10000, 'bonus': 30000, 'is_manager': True, 'is_executive': False, 'company': 'Acme'}\n"
     ]
    }
   ],
   "source": [
    "print(emp_dict)"
   ]
  },
  {
   "cell_type": "code",
   "execution_count": 6,
   "metadata": {},
   "outputs": [],
   "source": [
    "weather_data = {\n",
    "    'date':'2019-01-01',\n",
    "    'temp':32,\n",
    "    'details': {\n",
    "        'humidity': 80,\n",
    "        'wind': 10,\n",
    "        'pressure': 30,\n",
    "        'aqi':120\n",
    "    },\n",
    "    'city':'Lucknow',\n",
    "    'type': 'sunshine',\n",
    "    'icon': '☀️'\n",
    "}"
   ]
  },
  {
   "cell_type": "markdown",
   "metadata": {},
   "source": [
    "accessing data from dict"
   ]
  },
  {
   "cell_type": "code",
   "execution_count": 7,
   "metadata": {},
   "outputs": [
    {
     "data": {
      "text/plain": [
       "['date', 'temp', 'details', 'city', 'type', 'icon']"
      ]
     },
     "execution_count": 7,
     "metadata": {},
     "output_type": "execute_result"
    }
   ],
   "source": [
    "list(weather_data.keys())"
   ]
  },
  {
   "cell_type": "code",
   "execution_count": 8,
   "metadata": {},
   "outputs": [
    {
     "data": {
      "text/plain": [
       "['2019-01-01',\n",
       " 32,\n",
       " {'humidity': 80, 'wind': 10, 'pressure': 30, 'aqi': 120},\n",
       " 'Lucknow',\n",
       " 'sunshine',\n",
       " '☀️']"
      ]
     },
     "execution_count": 8,
     "metadata": {},
     "output_type": "execute_result"
    }
   ],
   "source": [
    "list(weather_data.values())"
   ]
  },
  {
   "cell_type": "code",
   "execution_count": 9,
   "metadata": {},
   "outputs": [
    {
     "data": {
      "text/plain": [
       "['fname',\n",
       " 'lname',\n",
       " 'dept',\n",
       " 'age',\n",
       " 'salary',\n",
       " 'bonus',\n",
       " 'is_manager',\n",
       " 'is_executive',\n",
       " 'company']"
      ]
     },
     "execution_count": 9,
     "metadata": {},
     "output_type": "execute_result"
    }
   ],
   "source": [
    "list(emp_dict.keys())"
   ]
  },
  {
   "cell_type": "code",
   "execution_count": 10,
   "metadata": {},
   "outputs": [
    {
     "data": {
      "text/plain": [
       "'Lucknow'"
      ]
     },
     "execution_count": 10,
     "metadata": {},
     "output_type": "execute_result"
    }
   ],
   "source": [
    "weather_data['city']"
   ]
  },
  {
   "cell_type": "code",
   "execution_count": 11,
   "metadata": {},
   "outputs": [
    {
     "data": {
      "text/plain": [
       "{'humidity': 80, 'wind': 10, 'pressure': 30, 'aqi': 120}"
      ]
     },
     "execution_count": 11,
     "metadata": {},
     "output_type": "execute_result"
    }
   ],
   "source": [
    "weather_data['details']"
   ]
  },
  {
   "cell_type": "code",
   "execution_count": 12,
   "metadata": {},
   "outputs": [
    {
     "data": {
      "text/plain": [
       "32"
      ]
     },
     "execution_count": 12,
     "metadata": {},
     "output_type": "execute_result"
    }
   ],
   "source": [
    "weather_data.get('temp')"
   ]
  },
  {
   "cell_type": "code",
   "execution_count": 13,
   "metadata": {},
   "outputs": [],
   "source": [
    "weather_data.get('location')"
   ]
  },
  {
   "cell_type": "code",
   "execution_count": 14,
   "metadata": {},
   "outputs": [
    {
     "data": {
      "text/plain": [
       "'Lucknow'"
      ]
     },
     "execution_count": 14,
     "metadata": {},
     "output_type": "execute_result"
    }
   ],
   "source": [
    "weather_data.get('city','not found')"
   ]
  },
  {
   "cell_type": "code",
   "execution_count": 15,
   "metadata": {},
   "outputs": [
    {
     "data": {
      "text/plain": [
       "'not found'"
      ]
     },
     "execution_count": 15,
     "metadata": {},
     "output_type": "execute_result"
    }
   ],
   "source": [
    "weather_data.get('location','not found')"
   ]
  },
  {
   "cell_type": "code",
   "execution_count": 16,
   "metadata": {},
   "outputs": [
    {
     "name": "stdout",
     "output_type": "stream",
     "text": [
      "fname => Amar\n",
      "lname => deep\n",
      "dept => finance\n",
      "age => 31\n",
      "salary => 10000\n",
      "bonus => 30000\n",
      "is_manager => True\n",
      "is_executive => False\n",
      "company => Acme\n"
     ]
    }
   ],
   "source": [
    "# looping over a dictionary\n",
    "for k in emp_dict:\n",
    "    print(k,'=>', emp_dict[k])"
   ]
  },
  {
   "cell_type": "code",
   "execution_count": 17,
   "metadata": {},
   "outputs": [
    {
     "name": "stdout",
     "output_type": "stream",
     "text": [
      "fname => Amar\n",
      "lname => deep\n",
      "dept => finance\n",
      "age => 31\n",
      "salary => 10000\n",
      "bonus => 30000\n",
      "is_manager => True\n",
      "is_executive => False\n",
      "company => Acme\n"
     ]
    }
   ],
   "source": [
    "# looping over a dictionary using items()\n",
    "for k,v in emp_dict.items():\n",
    "    print(k,'=>', v)"
   ]
  },
  {
   "cell_type": "code",
   "execution_count": 18,
   "metadata": {},
   "outputs": [],
   "source": [
    "# updating an entry in dictionary\n",
    "weather_data['temp'] = 35"
   ]
  },
  {
   "cell_type": "code",
   "execution_count": 19,
   "metadata": {},
   "outputs": [
    {
     "data": {
      "text/plain": [
       "{'date': '2019-01-01',\n",
       " 'temp': 35,\n",
       " 'details': {'humidity': 80, 'wind': 10, 'pressure': 30, 'aqi': 120},\n",
       " 'city': 'Lucknow',\n",
       " 'type': 'sunshine',\n",
       " 'icon': '☀️'}"
      ]
     },
     "execution_count": 19,
     "metadata": {},
     "output_type": "execute_result"
    }
   ],
   "source": [
    "weather_data"
   ]
  },
  {
   "cell_type": "code",
   "execution_count": 23,
   "metadata": {},
   "outputs": [
    {
     "name": "stdout",
     "output_type": "stream",
     "text": [
      "{'fname': 'Amar', 'lname': 'deep', 'dept': 'finance', 'age': 31, 'salary': 10000, 'bonus': 30000, 'is_manager': True, 'is_executive': False, 'company': 'Acme', 'desingation': 'Asst A'}\n"
     ]
    }
   ],
   "source": [
    "# adding data\n",
    "emp_dict['desingation'] = 'Asst A'\n",
    "print(emp_dict)"
   ]
  },
  {
   "cell_type": "code",
   "execution_count": 24,
   "metadata": {},
   "outputs": [
    {
     "name": "stdout",
     "output_type": "stream",
     "text": [
      "{'fname': 'Amar', 'lname': 'deep', 'dept': 'finance', 'age': 31, 'salary': 30000, 'bonus': 30000, 'is_manager': True, 'is_executive': False, 'company': 'Acme', 'desingation': 'Section Manager'}\n"
     ]
    }
   ],
   "source": [
    "# updating data\n",
    "emp_dict['desingation'] = 'Section Manager'\n",
    "# print(emp_dict)\n",
    "emp_dict['salary'] = 30000\n",
    "print(emp_dict)"
   ]
  },
  {
   "cell_type": "code",
   "execution_count": 28,
   "metadata": {},
   "outputs": [],
   "source": [
    "if 'is_executive' in emp_dict:\n",
    "    emp_dict.pop('is_executive') # removes an entry"
   ]
  },
  {
   "cell_type": "code",
   "execution_count": 26,
   "metadata": {},
   "outputs": [
    {
     "data": {
      "text/plain": [
       "{'fname': 'Amar',\n",
       " 'lname': 'deep',\n",
       " 'dept': 'finance',\n",
       " 'age': 31,\n",
       " 'salary': 30000,\n",
       " 'bonus': 30000,\n",
       " 'is_manager': True,\n",
       " 'company': 'Acme',\n",
       " 'desingation': 'Section Manager'}"
      ]
     },
     "execution_count": 26,
     "metadata": {},
     "output_type": "execute_result"
    }
   ],
   "source": [
    "emp_dict"
   ]
  },
  {
   "cell_type": "code",
   "execution_count": 1,
   "metadata": {},
   "outputs": [],
   "source": [
    "reports = {\n",
    "    '001': {\n",
    "        'name': 'Amar',\n",
    "        'subjects': {'English': 80, 'Maths': 90, 'Science': 95}\n",
    "    },\n",
    "    '002': {\n",
    "        'name': 'Vijay',\n",
    "        'subjects': {'English': 70, 'Maths': 60, 'Science': 85}\n",
    "    },\n",
    "    '003': {\n",
    "        'name': 'Raj',\n",
    "        'subjects': {'English': 60, 'Maths': 50, 'Science': 45}\n",
    "    },\n",
    "}"
   ]
  },
  {
   "cell_type": "code",
   "execution_count": 11,
   "metadata": {},
   "outputs": [
    {
     "name": "stdout",
     "output_type": "stream",
     "text": [
      "Roll no. 001\n",
      "name Amar\n",
      "subjects\n",
      "English 80\n",
      "Maths 90\n",
      "Science 95\n",
      "Total: 265/300\n",
      "Prct: 88.33%\n",
      "--------------------\n",
      "Roll no. 002\n",
      "name Vijay\n",
      "subjects\n",
      "English 70\n",
      "Maths 60\n",
      "Science 85\n",
      "Total: 215/300\n",
      "Prct: 71.67%\n",
      "--------------------\n",
      "Roll no. 003\n",
      "name Raj\n",
      "subjects\n",
      "English 60\n",
      "Maths 50\n",
      "Science 45\n",
      "Total: 155/300\n",
      "Prct: 51.67%\n",
      "--------------------\n"
     ]
    }
   ],
   "source": [
    "for roll, data in reports.items():\n",
    "    print(\"Roll no.\",roll)\n",
    "    for key, val in data.items():\n",
    "        if isinstance(val, dict):\n",
    "            print(key)\n",
    "            total = 0 # before loop set total marks to 0\n",
    "            for sub, marks in val.items():\n",
    "                print(sub, marks)\n",
    "                total += marks # add marks to total\n",
    "            print(f'Total: {total}/300') # display\n",
    "            print(f'Prct: {total/300*100:.2f}%') # display\n",
    "        else:\n",
    "            print(key, val)\n",
    "    print('--'*10)\n"
   ]
  },
  {
   "cell_type": "markdown",
   "metadata": {},
   "source": [
    "file handling\n",
    "- open a file\n",
    "- reading a file\n",
    "- writing a file\n",
    "- appending a file"
   ]
  },
  {
   "cell_type": "code",
   "execution_count": 14,
   "metadata": {},
   "outputs": [
    {
     "name": "stdout",
     "output_type": "stream",
     "text": [
      "print('Hi there')\n"
     ]
    }
   ],
   "source": [
    "f = open('hello.py')\n",
    "print(f.read())"
   ]
  },
  {
   "cell_type": "code",
   "execution_count": 17,
   "metadata": {},
   "outputs": [
    {
     "name": "stdout",
     "output_type": "stream",
     "text": [
      "1347020 characters\n"
     ]
    }
   ],
   "source": [
    "f = open(r'C:\\Users\\ZAID\\Downloads\\weather.csv')\n",
    "content = f.read()\n",
    "print(f'{len(content)} characters')"
   ]
  },
  {
   "cell_type": "code",
   "execution_count": 18,
   "metadata": {},
   "outputs": [],
   "source": [
    "data='hi everyone, this is a sample file'\n",
    "with open('mydata.txt', 'w') as file:\n",
    "    file.write(data)"
   ]
  },
  {
   "cell_type": "code",
   "execution_count": null,
   "metadata": {},
   "outputs": [],
   "source": [
    "# not to be used\n",
    "# file = open('mydata.txt','w')\n",
    "# file.write(data)\n",
    "# file.close()"
   ]
  },
  {
   "cell_type": "code",
   "execution_count": 19,
   "metadata": {},
   "outputs": [],
   "source": [
    "data='\\nthis is the new data the is going to be written'\n",
    "with open('mydata.txt', 'a') as file:\n",
    "    file.write(data)"
   ]
  },
  {
   "cell_type": "code",
   "execution_count": 20,
   "metadata": {},
   "outputs": [
    {
     "name": "stdout",
     "output_type": "stream",
     "text": [
      "File bio.txt saved\n"
     ]
    }
   ],
   "source": [
    "file = 'bio.txt'\n",
    "content = ''\n",
    "\n",
    "while True:\n",
    "    line = input('Enter a line (or q to quit): ')\n",
    "    if line == 'q':\n",
    "        break\n",
    "    content += line + '\\n'\n",
    "\n",
    "with open(file, 'w') as f:\n",
    "    f.write(content)\n",
    "    print(f'File {file} saved')"
   ]
  },
  {
   "cell_type": "code",
   "execution_count": null,
   "metadata": {},
   "outputs": [],
   "source": []
  }
 ],
 "metadata": {
  "kernelspec": {
   "display_name": "Python 3.9.13 ('base')",
   "language": "python",
   "name": "python3"
  },
  "language_info": {
   "codemirror_mode": {
    "name": "ipython",
    "version": 3
   },
   "file_extension": ".py",
   "mimetype": "text/x-python",
   "name": "python",
   "nbconvert_exporter": "python",
   "pygments_lexer": "ipython3",
   "version": "3.9.13"
  },
  "orig_nbformat": 4,
  "vscode": {
   "interpreter": {
    "hash": "203ec5af3e26acf3e3c83a4183d4b4efe59642f60e2721ccf6236536a59ece46"
   }
  }
 },
 "nbformat": 4,
 "nbformat_minor": 2
}
