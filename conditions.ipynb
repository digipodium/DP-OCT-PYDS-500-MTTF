{
 "cells": [
  {
   "cell_type": "markdown",
   "metadata": {},
   "source": [
    "# condition\n",
    "1. if\n",
    "2. if else\n",
    "3. if elif else\n",
    "4. nested if\n",
    "5. match case (only works on python 3.10 or above)"
   ]
  },
  {
   "cell_type": "markdown",
   "metadata": {},
   "source": [
    "syntax\n",
    "\n",
    "```\n",
    "if condition:\n",
    "    statement\n",
    "```\n"
   ]
  },
  {
   "cell_type": "code",
   "execution_count": 1,
   "metadata": {},
   "outputs": [
    {
     "name": "stdout",
     "output_type": "stream",
     "text": [
      "100 is greater than 10\n"
     ]
    }
   ],
   "source": [
    "if 100 > 10:\n",
    "    print('100 is greater than 10')"
   ]
  },
  {
   "cell_type": "code",
   "execution_count": 4,
   "metadata": {},
   "outputs": [],
   "source": [
    "if 5 > 10:\n",
    "    print('5 is greater than 10')"
   ]
  },
  {
   "cell_type": "code",
   "execution_count": 10,
   "metadata": {},
   "outputs": [
    {
     "name": "stdout",
     "output_type": "stream",
     "text": [
      "this is great\n",
      "10 is greater than 20\n"
     ]
    }
   ],
   "source": [
    "a = 10\n",
    "b = 20\n",
    "if a < b:\n",
    "    print('this is great')\n",
    "    print(f'{a} is greater than {b}')"
   ]
  },
  {
   "cell_type": "code",
   "execution_count": 16,
   "metadata": {},
   "outputs": [],
   "source": [
    "data = input(\"enter a data: \")\n",
    "if data.isalpha():\n",
    "    print(\"this is a string\")\n",
    "if data.isnumeric():\n",
    "    print(\"this is a number\")\n",
    "if data.isspace():\n",
    "    print(\"this is a space\")"
   ]
  },
  {
   "cell_type": "code",
   "execution_count": 20,
   "metadata": {},
   "outputs": [
    {
     "name": "stdout",
     "output_type": "stream",
     "text": [
      "it's cool\n"
     ]
    }
   ],
   "source": [
    "temp = 10\n",
    "if temp > 25:\n",
    "    print(\"it's hot \")\n",
    "else:\n",
    "    print(\"it's cool\")"
   ]
  },
  {
   "cell_type": "code",
   "execution_count": 24,
   "metadata": {},
   "outputs": [
    {
     "name": "stdout",
     "output_type": "stream",
     "text": [
      "Not found in the Database\n"
     ]
    }
   ],
   "source": [
    "fruit = input(\"what fruit do you like? \")\n",
    "if fruit == 'apple':\n",
    "    print('An apple a day keeps the doctor away')\n",
    "elif fruit == 'mango':\n",
    "    print('Mango is the king of fruits')\n",
    "elif fruit == 'banana':\n",
    "    print('Banana is a good source of potassium')\n",
    "elif fruit == 'orange':\n",
    "    print('Orange is a good source of vitamin C')\n",
    "else:\n",
    "    print('Not found in the Database')"
   ]
  },
  {
   "cell_type": "code",
   "execution_count": 28,
   "metadata": {},
   "outputs": [
    {
     "name": "stdout",
     "output_type": "stream",
     "text": [
      "Welcome Sam\n"
     ]
    }
   ],
   "source": [
    "username  =  input ( \"Enter your username: \" )\n",
    "password  =  input ( \"Enter your password: \" )\n",
    "if username == 'sam':\n",
    "    if password == '123':\n",
    "        print ( \"Welcome Sam\" )\n",
    "    else:\n",
    "        print ( \"Wrong password\" )\n",
    "else:\n",
    "    print ( \"Wrong username\" )"
   ]
  },
  {
   "cell_type": "code",
   "execution_count": 29,
   "metadata": {},
   "outputs": [
    {
     "name": "stdout",
     "output_type": "stream",
     "text": [
      "Welcome Sam\n"
     ]
    }
   ],
   "source": [
    "# this can also be written as\n",
    "if username == 'sam' and password == '123':\n",
    "    print ( \"Welcome Sam\" )\n",
    "else:\n",
    "    print ( \"Wrong username or password\" )"
   ]
  },
  {
   "cell_type": "markdown",
   "metadata": {},
   "source": [
    "# wap to calculate the employee total salary based on follwoing conditions\n",
    "- if basic salary is less than 10000 then hra is 10% of basic salary and da is 90% of basic salary\n",
    "- if basic salary is greater than 10000 then hra is 20% of basic salary and da is 80% of basic salary\n",
    "- if basic salary is greater than 20000 then hra is 25% of basic salary and da is 75% of basic salary"
   ]
  },
  {
   "cell_type": "markdown",
   "metadata": {},
   "source": []
  }
 ],
 "metadata": {
  "kernelspec": {
   "display_name": "Python 3.9.13 ('base')",
   "language": "python",
   "name": "python3"
  },
  "language_info": {
   "codemirror_mode": {
    "name": "ipython",
    "version": 3
   },
   "file_extension": ".py",
   "mimetype": "text/x-python",
   "name": "python",
   "nbconvert_exporter": "python",
   "pygments_lexer": "ipython3",
   "version": "3.9.13"
  },
  "orig_nbformat": 4,
  "vscode": {
   "interpreter": {
    "hash": "203ec5af3e26acf3e3c83a4183d4b4efe59642f60e2721ccf6236536a59ece46"
   }
  }
 },
 "nbformat": 4,
 "nbformat_minor": 2
}
