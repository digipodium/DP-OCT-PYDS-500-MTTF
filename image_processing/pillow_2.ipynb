{
 "cells": [
  {
   "cell_type": "code",
   "execution_count": 2,
   "metadata": {},
   "outputs": [],
   "source": [
    "from PIL import Image, ImageDraw, ImageFont, ImageFilter, ImageEnhance"
   ]
  },
  {
   "cell_type": "code",
   "execution_count": 3,
   "metadata": {},
   "outputs": [],
   "source": [
    "im1 = Image.open('image.jpg')\n",
    "im2 = Image.open('image2.jpg')\n",
    "im3 = Image.open('image3.png')\n",
    "im4 = Image.open('image4.png')"
   ]
  },
  {
   "cell_type": "code",
   "execution_count": 13,
   "metadata": {},
   "outputs": [
    {
     "data": {
      "image/png": "[encoded data removed]",
      "text/plain": [
       "<PIL.Image.Image image mode=RGB size=300x300>"
      ]
     },
     "execution_count": 13,
     "metadata": {},
     "output_type": "execute_result"
    }
   ],
   "source": [
    "# create a blank 800x600 purple image\n",
    "im5 = Image.new('RGB', (300, 300), (0, 255, 255))\n",
    "im5"
   ]
  },
  {
   "cell_type": "code",
   "execution_count": 20,
   "metadata": {},
   "outputs": [],
   "source": [
    "im55 = im5.copy()\n",
    "fnt = ImageFont.truetype('font.ttf', 40)\n",
    "d = ImageDraw.Draw(im55)\n",
    "# draw hello at 10, 10 with red color\n",
    "grey = (100, 100, 100)\n",
    "d.text((10, 10), \"Hello\", font=fnt, fill=grey)\n",
    "d.text((10, 60), \"How\", font=fnt, fill=grey)\n",
    "d.text((10, 100), \"old\", font=fnt, fill=grey)\n",
    "d.text((10, 140), \"are\", font=fnt, fill=grey)\n",
    "d.text((10, 180), \"you?\", font=fnt, fill=grey)\n",
    "im55.show()"
   ]
  },
  {
   "cell_type": "code",
   "execution_count": 23,
   "metadata": {},
   "outputs": [],
   "source": [
    "im11 = im1.copy()\n",
    "d = ImageDraw.Draw(im11)\n",
    "# draw a outer circle\n",
    "d.ellipse((100, 100, 200, 200), fill=(255, 0, 0))\n",
    "# draw a inner circle\n",
    "d.ellipse((120, 120, 180, 180), fill=(0, 255, 0))\n",
    "im11.show()\n"
   ]
  },
  {
   "cell_type": "code",
   "execution_count": 30,
   "metadata": {},
   "outputs": [],
   "source": [
    "im33 = im3.copy()\n",
    "d = ImageDraw.Draw(im33)\n",
    "# draw a rectangle on the top and bottom of the image with 100px height and black\n",
    "d.rectangle((0, 0, im33.width, 100), fill=(0, 0, 0))\n",
    "d.rectangle((0, im33.height - 100, im33.width, im33.height), fill=(0, 0, 0))\n",
    "# add a text in the top rectangle in the middle with white\n",
    "fnt = ImageFont.truetype('font.ttf', 40)\n",
    "d.text((im33.width / 2 - 100, 30), \"Happy New\", font=fnt, fill=(255, 255, 255), align='center')\n",
    "d.text((im33.width / 2 - 100, im33.height - 70), \"Year 2023\", \n",
    "        font=fnt, fill=(255, 255, 255), align='center')\n",
    "im33.show()"
   ]
  },
  {
   "cell_type": "code",
   "execution_count": null,
   "metadata": {},
   "outputs": [],
   "source": []
  }
 ],
 "metadata": {
  "kernelspec": {
   "display_name": "base",
   "language": "python",
   "name": "python3"
  },
  "language_info": {
   "codemirror_mode": {
    "name": "ipython",
    "version": 3
   },
   "file_extension": ".py",
   "mimetype": "text/x-python",
   "name": "python",
   "nbconvert_exporter": "python",
   "pygments_lexer": "ipython3",
   "version": "3.9.13"
  },
  "orig_nbformat": 4,
  "vscode": {
   "interpreter": {
    "hash": "203ec5af3e26acf3e3c83a4183d4b4efe59642f60e2721ccf6236536a59ece46"
   }
  }
 },
 "nbformat": 4,
 "nbformat_minor": 2
}
